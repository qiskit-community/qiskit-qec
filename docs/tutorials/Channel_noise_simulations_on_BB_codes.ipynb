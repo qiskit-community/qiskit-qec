{
 "cells": [
  {
   "cell_type": "code",
   "execution_count": 82,
   "id": "f04015a0-2d6b-4498-a773-b7bcd12ab2db",
   "metadata": {},
   "outputs": [],
   "source": [
    "import numpy as np\n",
    "import itertools\n",
    "from ldpc import bposd_decoder\n",
    "from bposd.css import css_code\n",
    "from random import random\n",
    "import matplotlib.pyplot as plt"
   ]
  },
  {
   "cell_type": "markdown",
   "id": "99cb11e5-4df5-40b3-b5a0-674ee4a9962f",
   "metadata": {
    "tags": []
   },
   "source": [
    "## Channel noise simulations on Bivariate Bicycle (BB) codes"
   ]
  },
  {
   "cell_type": "markdown",
   "id": "15442c43-3f2d-42db-a3b8-afa6bcb1f703",
   "metadata": {},
   "source": [
    "### Establish functions for building and simulating quantum codes"
   ]
  },
  {
   "cell_type": "code",
   "execution_count": 83,
   "id": "11058a03-66f1-4e58-84cc-f488ceba4ad4",
   "metadata": {},
   "outputs": [],
   "source": [
    "# Credit for this cell: S. Bravyi\n",
    "\n",
    "# Takes as input a binary matrix A\n",
    "# Returns a matrix whose rows span the nullspace Ker(A) modulo two\n",
    "def null2(A):\n",
    "    rows,n = A.shape\n",
    "    X = np.identity(n,dtype=int)\n",
    "\n",
    "    for i in range(rows):\n",
    "        y = np.dot(A[i,:], X) % 2\n",
    "        not_y = (y + 1) % 2\n",
    "        good = X[:,np.nonzero(not_y)]\n",
    "        good = good[:,0,:]\n",
    "        bad = X[:, np.nonzero(y)]\n",
    "        bad = bad[:,0,:]\n",
    "        if bad.shape[1]>0 :\n",
    "            bad = np.add(bad,  np.roll(bad, 1, axis=1) ) \n",
    "            bad = bad % 2\n",
    "            bad = np.delete(bad, 0, axis=1)\n",
    "            X = np.concatenate((good, bad), axis=1)\n",
    "    # now columns of X span the binary null-space of A\n",
    "    return np.transpose(X)\n",
    "\n",
    "\n",
    "# Takes as input a binary square matrix A\n",
    "# Returns the rank of A over the binary field F_2\n",
    "def rank2(A):\n",
    "    rows,n = A.shape\n",
    "    X = np.identity(n,dtype=int)\n",
    "\n",
    "    for i in range(rows):\n",
    "        y = np.dot(A[i,:], X) % 2\n",
    "        not_y = (y + 1) % 2\n",
    "        good = X[:,np.nonzero(not_y)]\n",
    "        good = good[:,0,:]\n",
    "        bad = X[:, np.nonzero(y)]\n",
    "        bad = bad[:,0,:]\n",
    "        if bad.shape[1]>0 :\n",
    "            bad = np.add(bad,  np.roll(bad, 1, axis=1) ) \n",
    "            bad = bad % 2\n",
    "            bad = np.delete(bad, 0, axis=1)\n",
    "            X = np.concatenate((good, bad), axis=1)\n",
    "    # now columns of X span the binary null-space of A\n",
    "    return n - X.shape[1]\n",
    "\n",
    "# Get an upper bound on the code distance with BP-OSD\n",
    "def distance_upper_bound(gx,gz,trials=1000,max_iter=1024,osd_order=4):\n",
    "    # Finds Z-type distance. Switch gx and gz for X-type distance.\n",
    "    n = gz.shape[1]\n",
    "    assert(n==gx.shape[1])\n",
    "    gz_perp = null2(gz)\n",
    "    gx_perp = null2(gx)\n",
    "    d = n\n",
    "    for iter in range(trials):\n",
    "        # pick a random logical-X operator and promote it to X-stabilizer\n",
    "        while 1:\n",
    "            random_logical_x = (np.random.randint(2,size=gz_perp.shape[0]) @ gz_perp) % 2\n",
    "            if np.count_nonzero(((gx_perp @ random_logical_x) % 2)>0):\n",
    "                break\n",
    "        augmented_gx = np.vstack([gx,random_logical_x])\n",
    "        syndrome=np.zeros(augmented_gx.shape[0],dtype=int)\n",
    "        syndrome[-1]=1 # we seek Z-error with the trivial stabilizer syndrome that anticommutes with random_logical_x\n",
    "    \n",
    "        bpd=bposd_decoder(\n",
    "            augmented_gx,#the parity check matrix\n",
    "            error_rate=0.01,# dummy error rate\n",
    "            channel_probs=[None], #assign error_rate to each qubit. This will override \"error_rate\" input variable\n",
    "            max_iter=max_iter, #the maximum number of iterations for BP)\n",
    "            bp_method=\"ms\",\n",
    "            ms_scaling_factor=0, #min sum scaling factor. If set to zero the variable scaling factor method is used\n",
    "            osd_method=\"osd_cs\", #the OSD method. Choose from:  1) \"osd_e\", \"osd_cs\", \"osd0\"\n",
    "            osd_order=osd_order #the osd search depth\n",
    "            )\n",
    "    \n",
    "        bpd.decode(syndrome)\n",
    "        low_weight_logical_z = bpd.osdw_decoding\n",
    "        syndrome1 = (augmented_gx @ low_weight_logical_z) % 2\n",
    "        assert(np.array_equal(syndrome,syndrome1))\n",
    "        wt = np.count_nonzero(low_weight_logical_z)\n",
    "        if wt>0:\n",
    "            d = min(d,wt)\n",
    "    return d"
   ]
  },
  {
   "cell_type": "code",
   "execution_count": 35,
   "id": "5b3c9161-09a5-4c04-bd94-657f1688b2bf",
   "metadata": {},
   "outputs": [],
   "source": [
    "# returns the parity check matrices of a ell-by-m toric code\n",
    "def toric_code(ell,m):\n",
    "    n = 2*ell*m\n",
    "    # define cyclic shift matrices \n",
    "    I_ell = np.identity(ell,dtype=int)\n",
    "    I_m = np.identity(m,dtype=int)\n",
    "    I = np.identity(ell*m,dtype=int)\n",
    "    x = np.kron(np.roll(I_ell,1,axis=1),I_m)\n",
    "    y = np.kron(I_ell,np.roll(I_m,1,axis=1))\n",
    "    \n",
    "    # define parity check matrices\n",
    "    A = (np.identity(ell*m) + y) % 2\n",
    "    B = (np.identity(ell*m) + x) % 2\n",
    "\n",
    "    AT = np.transpose(A)\n",
    "    BT = np.transpose(B)\n",
    "\n",
    "    hx = np.hstack((A,B))\n",
    "    hz = np.hstack((BT,AT))\n",
    "    \n",
    "    return hx,hz"
   ]
  },
  {
   "cell_type": "code",
   "execution_count": 43,
   "id": "82d17bbb-5bae-4bec-a30b-4a85775e1a06",
   "metadata": {},
   "outputs": [
    {
     "name": "stdout",
     "output_type": "stream",
     "text": [
      "number of qubits: 50\n",
      "number of encoded qubits: 2\n",
      "distance: <= 5\n"
     ]
    }
   ],
   "source": [
    "# check the code parameters\n",
    "\n",
    "hx,hz = toric_code(5,5)\n",
    "\n",
    "print(\"number of qubits:\", (hx.shape)[1])\n",
    "print(\"number of encoded qubits:\", (hx.shape)[1] - rank2(hx) - rank2(hz))\n",
    "print(\"distance: <=\", distance_upper_bound(hx,hz)) # X and Z type distances are the same, so we just calculate one"
   ]
  },
  {
   "cell_type": "code",
   "execution_count": 84,
   "id": "e9103f41-23dc-449c-800d-5f6c09a72921",
   "metadata": {},
   "outputs": [],
   "source": [
    "# returns the parity check matrices of a bivariate bicycle code arXiv:2308.07915\n",
    "# p1 = (a,b,c), p2 = (d,e,f)\n",
    "# A = x^a + y^b + y^c\n",
    "# B = y^d + x^e + x^f\n",
    "def BB_code(ell,m,p1,p2):\n",
    "    n = 2*ell*m\n",
    "    a,b,c=p1\n",
    "    d,e,f=p2\n",
    "    # define cyclic shift matrices \n",
    "    I_ell = np.identity(ell,dtype=int)\n",
    "    I_m = np.identity(m,dtype=int)\n",
    "    I = np.identity(ell*m,dtype=int)\n",
    "    x = np.kron(np.roll(I_ell,1,axis=1),I_m)\n",
    "    y = np.kron(I_ell,np.roll(I_m,1,axis=1))\n",
    "    \n",
    "    # define parity check matrices\n",
    "    A = (np.linalg.matrix_power(x,a) + np.linalg.matrix_power(y,b) + np.linalg.matrix_power(y,c)) % 2\n",
    "    B = (np.linalg.matrix_power(y,d) + np.linalg.matrix_power(x,e) + np.linalg.matrix_power(x,f)) % 2\n",
    "\n",
    "    AT = np.transpose(A)\n",
    "    BT = np.transpose(B)\n",
    "\n",
    "    hx = np.hstack((A,B))\n",
    "    hz = np.hstack((BT,AT))\n",
    "    \n",
    "    return hx,hz"
   ]
  },
  {
   "cell_type": "code",
   "execution_count": 66,
   "id": "44427e8d-d3b0-4474-bd37-22c773297d4f",
   "metadata": {},
   "outputs": [
    {
     "name": "stdout",
     "output_type": "stream",
     "text": [
      "number of qubits: 144\n",
      "number of encoded qubits: 12\n",
      "distance: <= 12\n"
     ]
    }
   ],
   "source": [
    "# check the code parameters\n",
    "\n",
    "hx,hz = BB_code(12,6,(3,2,1),(3,2,1))\n",
    "\n",
    "print(\"number of qubits:\", (hx.shape)[1])\n",
    "print(\"number of encoded qubits:\", (hx.shape)[1] - rank2(hx) - rank2(hz))\n",
    "print(\"distance: <=\", distance_upper_bound(hx,hz)) # X and Z type distances are the same, so we just calculate one"
   ]
  },
  {
   "cell_type": "code",
   "execution_count": 85,
   "id": "5fef4c33-b088-4cd8-9157-885c1413bc55",
   "metadata": {},
   "outputs": [],
   "source": [
    "# generates noise with rate p on each qubit and calculates the syndrome of parity check matrix h\n",
    "def generate_sample(h,p):\n",
    "    r, c = h.shape\n",
    "    v = np.array([1 if random()<p else 0 for i in range(c)])\n",
    "    s = np.array((h@v)%2)\n",
    "    return v,s"
   ]
  },
  {
   "cell_type": "markdown",
   "id": "bea26561-f0dd-4021-8031-a2a5cdffbe20",
   "metadata": {},
   "source": [
    "### Simulate toric codes"
   ]
  },
  {
   "cell_type": "code",
   "execution_count": 73,
   "id": "79276641-7954-4d26-a8e4-2a1782ecab23",
   "metadata": {},
   "outputs": [
    {
     "name": "stdout",
     "output_type": "stream",
     "text": [
      "0.0167897918065816\n"
     ]
    }
   ],
   "source": [
    "# Simualate a toric code at one physical error rate -- returns the logical failure rate\n",
    "\n",
    "hx,hz = toric_code(7,7)\n",
    "\n",
    "# bases for logical operators (including trivial logicals, i.e. stabilizers)\n",
    "lx = null2(hz)\n",
    "lz = null2(hx)\n",
    "\n",
    "# each data point is constructed using a minimum number of samples and a minimum number of fail cases\n",
    "min_samples = 1000\n",
    "min_fail = 50 \n",
    "\n",
    "p=0.05 # set a physical error rate\n",
    "\n",
    "# create the BP decoder\n",
    "bpd=bposd_decoder(\n",
    "     hz, # the z-type parity check matrix\n",
    "     error_rate=p,\n",
    "     max_iter=1000, # max number of iterations for BP\n",
    "     bp_method=\"ms\",\n",
    "     ms_scaling_factor=0,\n",
    "     osd_method=\"osd_cs\", # can find defintions of these\n",
    "     osd_order=4 # last two parameters in arxiv:2005.07016\n",
    "    )\n",
    "\n",
    "N = 0\n",
    "fail = 0\n",
    "while fail<min_fail or N<min_samples:\n",
    "    error,syndrome = generate_sample(hz,p) # introduce X noise (anticommutes with hz checks) at rate p\n",
    "    bpd.decode(syndrome)\n",
    "    correction = bpd.osdw_decoding\n",
    "    # correction + error is guaranteed to commute with stabilizers because of osd postprocessing\n",
    "    # assert(np.count_nonzero(hz@(correction+error)%2)==0) \n",
    "    if np.count_nonzero((lz@(correction+error))%2)>0: # correction + error is a logical error\n",
    "        fail+=1\n",
    "    N+=1\n",
    "\n",
    "print(float(fail/N))"
   ]
  },
  {
   "cell_type": "code",
   "execution_count": 64,
   "id": "2fe01653-e016-4a42-a975-6609592c810a",
   "metadata": {},
   "outputs": [
    {
     "name": "stdout",
     "output_type": "stream",
     "text": [
      "{0: [(0.03, 0.029359953024075163), (0.05, 0.068), (0.07, 0.123), (0.09, 0.189), (0.11, 0.275)], 1: [(0.03, 0.0060805058980907215), (0.05, 0.03759398496240601), (0.07, 0.094), (0.09, 0.208), (0.11, 0.303)], 2: [(0.03, 0.002792984024131382), (0.05, 0.023234200743494422), (0.07, 0.074), (0.09, 0.189), (0.11, 0.317)], 3: [(0.03, 0.000613903690788989), (0.05, 0.011609008590666357), (0.07, 0.063), (0.09, 0.199), (0.11, 0.359)], 4: [(0.03, 0.00023027149008681235), (0.05, 0.0077724234416291), (0.07, 0.065), (0.09, 0.195), (0.11, 0.381)], 5: [(0.03, 9.785865687036272e-05), (0.05, 0.005474052988832932), (0.07, 0.056), (0.09, 0.204), (0.11, 0.42)]}\n"
     ]
    }
   ],
   "source": [
    "# Simualate a toric code family over multiple physical error rates\n",
    "# ****** WARNING ****** This cell takes ~1 hour to run\n",
    "\n",
    "# these are toric codes of distances 3,5,7,9,11,13\n",
    "code_family = [toric_code(m,m) for m in range(3,15,2)]\n",
    "\n",
    "# each data point is constructed using a minimum number of samples and a minimum number of fail cases\n",
    "min_samples = 1000\n",
    "min_fail = 50 \n",
    "\n",
    "data_tc={}\n",
    "for i in range(len(code_family)):\n",
    "    data_tc[i]=[]\n",
    "    hx,hz = code_family[i]\n",
    "    # bases for logical operators (including trivial logicals, i.e. stabilizers)\n",
    "    lx = null2(hz)\n",
    "    lz = null2(hx)\n",
    "    for p in [0.03,0.05,0.07,0.09,0.11]:\n",
    "        bpd=bposd_decoder(\n",
    "             hz, # the z-type parity check matrix\n",
    "             error_rate=p,\n",
    "             max_iter=1000, # max number of iterations for BP\n",
    "             bp_method=\"ms\",\n",
    "             ms_scaling_factor=0,\n",
    "             osd_method=\"osd_cs\", # can find defintions of these\n",
    "             osd_order=4 # last two parameters in arxiv:2005.07016\n",
    "            )\n",
    "        N = 0\n",
    "        fail = 0\n",
    "        while fail<min_fail or N<min_samples:\n",
    "            error,syndrome = generate_sample(hz,p) # introduce X noise (anticommutes with hz checks) at rate p\n",
    "            bpd.decode(syndrome)\n",
    "            correction = bpd.osdw_decoding\n",
    "            # correction + error is guaranteed to commute with stabilizers because of osd postprocessing\n",
    "            # assert(np.count_nonzero(hz@(correction+error)%2)==0) \n",
    "            if np.count_nonzero((lz@(correction+error))%2)>0: # correction + error is a logical error\n",
    "                fail+=1\n",
    "            N+=1\n",
    "        data_tc[i].append((p,float(fail/N)))\n",
    "print(data_tc)"
   ]
  },
  {
   "cell_type": "code",
   "execution_count": 86,
   "id": "9bbf5174-8ee9-4e9a-a2fa-5242bf2b58a6",
   "metadata": {},
   "outputs": [
    {
     "data": {
      "image/png": "[encoded data removed]",
      "text/plain": [
       "<Figure size 640x480 with 1 Axes>"
      ]
     },
     "metadata": {},
     "output_type": "display_data"
    }
   ],
   "source": [
    "for i in range(len(data_tc)):\n",
    "    plt.loglog([p[0] for p in data_tc[i]],[p[1] for p in data_tc[i]])\n",
    "plt.ylabel('logical error rate')\n",
    "plt.xlabel('physical error rate')\n",
    "plt.show()"
   ]
  },
  {
   "cell_type": "markdown",
   "id": "46c6340a-e801-4e92-8bdf-1e58b84260db",
   "metadata": {},
   "source": [
    "### Simulate a BB code family from arXiv:2308.07915"
   ]
  },
  {
   "cell_type": "code",
   "execution_count": 79,
   "id": "89b62331-fcd8-4251-b733-08139c401011",
   "metadata": {
    "collapsed": true,
    "jupyter": {
     "outputs_hidden": true
    },
    "tags": []
   },
   "outputs": [
    {
     "ename": "KeyboardInterrupt",
     "evalue": "",
     "output_type": "error",
     "traceback": [
      "\u001b[0;31m---------------------------------------------------------------------------\u001b[0m",
      "\u001b[0;31mKeyboardInterrupt\u001b[0m                         Traceback (most recent call last)",
      "Cell \u001b[0;32mIn[79], line 32\u001b[0m\n\u001b[1;32m     29\u001b[0m correction \u001b[38;5;241m=\u001b[39m bpd\u001b[38;5;241m.\u001b[39mosdw_decoding\n\u001b[1;32m     30\u001b[0m \u001b[38;5;66;03m# correction + error is guaranteed to commute with stabilizers because of osd postprocessing\u001b[39;00m\n\u001b[1;32m     31\u001b[0m \u001b[38;5;66;03m# assert(np.count_nonzero(hz@(correction+error)%2)==0) \u001b[39;00m\n\u001b[0;32m---> 32\u001b[0m \u001b[38;5;28;01mif\u001b[39;00m np\u001b[38;5;241m.\u001b[39mcount_nonzero((\u001b[43mlz\u001b[49m\u001b[38;5;241;43m@\u001b[39;49m\u001b[43m(\u001b[49m\u001b[43mcorrection\u001b[49m\u001b[38;5;241;43m+\u001b[39;49m\u001b[43merror\u001b[49m\u001b[43m)\u001b[49m)\u001b[38;5;241m%\u001b[39m\u001b[38;5;241m2\u001b[39m)\u001b[38;5;241m>\u001b[39m\u001b[38;5;241m0\u001b[39m: \u001b[38;5;66;03m# correction + error is a logical error\u001b[39;00m\n\u001b[1;32m     33\u001b[0m     fail\u001b[38;5;241m+\u001b[39m\u001b[38;5;241m=\u001b[39m\u001b[38;5;241m1\u001b[39m\n\u001b[1;32m     34\u001b[0m N\u001b[38;5;241m+\u001b[39m\u001b[38;5;241m=\u001b[39m\u001b[38;5;241m1\u001b[39m\n",
      "\u001b[0;31mKeyboardInterrupt\u001b[0m: "
     ]
    }
   ],
   "source": [
    "# Simualate a more general BB code family over multiple physical error rates\n",
    "# ****** WARNING ****** This cell takes several hours to run\n",
    "\n",
    "code_family = [BB_code(6,6,(3,2,1),(3,2,1)),BB_code(9,6,(3,2,1),(3,2,1)),BB_code(12,6,(3,2,1),(3,2,1))]\n",
    "\n",
    "# each data point is constructed using a minimum number of samples and a minimum number of fail cases\n",
    "min_samples = 10000\n",
    "min_fail = 100\n",
    "\n",
    "data={}\n",
    "for i in range(len(code_family)):\n",
    "    data[i]=[]\n",
    "    hx,hz = code_family[i]\n",
    "    # bases for logical operators (including trivial logicals, i.e. stabilizers)\n",
    "    lx = null2(hz)\n",
    "    lz = null2(hx)\n",
    "    for p in [0.005,0.01,0.02,0.03,0.05,0.07,0.09,0.11]:\n",
    "        bpd=bposd_decoder(\n",
    "             hz, # the z-type parity check matrix\n",
    "             error_rate=p,\n",
    "             max_iter=1000, # max number of iterations for BP\n",
    "             bp_method=\"ms\",\n",
    "             ms_scaling_factor=0,\n",
    "             osd_method=\"osd_cs\", # can find defintions of these\n",
    "             osd_order=7 # last two parameters in arxiv:2005.07016\n",
    "            )\n",
    "        N = 0\n",
    "        fail = 0\n",
    "        while fail<min_fail or N<min_samples:\n",
    "            error,syndrome = generate_sample(hz,p) # introduce X noise (anticommutes with hz checks) at rate p\n",
    "            bpd.decode(syndrome)\n",
    "            correction = bpd.osdw_decoding\n",
    "            # correction + error is guaranteed to commute with stabilizers because of osd postprocessing\n",
    "            # assert(np.count_nonzero(hz@(correction+error)%2)==0) \n",
    "            if np.count_nonzero((lz@(correction+error))%2)>0: # correction + error is a logical error\n",
    "                fail+=1\n",
    "            N+=1\n",
    "        data[i].append((p,float(fail/N)))\n",
    "print(data)"
   ]
  },
  {
   "cell_type": "code",
   "execution_count": 80,
   "id": "39625964-05fa-47be-b220-cedd3fe47251",
   "metadata": {},
   "outputs": [
    {
     "name": "stdout",
     "output_type": "stream",
     "text": [
      "{0: [(0.005, 0.0001819246904551392), (0.01, 0.0013176445785513815), (0.02, 0.0103), (0.03, 0.0329), (0.05, 0.1538), (0.07, 0.3545), (0.09, 0.5562), (0.11, 0.7509)], 1: [(0.005, 1.8470266964122435e-07), (0.01, 5.732777360941166e-06), (0.02, 0.00026720749463580957), (0.03, 0.0026456426265939995), (0.05, 0.0438), (0.07, 0.1851), (0.09, 0.4144), (0.11, 0.6587)], 2: []}\n"
     ]
    }
   ],
   "source": [
    "# let it run longer (or reduce min_fail and min_samples) to get data for the last code\n",
    "print(data)"
   ]
  },
  {
   "cell_type": "code",
   "execution_count": null,
   "id": "7711a267-ac73-430f-9c94-45bb3722c18c",
   "metadata": {},
   "outputs": [],
   "source": []
  }
 ],
 "metadata": {
  "kernelspec": {
   "display_name": "Python 3 (ipykernel)",
   "language": "python",
   "name": "python3"
  },
  "language_info": {
   "codemirror_mode": {
    "name": "ipython",
    "version": 3
   },
   "file_extension": ".py",
   "mimetype": "text/x-python",
   "name": "python",
   "nbconvert_exporter": "python",
   "pygments_lexer": "ipython3",
   "version": "3.9.6"
  }
 },
 "nbformat": 4,
 "nbformat_minor": 5
}
