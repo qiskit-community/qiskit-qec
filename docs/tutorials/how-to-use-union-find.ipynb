{
 "cells": [
  {
   "attachments": {},
   "cell_type": "markdown",
   "metadata": {},
   "source": [
    "# Using the Union Find decoder in qiskit_qec\n",
    "\n",
    "This notebook will walk you through the process of creating a code, inserting errors and running the union find decoder on it using the qiskit_qec framework. \n",
    "\n",
    "The union find decoder was first proposed by Nicolas Delfosse and Naomi H. Nickerson in 2020 in *Almost linear time decoding algorithm for topological codes*. The core idea of the algorithm is to take a syndrome and \"convert\" it to an erasure. This erasure can be efficiently decoded by an erasure decoder (e.g. peeling decoder in $O(N)$ time). \n",
    "\n",
    "It works by growing clusters which are started around non-typical vertices in the syndrome graph by one half-edge per step in every direction. When two clusters meet, they merge and are considered one cluster.\n",
    "A cluster grows when it is **odd**, meaning that it contains an odd number atypical nodes. \n",
    "\n",
    "The set of edges that is fully grown (meaning grown twice in an unweighted implementation) at the point where there are no more odd clusters, is considered to be the erasure and passed on to the erasure decoder. "
   ]
  },
  {
   "attachments": {},
   "cell_type": "markdown",
   "metadata": {},
   "source": [
    "First we need to import all the relevant stuff:"
   ]
  },
  {
   "cell_type": "code",
   "execution_count": 7,
   "metadata": {},
   "outputs": [],
   "source": [
    "import random\n",
    "\n",
    "from qiskit_qec.analysis.faultenumerator import FaultEnumerator\n",
    "from qiskit_qec.decoders import UnionFindDecoder\n",
    "from qiskit_qec.circuits import SurfaceCodeCircuit, RepetitionCodeCircuit, ArcCircuit\n",
    "from qiskit_qec.noise.paulinoisemodel import PauliNoiseModel"
   ]
  },
  {
   "attachments": {},
   "cell_type": "markdown",
   "metadata": {},
   "source": [
    "Now we create a code:"
   ]
  },
  {
   "cell_type": "code",
   "execution_count": 2,
   "metadata": {},
   "outputs": [],
   "source": [
    "code = RepetitionCodeCircuit(d=8, T=8)"
   ]
  },
  {
   "attachments": {},
   "cell_type": "markdown",
   "metadata": {},
   "source": [
    "Now we define a decoder that runs on our code. This may take a while, as the the decoding graph is quite expensive to compute.\n",
    "\n",
    "Note that we pass in the logical value our circuit is encoding, as the node generation for a given measurement outcome uses this to generate the last round of syndromes. In a real application this logical would be computed as the majority outcome."
   ]
  },
  {
   "cell_type": "code",
   "execution_count": 4,
   "metadata": {},
   "outputs": [],
   "source": [
    "decoder = UnionFindDecoder(code=code, logical=\"0\")"
   ]
  },
  {
   "attachments": {},
   "cell_type": "markdown",
   "metadata": {},
   "source": [
    "Next we are going to define our noise model. This describes what the probabilities for different errors are after different operations. It will be used in the next step to generate the errors."
   ]
  },
  {
   "cell_type": "code",
   "execution_count": 5,
   "metadata": {},
   "outputs": [],
   "source": [
    "p = 0.05\n",
    "\n",
    "noise_model = PauliNoiseModel()\n",
    "noise_model.add_operation(\"cx\", {\"ix\": 1, \"xi\": 1, \"xx\": 1})\n",
    "noise_model.add_operation(\"id\", {\"x\": 1})\n",
    "noise_model.add_operation(\"reset\", {\"x\": 1})\n",
    "noise_model.add_operation(\"measure\", {\"x\": 1})\n",
    "noise_model.add_operation(\"x\", {\"x\": 1, \"y\": 1, \"z\": 1})\n",
    "noise_model.set_error_probability(\"cx\", p)\n",
    "noise_model.set_error_probability(\"x\", p)\n",
    "noise_model.set_error_probability(\"id\", p)\n",
    "noise_model.set_error_probability(\"reset\", p)\n",
    "noise_model.set_error_probability(\"measure\", p)"
   ]
  },
  {
   "attachments": {},
   "cell_type": "markdown",
   "metadata": {},
   "source": [
    "Now we will use a very handy class: FaultEnumerator.\n",
    "\n",
    "This class is responsible of adding single error events to our circuit, which our decoder will try to find and correct for.\n",
    "\n",
    "We pass in the circuit in our code encoding a logical $0$, as this what we prepared our decoder for and the noise model we prepared earlier.\n",
    "\n",
    "When using the fault enumerator class, we normally use it in a circumstance, where we want to iterate over all possible single error events, but in this demonstration we only want one, so we are going to pick a random entry."
   ]
  },
  {
   "cell_type": "code",
   "execution_count": 10,
   "metadata": {},
   "outputs": [],
   "source": [
    "fault_enumerator = FaultEnumerator(circ=code.circuit[\"0\"], model=noise_model)\n",
    "\n",
    "index, labels, error, outcome = random.choice(list(fault_enumerator.generate()))"
   ]
  },
  {
   "attachments": {},
   "cell_type": "markdown",
   "metadata": {},
   "source": [
    "We can now pass this outcome (which includes the syndrome measurement rounds) to our decoder for decoding, after converting it to a string:"
   ]
  },
  {
   "cell_type": "code",
   "execution_count": 11,
   "metadata": {},
   "outputs": [],
   "source": [
    "outcome = \"\".join([str(x) for x in outcome])\n",
    "\n",
    "corrected_outcome = decoder.process(outcome)"
   ]
  },
  {
   "attachments": {},
   "cell_type": "markdown",
   "metadata": {},
   "source": [
    "We get a list of integers describing the final state of our code qubits. We can now check what our logical outcome is, which is computed by looking at the parity of the logical qubits in the code."
   ]
  },
  {
   "cell_type": "code",
   "execution_count": 14,
   "metadata": {},
   "outputs": [],
   "source": [
    "logical_outcome = sum([corrected_outcome[index] for index in code.css_z_logical[0]]) % 2\n",
    "\n",
    "assert logical_outcome == 0\n",
    "print(\"Final outcome: \", logical_outcome)"
   ]
  }
 ],
 "metadata": {
  "kernelspec": {
   "display_name": "qiskit_qec",
   "language": "python",
   "name": "python3"
  },
  "language_info": {
   "codemirror_mode": {
    "name": "ipython",
    "version": 3
   },
   "file_extension": ".py",
   "mimetype": "text/x-python",
   "name": "python",
   "nbconvert_exporter": "python",
   "pygments_lexer": "ipython3",
   "version": "3.10.9"
  },
  "orig_nbformat": 4,
  "vscode": {
   "interpreter": {
    "hash": "962fa7c9718da7d9899c3fb26b854dfdde5ec264cef5bf8091d292adb3692d2f"
   }
  }
 },
 "nbformat": 4,
 "nbformat_minor": 2
}
