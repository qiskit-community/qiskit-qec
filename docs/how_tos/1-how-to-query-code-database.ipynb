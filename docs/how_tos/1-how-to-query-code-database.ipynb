{
 "cells": [
  {
   "cell_type": "markdown",
   "id": "afc9dead",
   "metadata": {},
   "source": [
    "# How-to: query codes database"
   ]
  },
  {
   "cell_type": "code",
   "execution_count": null,
   "id": "a0aca94a",
   "metadata": {},
   "outputs": [],
   "source": [
    "from qiskit_qec.qec_codebase.qec_codebase_interactor import QECCodeBase\n",
    "from qiskit_qec.operators.pauli_list import PauliList\n",
    "from qiskit_qec.structures.gauge import GaugeGroup\n",
    "from qiskit_qec.codes import SubSystemCode\n",
    "from qiskit_qec.exceptions import QiskitQECError"
   ]
  },
  {
   "cell_type": "code",
   "execution_count": null,
   "id": "29d05317",
   "metadata": {},
   "outputs": [],
   "source": [
    "import os\n",
    "\n",
    "codebase_dir_path = os.environ.get(\"CODE_DB_PATH\")\n",
    "db = QECCodeBase(codebase_dir_path)"
   ]
  },
  {
   "cell_type": "markdown",
   "id": "6f7ec06d",
   "metadata": {},
   "source": [
    "### Basic query"
   ]
  },
  {
   "cell_type": "code",
   "execution_count": null,
   "id": "caf152da",
   "metadata": {},
   "outputs": [],
   "source": [
    "derulo_codes = db.get_subsystem_code(2, 1)  # all 2,1 codes\n",
    "print(\"derulo\", len(derulo_codes))\n",
    "print(derulo_codes[0].gauge_group.generators)\n",
    "print(derulo_codes[0].parameters)"
   ]
  },
  {
   "cell_type": "markdown",
   "id": "647b9829",
   "metadata": {},
   "source": [
    "### Multi query"
   ]
  },
  {
   "cell_type": "code",
   "execution_count": null,
   "id": "a7a3e592",
   "metadata": {},
   "outputs": [],
   "source": [
    "swift_codes = db.get_subsystem_code([3, 2], [0, 1])  # all codes: (2,0), (2,1), (3,0), (3,1)\n",
    "len(swift_codes)"
   ]
  },
  {
   "cell_type": "markdown",
   "id": "326981dc",
   "metadata": {},
   "source": [
    "### QUERY sans results\n"
   ]
  },
  {
   "cell_type": "code",
   "execution_count": null,
   "id": "ffaa7d2e",
   "metadata": {},
   "outputs": [],
   "source": [
    "nope_codes = db.get_subsystem_code(3, 4)\n",
    "print(\"nope\", len(nope_codes))"
   ]
  },
  {
   "cell_type": "markdown",
   "id": "92252b55",
   "metadata": {},
   "source": [
    "###  Query with parameters\n"
   ]
  },
  {
   "cell_type": "code",
   "execution_count": null,
   "id": "dee58738",
   "metadata": {},
   "outputs": [],
   "source": [
    "the1975_additional_params = {\"logical_ops\": \"ixi\"}\n",
    "the1975_codes = db.get_subsystem_code(\n",
    "    3, 2, **the1975_additional_params\n",
    ")  # all (3,2) codes that have css_logicals === \"ixi\"\n",
    "print(\"1975\", len(the1975_codes))\n",
    "\n",
    "glass_animals_params = {\"weight_enumerator\": 1}\n",
    "glass_animals_codes = db.get_subsystem_code(\n",
    "    2, 1, acceptable_missing_params={\"weight_enumerator\"}, **glass_animals_params\n",
    ")  # all codes (2,1) such that they either have \"1\" in their weight_enumerator list OR don't have weight_enumerator as a variable\n",
    "print(\"glass\", len(glass_animals_codes))"
   ]
  },
  {
   "cell_type": "markdown",
   "id": "fc4287da",
   "metadata": {},
   "source": [
    "### Deriving your own code"
   ]
  },
  {
   "cell_type": "code",
   "execution_count": null,
   "id": "f70d6ddc",
   "metadata": {
    "scrolled": false
   },
   "outputs": [],
   "source": [
    "new_code = derulo_codes[0]\n",
    "new_code.parameters[\"my_new_param\"] = 123\n",
    "print(new_code.parameters)\n",
    "\n",
    "db.store_new_subsystem_code(new_code, allow_new_fields=True)\n",
    "new_derulo_codes = db.get_subsystem_code(2, 1)  # all 2,1 codes\n",
    "print(\"new_derulo_codes\", len(new_derulo_codes))\n",
    "\n",
    "# You can limit your query results to only those in the standard codebase (Andrew's codebase)\n",
    "#  by telling the database not to query the playground codebase\n",
    "\n",
    "only_standard_codes_derulo = db.get_subsystem_code(2, 1, allow_playground=False)\n",
    "print(\"only standard derulo codes\", len(only_standard_codes_derulo))\n",
    "\n",
    "# If you're going to add a lot of codes at once, set cache=True and flush after:\n",
    "my_code = SubSystemCode(GaugeGroup(PauliList(\"XX\")))\n",
    "my_code.parameters = {db.IS_GF4LINEAR: 1, db.N: 4, db.K: 2}\n",
    "\n",
    "for i in range(300):\n",
    "    db.store_new_subsystem_code(my_code, flush_cache=False, force=True)\n",
    "\n",
    "db.flush_cache()  # actually create/write to the json file\n",
    "\n",
    "retrieved_codes = db.get_subsystem_code(4, 2)\n",
    "\n",
    "db.delete_playground_codebase(True)  # kill all the codes you've made"
   ]
  }
 ],
 "metadata": {
  "kernelspec": {
   "display_name": "Python 3 (ipykernel)",
   "language": "python",
   "name": "python3"
  },
  "language_info": {
   "codemirror_mode": {
    "name": "ipython",
    "version": 3
   },
   "file_extension": ".py",
   "mimetype": "text/x-python",
   "name": "python",
   "nbconvert_exporter": "python",
   "pygments_lexer": "ipython3",
   "version": "3.9.7"
  }
 },
 "nbformat": 4,
 "nbformat_minor": 5
}
