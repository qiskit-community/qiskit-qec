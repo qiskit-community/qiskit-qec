{
    "cells": [
        {
            "cell_type": "code",
            "execution_count": 1,
            "metadata": {},
            "outputs": [],
            "source": [
                "import qiskit_qec.utils.pauli_rep as pauli_rep"
            ]
        },
        {
            "cell_type": "code",
            "execution_count": 2,
            "metadata": {},
            "outputs": [],
            "source": [
                "import copy\n",
                "import sys\n",
                "\n",
                "import numpy as np"
            ]
        },
        {
            "cell_type": "code",
            "execution_count": 39,
            "metadata": {},
            "outputs": [],
            "source": [
                "from qiskit.utils.deprecation import deprecate_function\n",
                "from qiskit.exceptions import QiskitError\n",
                "\n",
                "from qiskit_qec.structures.symplectic_matrix import SymplecticMatrixBase\n",
                "import qiskit_qec.utils.pauli_rep as pauli_rep\n",
                "\n",
                "\n",
                "class SymplecticMatrixDenseNumPy(SymplecticMatrixBase):\n",
                "    XZ_ORDER = 0\n",
                "    ZX_ORDER = 1\n",
                "\n",
                "    def __init__(self, xz_matrix) -> None:\n",
                "        \"\"\"Symplectic Matrix class: None compressed bool matrices using numpy arrays\n",
                "\n",
                "        Assumption: The assumption is that the X part of the parity check matrix is on\n",
                "        the left and the Z part is on the right\n",
                "\n",
                "        Args:\n",
                "            matrix [SymplecticMatrixBase, ...] : [description]\n",
                "        \"\"\"\n",
                "\n",
                "        # No dimensional check is being done here. Should decided on this\n",
                "        self._matrix = self.assign(xz_matrix)\n",
                "        # self._properties = Properties(__class__.__name__)\n",
                "\n",
                "        super().__init__()\n",
                "\n",
                "    def __array__(self):\n",
                "        return self._matrix\n",
                "\n",
                "    def __repr__(self):\n",
                "        return np.array2string(self._matrix)\n",
                "\n",
                "    def __symplectic__(self):\n",
                "        return self._matrix\n",
                "\n",
                "    def joinxz(self, x_matrix=None, z_matrix=None):\n",
                "        \"\"\"Join matrices into a single symplectic matrix\n",
                "\n",
                "        Args:\n",
                "            x_matrix ([type], optional): [description]. Defaults to None.\n",
                "            z_matrix ([type], optional): [description]. Defaults to None.\n",
                "\n",
                "            Converts x_matrix and Z_matrix matrices to np.ndarray's and then\n",
                "            joins matrices together. [x_matrix|z_matrix]\n",
                "        \"\"\"\n",
                "        x_matrix = np.asarray(x_matrix, dtype=bool)\n",
                "        z_matrix = np.asarray(z_matrix, dtype=bool)\n",
                "        if x_matrix.shape != z_matrix.shape:\n",
                "            print(\"Error: X and Z matrices must have the same shape\")\n",
                "            exit\n",
                "\n",
                "        return np.hstack(x_matrix, z_matrix)\n",
                "\n",
                "    def assign(self, matrix):\n",
                "        \"\"\"Assign a input symplectic matrix to a Dense NumPy Symplectic matrix\n",
                "        Includes any necesary checks\n",
                "\n",
                "        Args:\n",
                "            matrix ([type], optional): [description].\n",
                "        \"\"\"\n",
                "        # asarray is used so that we do not have to copy the matrix if possible\n",
                "        # This is needed to allow PauliList to work correctly\n",
                "        as_matrix = np.asarray(matrix, dtype=bool)\n",
                "        return as_matrix\n",
                "\n",
                "    def copy(self):\n",
                "        \"\"\"Make a deep copy of the current sympletic matrix\"\"\"\n",
                "        ret = copy.copy(self)\n",
                "        ret._matrix = self._matrix\n",
                "        # ret._properties = self._properties.copy()\n",
                "        return ret\n",
                "\n",
                "    @property\n",
                "    def num_qubits(self):\n",
                "        return self._matrix.shape[1] >> 1\n",
                "\n",
                "    @property\n",
                "    def num_paulis(self):\n",
                "        return self._matrix.shape[0]\n",
                "\n",
                "    @property\n",
                "    def x(self):\n",
                "        \"\"\"X part of symplectic matrix\n",
                "\n",
                "        Returns:\n",
                "            numpy.ndarray: X part of symplectic matrix\n",
                "        \"\"\"\n",
                "        return SymplecticMatrixDenseNumPy(\n",
                "            xz_matrix=self._matrix[0 : self.num_paulis, 0 : self.num_qubits]\n",
                "        )\n",
                "\n",
                "    @property\n",
                "    def z(self):\n",
                "        \"\"\"Z part of symplectic matrix\n",
                "\n",
                "        Returns:\n",
                "            numpy.ndarray: Z part of symplectic matrix\n",
                "        \"\"\"\n",
                "        return SymplecticMatrixDenseNumPy(\n",
                "            xz_matrix=self._matrix[0 : self.num_paulis, self.num_qubits : 2 * self.num_qubits]\n",
                "        )\n",
                "\n",
                "    @property\n",
                "    def num_y(self):\n",
                "        \"\"\"Count the number of Y Paulis in each Pauli and return an array of result\"\"\"\n",
                "        return np.sum(np.logical_and(self.x, self.z), axis=1)\n",
                "\n",
                "    @staticmethod\n",
                "    def stypes():\n",
                "        return SymplecticMatrixBase.STYPES\n",
                "\n",
                "    @staticmethod\n",
                "    def classnames(key=None):\n",
                "        if key is not None:\n",
                "            return SymplecticMatrixBase.CLASSNAMES[key]\n",
                "        return SymplecticMatrixBase.CLASSNAMES\n",
                "\n",
                "    @staticmethod\n",
                "    def logical_and(x1, x2, **kwargs):\n",
                "        return SymplecticMatrixDenseNumPy(\n",
                "            xz_matrix=np.logical_and(x1._matrix, x2._matrix, **kwargs)\n",
                "        )\n",
                "\n",
                "    @staticmethod\n",
                "    def logical_xor(x1, x2, **kwargs):\n",
                "        return SymplecticMatrixDenseNumPy(\n",
                "            xz_matrix=np.logical_xor(x1._matrix, x2._matrix, **kwargs)\n",
                "        )\n",
                "\n",
                "    @staticmethod\n",
                "    def sum(a, **kwargs):\n",
                "        return np.sum(a._matrix, **kwargs)\n",
                "\n",
                "    def __and__(self, other):\n",
                "        return SymplecticMatrixDenseNumPy(xz_matrix=(self._matrix & other._matrix))\n",
                "\n",
                "    def __xor__(self, other):\n",
                "        return SymplecticMatrixDenseNumPy(xz_matrix=(self._matrix ^ other._matrix))\n",
                "\n",
                "    def __eq__(self, other):\n",
                "        self._matrix = other._matrix\n",
                "        self._properties = other._properties\n",
                "\n",
                "    @staticmethod\n",
                "    def hstack(tup):\n",
                "        \"\"\"Stack arrays in sequence horizontally (column wise)\n",
                "\n",
                "        This function mimicks numpys hstack for this specific symplectic matrix representation\n",
                "\n",
                "        Args:\n",
                "            Tuple of SymplecticMatrixDenseNumPy matrices\n",
                "\n",
                "        Returns:\n",
                "            SymplecticMatrixDenseNumPy: The matrix formed by stacking the given matrices\n",
                "        \"\"\"\n",
                "\n",
                "        return SymplecticMatrixDenseNumPy(xz_matrix=np.hstack((item._matrix for item in tup)))\n",
                "\n",
                "    @staticmethod\n",
                "    def istack(matrix, size, interleave=False):\n",
                "        \"\"\"Vertically stack array of vectors.\n",
                "\n",
                "        Args:\n",
                "            SymplecticMatrixDenseNumPy matrice\n",
                "            size (int)\n",
                "            interleave (boolean): defulat is False\n",
                "\n",
                "\n",
                "        matrix = [v_1\n",
                "                v_2\n",
                "                ...\n",
                "                v_k]\n",
                "\n",
                "        istack(matrix, r, interleave=False) gives r vertically stacked copies of array with no iterleaving\n",
                "\n",
                "        output = [v_1\n",
                "                  v_2\n",
                "                  ...\n",
                "                  v_k\n",
                "\n",
                "                  ... r times\n",
                "\n",
                "                  v_1\n",
                "                  v_2\n",
                "                  ...\n",
                "                  v_k]\n",
                "\n",
                "        istack(matrix, r, interleave=True) gives r vertically stacked copies of array with with iterleaving\n",
                "\n",
                "        output = [v_1\n",
                "                  v_1\n",
                "                  ... r copies\n",
                "                  v_1\n",
                "\n",
                "                  ...\n",
                "\n",
                "                  v_k\n",
                "                  v_k\n",
                "                  ... r copies\n",
                "                  v_k]\n",
                "\n",
                "        \"\"\"\n",
                "        if size == 1:\n",
                "            return matrix\n",
                "\n",
                "        if interleave:\n",
                "            return np.hstack(size * [matrix._matrix]).reshape(\n",
                "                (size * len(matrix._matrix),) + matrix._matrix.shape[1:]\n",
                "            )\n",
                "\n",
                "        return np.vstack(size * [matrix._matrix]).reshape(\n",
                "            (size * len(matrix._matrix),) + matrix._matrix.shape[1:]\n",
                "        )\n",
                "\n",
                "    @staticmethod\n",
                "    def count_y(matrix=None, x_matrix=None, z_matrix=None):\n",
                "        \"\"\"Count the number of Y Paulis\"\"\"\n",
                "        if matrix is not None:\n",
                "            return np.sum(np.logical_and(matrix.x, matrix.z), axis=1)\n",
                "        else:\n",
                "            return np.sum(np.logical_and(x_matrix, z_matrix), axis=1)\n",
                "\n",
                "    # This methiod should be deprecated and replaced with _from_matrix\n",
                "    @staticmethod\n",
                "    def _from_array(z, x, phase=0, input_format=pauli_rep.DEFAULT_EXTERNAL_PAULI_REP_FORMAT):\n",
                "        \"\"\"Convert array data to BasePauli data.\"\"\"\n",
                "        # Moved from BasePauli class\n",
                "\n",
                "        array_z = np.atleast_2d(np.asarray(z, dtype=bool))\n",
                "        array_x = np.atleast_2d(np.asarray(x, dtype=bool))\n",
                "\n",
                "        if array_z.ndim != 2:\n",
                "            raise QiskitError(\"Invalid Pauli z vector shape.\")\n",
                "        if array_x.ndim != 2:\n",
                "            raise QiskitError(\"Invalid Pauli x vector shape.\")\n",
                "        if array_z.shape != array_x.shape:\n",
                "            raise QiskitError(\"z and x vectors are different size.\")\n",
                "\n",
                "        # Convert group phase convention to internal ZX-phase conversion.\n",
                "        # Internal Pauli representation is '-iZX' format\n",
                "        # External Pauli representation is '-iYZX' format and is assumed as input\n",
                "        # when referencing is not possible for the phase.\n",
                "        base_phase = pauli_rep.change_rep(\n",
                "            phase,\n",
                "            y_count=SymplecticMatrixDenseNumPy.count_y(x_matrix=array_x, z_matrix=array_z),\n",
                "            input_format=input_format,\n",
                "            output_format=pauli_rep.INTERNAL_PAULI_REP_FORMAT,\n",
                "        )\n",
                "\n",
                "        return array_z, array_x, base_phase\n",
                "\n",
                "    @staticmethod\n",
                "    def _from_matrix(matrix, phase=0, input_format=pauli_rep.DEFAULT_EXTERNAL_PAULI_REP_FORMAT):\n",
                "        \"\"\"Convert array data to BasePauli data.\"\"\"\n",
                "\n",
                "        matrix = np.atleast_2d(np.asarray(matrix))\n",
                "\n",
                "        if matrix.shape[1] % 2 != 0:\n",
                "            raise QiskitError(\"Invalid matrix shape\")\n",
                "\n",
                "        # Convert group phase convention to internal ZX-phase conversion.\n",
                "        # Internal Pauli representation is '-iZX' format\n",
                "        # External Pauli representation is '-iYZX' format and is assumed as input\n",
                "        # when referencing is not possible for the phase.\n",
                "        base_phase = pauli_rep.change_rep(\n",
                "            phase,\n",
                "            y_count=SymplecticMatrixDenseNumPy.count_y(matrix),\n",
                "            input_format=input_format,\n",
                "            output_format=pauli_rep.INTERNAL_PAULI_REP_FORMAT,\n",
                "        )\n",
                "\n",
                "        return matrix, base_phase\n",
                "\n",
                "    @staticmethod\n",
                "    def _to_matrix(matrix, phase=0, group_phase=False, sparse=False):\n",
                "        \"\"\"Return the matrix matrix from symplectic representation.\n",
                "        The Pauli is defined as :math:`P = (-i)^{phase + z.x} * Z^z.x^x`\n",
                "        where ``array = [x, z]``.\n",
                "        Args:\n",
                "            matrix (SymplecticMatrixDenseNumPy): Symplectic Matrix representation of Pauli\n",
                "            phase (int): Pauli phase.\n",
                "            group_phase (bool): Optional. If True use group-phase convention\n",
                "                                instead of BasePauli ZX-phase convention.\n",
                "                                (default: False).\n",
                "            sparse (bool): Optional. Of True return a sparse CSR matrix,\n",
                "                        otherwise return a dense Numpy array\n",
                "                        (default: False).\n",
                "        Returns:\n",
                "            array: if sparse=False.\n",
                "            csr_matrix: if sparse=True.\n",
                "        \"\"\"\n",
                "        # Moved from BasePauli\n",
                "        num_qubits = matrix.z.size\n",
                "        # Convert to zx_phase\n",
                "\n",
                "        if group_phase:\n",
                "            phase += np.sum(x & z)\n",
                "            phase %= 4\n",
                "        dim = 2**num_qubits\n",
                "        twos_array = 1 << np.arange(num_qubits)\n",
                "        x_indices = np.asarray(x).dot(twos_array)\n",
                "        z_indices = np.asarray(z).dot(twos_array)\n",
                "        indptr = np.arange(dim + 1, dtype=np.uint)\n",
                "        indices = indptr ^ x_indices\n",
                "        if phase:\n",
                "            coeff = (-1j) ** phase\n",
                "        else:\n",
                "            coeff = 1\n",
                "        data = np.array([coeff * (-1) ** (bin(i).count(\"1\") % 2) for i in z_indices & indptr])\n",
                "        if sparse:\n",
                "            # Return sparse matrix\n",
                "            from scipy.sparse import csr_matrix\n",
                "\n",
                "            return csr_matrix((data, indices, indptr), shape=(dim, dim), dtype=complex)\n",
                "        # Build dense matrix using csr format\n",
                "        mat = np.zeros((dim, dim), dtype=complex)\n",
                "        for i in range(dim):\n",
                "            mat[i][indices[indptr[i] : indptr[i + 1]]] = data[indptr[i] : indptr[i + 1]]\n",
                "        return mat\n",
                "\n",
                "    @staticmethod\n",
                "    def _to_label(z, x, phase, group_phase=False, full_group=True, return_phase=False):\n",
                "        \"\"\"Return the label string for a Pauli.\n",
                "        Args:\n",
                "            z (array): The symplectic representation z vector.\n",
                "            x (array): The symplectic representation x vector.\n",
                "            phase (int): Pauli phase.\n",
                "            group_phase (bool): Optional. If True use group-phase convention\n",
                "                                instead of BasePauli ZX-phase convention.\n",
                "                                (default: False).\n",
                "            full_group (bool): If True return the Pauli label from the full Pauli group\n",
                "                including complex coefficient from [1, -1, 1j, -1j]. If\n",
                "                False return the unsigned Pauli label with coefficient 1\n",
                "                (default: True).\n",
                "            return_phase (bool): If True return the adjusted phase for the coefficient\n",
                "                of the returned Pauli label. This can be used even if\n",
                "                ``full_group=False``.\n",
                "        Returns:\n",
                "            str: the Pauli label from the full Pauli group (if ``full_group=True``) or\n",
                "                from the unsigned Pauli group (if ``full_group=False``).\n",
                "            Tuple[str, int]: if ``return_phase=True`` returns a tuple of the Pauli\n",
                "                            label (from either the full or unsigned Pauli group) and\n",
                "                            the phase ``q`` for the coefficient :math:`(-i)^(q + x.z)`\n",
                "                            for the label from the full Pauli group.\n",
                "        \"\"\"\n",
                "        num_qubits = z.size\n",
                "        coeff_labels = {0: \"\", 1: \"-i\", 2: \"-\", 3: \"i\"}\n",
                "        label = \"\"\n",
                "        for i in range(num_qubits):\n",
                "            if not z[num_qubits - 1 - i]:\n",
                "                if not x[num_qubits - 1 - i]:\n",
                "                    label += \"I\"\n",
                "                else:\n",
                "                    label += \"X\"\n",
                "            elif not x[num_qubits - 1 - i]:\n",
                "                label += \"Z\"\n",
                "            else:\n",
                "                label += \"Y\"\n",
                "                if not group_phase:\n",
                "                    phase -= 1\n",
                "        phase %= 4\n",
                "        if phase and full_group:\n",
                "            label = coeff_labels[phase] + label\n",
                "        if return_phase:\n",
                "            return label, phase\n",
                "        return label"
            ]
        },
        {
            "cell_type": "code",
            "execution_count": 40,
            "metadata": {},
            "outputs": [],
            "source": [
                "b = np.array([[1, 1, 1, 1], [1, 0, 1, 0]], dtype=bool)\n",
                "a = SymplecticMatrixDenseNumPy(b)"
            ]
        },
        {
            "cell_type": "code",
            "execution_count": 42,
            "metadata": {},
            "outputs": [
                {
                    "name": "stdout",
                    "output_type": "stream",
                    "text": [
                        "[[ True  True]\n",
                        " [ True False]]\n"
                    ]
                }
            ],
            "source": [
                "print(a.x)"
            ]
        },
        {
            "cell_type": "code",
            "execution_count": 44,
            "metadata": {},
            "outputs": [
                {
                    "data": {
                        "text/plain": [
                            "[[ True  True]\n",
                            " [ True False]]"
                        ]
                    },
                    "execution_count": 44,
                    "metadata": {},
                    "output_type": "execute_result"
                }
            ],
            "source": [
                "a.x & a.z"
            ]
        },
        {
            "cell_type": "code",
            "execution_count": 35,
            "metadata": {},
            "outputs": [
                {
                    "data": {
                        "text/plain": [
                            "6"
                        ]
                    },
                    "execution_count": 35,
                    "metadata": {},
                    "output_type": "execute_result"
                }
            ],
            "source": [
                "np.sum(b)"
            ]
        },
        {
            "cell_type": "code",
            "execution_count": 61,
            "metadata": {},
            "outputs": [],
            "source": [
                "a = np.array([[1, 0, 1, 0, 0, 1], [1, 1, 1, 1, 1, 1], [0, 0, 0, 1, 1, 0]])"
            ]
        },
        {
            "cell_type": "code",
            "execution_count": 62,
            "metadata": {},
            "outputs": [],
            "source": [
                "from qiskit.quantum_info.operators.symplectic.pauli import Pauli\n",
                "from qiskit.quantum_info.operators.symplectic.pauli_list import PauliList\n",
                "\n",
                "pl = PauliList([\"XXXX\", \"XYIX\", \"IIXY\"])"
            ]
        },
        {
            "cell_type": "code",
            "execution_count": 65,
            "metadata": {},
            "outputs": [
                {
                    "name": "stdout",
                    "output_type": "stream",
                    "text": [
                        "5.53 µs ± 237 ns per loop (mean ± std. dev. of 7 runs, 100000 loops each)\n"
                    ]
                }
            ],
            "source": [
                "%timeit aa=pl[1]"
            ]
        },
        {
            "cell_type": "code",
            "execution_count": 52,
            "metadata": {},
            "outputs": [
                {
                    "name": "stdout",
                    "output_type": "stream",
                    "text": [
                        "151 ns ± 5.94 ns per loop (mean ± std. dev. of 7 runs, 10000000 loops each)\n"
                    ]
                }
            ],
            "source": [
                "%timeit a[1]"
            ]
        },
        {
            "cell_type": "code",
            "execution_count": 53,
            "metadata": {},
            "outputs": [
                {
                    "data": {
                        "text/plain": [
                            "34.333333333333336"
                        ]
                    },
                    "execution_count": 53,
                    "metadata": {},
                    "output_type": "execute_result"
                }
            ],
            "source": [
                "5150 / 150"
            ]
        },
        {
            "cell_type": "code",
            "execution_count": 71,
            "metadata": {},
            "outputs": [],
            "source": [
                "class newPauliList:\n",
                "    def __init__(self, matrix):\n",
                "        self.matrix = np.asarray(matrix)\n",
                "\n",
                "    def __getitem__(self, slc):\n",
                "        return newPauliList(self.matrix[slc])"
            ]
        },
        {
            "cell_type": "code",
            "execution_count": 203,
            "metadata": {},
            "outputs": [],
            "source": [
                "pl = PauliList([\"XXXX\", \"XYIX\", \"IIXY\"])"
            ]
        },
        {
            "cell_type": "code",
            "execution_count": 72,
            "metadata": {},
            "outputs": [],
            "source": [
                "npl = newPauliList(a)"
            ]
        },
        {
            "cell_type": "code",
            "execution_count": 204,
            "metadata": {},
            "outputs": [
                {
                    "name": "stdout",
                    "output_type": "stream",
                    "text": [
                        "5.11 µs ± 272 ns per loop (mean ± std. dev. of 7 runs, 100000 loops each)\n"
                    ]
                }
            ],
            "source": [
                "%timeit bb=pl[1]"
            ]
        },
        {
            "cell_type": "code",
            "execution_count": 131,
            "metadata": {},
            "outputs": [],
            "source": [
                "class Simple:\n",
                "    def __init__(self, n):\n",
                "        self.n = n\n",
                "\n",
                "\n",
                "class SymBase(Simple):\n",
                "    def __init__(self, matrix):\n",
                "        if isinstance(matrix, np.ndarray):\n",
                "            self.matrix = np.asarray(matrix)\n",
                "        else:\n",
                "            exit\n",
                "        super().__init__(matrix.shape[0])\n",
                "\n",
                "\n",
                "class Sym(SymBase):\n",
                "    def __init__(self, vector):\n",
                "        super().__init__(vector)\n",
                "\n",
                "    def __getitem__(self, slc):\n",
                "        return self.matrix[slc]\n",
                "\n",
                "\n",
                "class SymList(SymBase):\n",
                "    def __init__(self, matrix):\n",
                "        super().__init__(matrix)\n",
                "\n",
                "    def __getitem__(self, slc):\n",
                "        return Sym(self.matrix[slc])"
            ]
        },
        {
            "cell_type": "code",
            "execution_count": 137,
            "metadata": {},
            "outputs": [
                {
                    "data": {
                        "text/plain": [
                            "(3, 6)"
                        ]
                    },
                    "execution_count": 137,
                    "metadata": {},
                    "output_type": "execute_result"
                }
            ],
            "source": [
                "a.shape"
            ]
        },
        {
            "cell_type": "code",
            "execution_count": 132,
            "metadata": {},
            "outputs": [],
            "source": [
                "A = SymList(a)"
            ]
        },
        {
            "cell_type": "code",
            "execution_count": 134,
            "metadata": {},
            "outputs": [
                {
                    "name": "stdout",
                    "output_type": "stream",
                    "text": [
                        "1.21 µs ± 21.3 ns per loop (mean ± std. dev. of 7 runs, 1000000 loops each)\n"
                    ]
                }
            ],
            "source": [
                "%timeit A[1]"
            ]
        },
        {
            "cell_type": "code",
            "execution_count": 117,
            "metadata": {},
            "outputs": [
                {
                    "name": "stdout",
                    "output_type": "stream",
                    "text": [
                        "1.09 µs ± 26.5 ns per loop (mean ± std. dev. of 7 runs, 1000000 loops each)\n"
                    ]
                }
            ],
            "source": [
                "%timeit A[1][1]"
            ]
        },
        {
            "cell_type": "code",
            "execution_count": 92,
            "metadata": {},
            "outputs": [],
            "source": [
                "%timeit a[1]"
            ]
        },
        {
            "cell_type": "code",
            "execution_count": 136,
            "metadata": {},
            "outputs": [
                {
                    "name": "stdout",
                    "output_type": "stream",
                    "text": [
                        "         6999997 function calls in 2.445 seconds\n",
                        "\n",
                        "   Ordered by: standard name\n",
                        "\n",
                        "   ncalls  tottime  percall  cumtime  percall filename:lineno(function)\n",
                        "   999999    0.349    0.000    1.666    0.000 <ipython-input-131-ea575d18ce18>:14(__init__)\n",
                        "   999999    0.116    0.000    0.116    0.000 <ipython-input-131-ea575d18ce18>:2(__init__)\n",
                        "   999999    0.454    0.000    2.121    0.000 <ipython-input-131-ea575d18ce18>:22(__getitem__)\n",
                        "   999999    0.778    0.000    1.318    0.000 <ipython-input-131-ea575d18ce18>:6(__init__)\n",
                        "        1    0.324    0.324    2.445    2.445 <ipython-input-136-90f0c229625d>:1(foo)\n",
                        "        1    0.000    0.000    2.445    2.445 <string>:1(<module>)\n",
                        "   999999    0.178    0.000    0.349    0.000 _asarray.py:14(asarray)\n",
                        "        1    0.000    0.000    2.445    2.445 {built-in method builtins.exec}\n",
                        "   999999    0.074    0.000    0.074    0.000 {built-in method builtins.isinstance}\n",
                        "   999999    0.171    0.000    0.171    0.000 {built-in method numpy.array}\n",
                        "        1    0.000    0.000    0.000    0.000 {method 'disable' of '_lsprof.Profiler' objects}\n",
                        "\n",
                        "\n"
                    ]
                }
            ],
            "source": [
                "def foo(i):\n",
                "    for k in range(1, 1000000):\n",
                "        s = A[i]\n",
                "\n",
                "\n",
                "import cProfile\n",
                "\n",
                "cProfile.run(\"foo(1)\")"
            ]
        },
        {
            "cell_type": "code",
            "execution_count": 94,
            "metadata": {},
            "outputs": [],
            "source": [
                "A[1].matrix[0] = 0"
            ]
        },
        {
            "cell_type": "code",
            "execution_count": 95,
            "metadata": {},
            "outputs": [
                {
                    "data": {
                        "text/plain": [
                            "array([[1, 0, 1, 0, 0, 1],\n",
                            "       [0, 1, 1, 1, 1, 1],\n",
                            "       [0, 0, 0, 1, 1, 0]])"
                        ]
                    },
                    "execution_count": 95,
                    "metadata": {},
                    "output_type": "execute_result"
                }
            ],
            "source": [
                "A.matrix"
            ]
        },
        {
            "cell_type": "code",
            "execution_count": 104,
            "metadata": {},
            "outputs": [],
            "source": [
                "pl = PauliList([\"XXX\", \"XYX\", \"IXY\"])"
            ]
        },
        {
            "cell_type": "code",
            "execution_count": 105,
            "metadata": {},
            "outputs": [
                {
                    "name": "stdout",
                    "output_type": "stream",
                    "text": [
                        "5.26 µs ± 365 ns per loop (mean ± std. dev. of 7 runs, 100000 loops each)\n"
                    ]
                }
            ],
            "source": [
                "%timeit pl[1]"
            ]
        },
        {
            "cell_type": "code",
            "execution_count": 99,
            "metadata": {},
            "outputs": [
                {
                    "data": {
                        "text/plain": [
                            "array([[1, 0, 1, 0, 0, 1],\n",
                            "       [0, 1, 1, 1, 1, 1],\n",
                            "       [0, 0, 0, 1, 1, 0]])"
                        ]
                    },
                    "execution_count": 99,
                    "metadata": {},
                    "output_type": "execute_result"
                }
            ],
            "source": [
                "a"
            ]
        },
        {
            "cell_type": "code",
            "execution_count": 100,
            "metadata": {},
            "outputs": [],
            "source": [
                "v = [1, 2, 3, 4, 5]"
            ]
        },
        {
            "cell_type": "code",
            "execution_count": 101,
            "metadata": {},
            "outputs": [
                {
                    "name": "stdout",
                    "output_type": "stream",
                    "text": [
                        "34.4 ns ± 0.461 ns per loop (mean ± std. dev. of 7 runs, 10000000 loops each)\n"
                    ]
                }
            ],
            "source": [
                "%timeit v[1]"
            ]
        },
        {
            "cell_type": "code",
            "execution_count": 102,
            "metadata": {},
            "outputs": [
                {
                    "name": "stdout",
                    "output_type": "stream",
                    "text": [
                        "143 ns ± 2.91 ns per loop (mean ± std. dev. of 7 runs, 10000000 loops each)\n"
                    ]
                }
            ],
            "source": [
                "%timeit a[1]"
            ]
        },
        {
            "cell_type": "code",
            "execution_count": 106,
            "metadata": {},
            "outputs": [],
            "source": [
                "class LSymBase:\n",
                "    def __init__(self, matrix):\n",
                "        self.matrix = matrix\n",
                "\n",
                "\n",
                "class LSym(LSymBase):\n",
                "    def __init__(self, vector):\n",
                "        super().__init__(vector)\n",
                "\n",
                "    def __getitem__(self, slc):\n",
                "        return self.matrix[slc]\n",
                "\n",
                "\n",
                "class LSymList(LSymBase):\n",
                "    def __init__(self, matrix):\n",
                "        super().__init__(matrix)\n",
                "\n",
                "    def __getitem__(self, slc):\n",
                "        return LSym(self.matrix[slc])"
            ]
        },
        {
            "cell_type": "code",
            "execution_count": 107,
            "metadata": {},
            "outputs": [],
            "source": [
                "B = LSymList([[1, 0, 1, 1], [0, 0, 0, 1], [0, 1, 1, 1]])"
            ]
        },
        {
            "cell_type": "code",
            "execution_count": 109,
            "metadata": {},
            "outputs": [
                {
                    "name": "stdout",
                    "output_type": "stream",
                    "text": [
                        "462 ns ± 11.3 ns per loop (mean ± std. dev. of 7 runs, 1000000 loops each)\n"
                    ]
                }
            ],
            "source": [
                "%timeit B[1]"
            ]
        },
        {
            "cell_type": "code",
            "execution_count": 112,
            "metadata": {},
            "outputs": [
                {
                    "name": "stdout",
                    "output_type": "stream",
                    "text": [
                        "539 ns ± 6.56 ns per loop (mean ± std. dev. of 7 runs, 1000000 loops each)\n"
                    ]
                }
            ],
            "source": [
                "%timeit B[1][1]"
            ]
        },
        {
            "cell_type": "code",
            "execution_count": 118,
            "metadata": {},
            "outputs": [],
            "source": [
                "C = [[1, 0, 1, 1], [0, 0, 0, 1], [0, 1, 1, 1]]"
            ]
        },
        {
            "cell_type": "code",
            "execution_count": 119,
            "metadata": {},
            "outputs": [
                {
                    "name": "stdout",
                    "output_type": "stream",
                    "text": [
                        "34 ns ± 1.34 ns per loop (mean ± std. dev. of 7 runs, 10000000 loops each)\n"
                    ]
                }
            ],
            "source": [
                "%timeit C[1]"
            ]
        },
        {
            "cell_type": "code",
            "execution_count": 120,
            "metadata": {},
            "outputs": [
                {
                    "name": "stdout",
                    "output_type": "stream",
                    "text": [
                        "48.1 ns ± 0.493 ns per loop (mean ± std. dev. of 7 runs, 10000000 loops each)\n"
                    ]
                }
            ],
            "source": [
                "%timeit C[1][1]"
            ]
        },
        {
            "cell_type": "code",
            "execution_count": 122,
            "metadata": {},
            "outputs": [
                {
                    "name": "stdout",
                    "output_type": "stream",
                    "text": [
                        "107 ns ± 3.88 ns per loop (mean ± std. dev. of 7 runs, 10000000 loops each)\n"
                    ]
                }
            ],
            "source": [
                "%timeit sum(C[1])"
            ]
        },
        {
            "cell_type": "code",
            "execution_count": 3,
            "metadata": {},
            "outputs": [],
            "source": [
                "class Simple:\n",
                "    def __init__(self, n):\n",
                "        self.n = n\n",
                "\n",
                "\n",
                "class SymBase(Simple):\n",
                "    def __init__(self, matrix):\n",
                "        self.matrix = np.asarray(matrix)\n",
                "        super().__init__(matrix.shape[0])\n",
                "\n",
                "\n",
                "class Sym(SymBase):\n",
                "    def __init__(self, vector):\n",
                "        super().__init__(vector)\n",
                "\n",
                "    def __getitem__(self, slc):\n",
                "        return self.matrix[slc]\n",
                "\n",
                "    def __repr__(self):\n",
                "        return np.array2string(self.matrix)\n",
                "\n",
                "\n",
                "class SymList(SymBase):\n",
                "    def __init__(self, matrix):\n",
                "        super().__init__(matrix)\n",
                "        self.paulis = self.init_paulis()\n",
                "\n",
                "    def init_paulis(self):\n",
                "        paulis = [Sym(self.matrix[slc]) for slc in range(self.matrix.shape[0])]\n",
                "        # return np.asarray(paulis)\n",
                "        return paulis\n",
                "\n",
                "    def __getitem__(self, slc):\n",
                "        return self.paulis[slc]\n",
                "\n",
                "    def __repr__(self):\n",
                "        return np.array2string(self.matrix)"
            ]
        },
        {
            "cell_type": "code",
            "execution_count": 13,
            "metadata": {},
            "outputs": [],
            "source": [
                "a = np.random.rand(10000, 100000)\n",
                "b = a.tolist()\n",
                "T = SymList(a)"
            ]
        },
        {
            "cell_type": "code",
            "execution_count": 17,
            "metadata": {},
            "outputs": [
                {
                    "name": "stdout",
                    "output_type": "stream",
                    "text": [
                        "89.3 ns ± 1.43 ns per loop (mean ± std. dev. of 7 runs, 10000000 loops each)\n"
                    ]
                }
            ],
            "source": [
                "%timeit T[1000]"
            ]
        },
        {
            "cell_type": "code",
            "execution_count": 15,
            "metadata": {},
            "outputs": [
                {
                    "name": "stdout",
                    "output_type": "stream",
                    "text": [
                        "29.9 ns ± 0.319 ns per loop (mean ± std. dev. of 7 runs, 10000000 loops each)\n"
                    ]
                }
            ],
            "source": [
                "%timeit b[100]"
            ]
        },
        {
            "cell_type": "code",
            "execution_count": 195,
            "metadata": {},
            "outputs": [
                {
                    "data": {
                        "text/plain": [
                            "[[1 0 1 0 0 1]\n",
                            " [0 1 1 1 1 1]\n",
                            " [0 0 0 1 1 0]]"
                        ]
                    },
                    "execution_count": 195,
                    "metadata": {},
                    "output_type": "execute_result"
                }
            ],
            "source": [
                "T"
            ]
        },
        {
            "cell_type": "code",
            "execution_count": 200,
            "metadata": {},
            "outputs": [],
            "source": [
                "T[0].matrix[1] = 1"
            ]
        },
        {
            "cell_type": "code",
            "execution_count": 201,
            "metadata": {},
            "outputs": [
                {
                    "data": {
                        "text/plain": [
                            "[1 1 1 0 0 1]"
                        ]
                    },
                    "execution_count": 201,
                    "metadata": {},
                    "output_type": "execute_result"
                }
            ],
            "source": [
                "T[0]"
            ]
        },
        {
            "cell_type": "code",
            "execution_count": 202,
            "metadata": {},
            "outputs": [
                {
                    "data": {
                        "text/plain": [
                            "[[1 1 1 0 0 1]\n",
                            " [1 1 1 1 1 1]\n",
                            " [0 0 0 1 1 0]]"
                        ]
                    },
                    "execution_count": 202,
                    "metadata": {},
                    "output_type": "execute_result"
                }
            ],
            "source": [
                "T"
            ]
        },
        {
            "cell_type": "code",
            "execution_count": 205,
            "metadata": {},
            "outputs": [],
            "source": [
                "K = [[1, 2, 3, 4], [2, 3, 4, 5], [3, 4, 5, 5]]"
            ]
        },
        {
            "cell_type": "code",
            "execution_count": 206,
            "metadata": {},
            "outputs": [
                {
                    "name": "stdout",
                    "output_type": "stream",
                    "text": [
                        "33.7 ns ± 2.33 ns per loop (mean ± std. dev. of 7 runs, 10000000 loops each)\n"
                    ]
                }
            ],
            "source": [
                "%timeit K[1]"
            ]
        },
        {
            "cell_type": "code",
            "execution_count": 48,
            "metadata": {},
            "outputs": [],
            "source": [
                "class SMatrix:\n",
                "    def __init__(self, matrix):\n",
                "        self.matrix = np.asarray(matrix)\n",
                "\n",
                "    def __getitem__(self, slc):\n",
                "        return self.matrix[slc]"
            ]
        },
        {
            "cell_type": "code",
            "execution_count": 49,
            "metadata": {},
            "outputs": [],
            "source": [
                "sm = SMatrix(a)"
            ]
        },
        {
            "cell_type": "code",
            "execution_count": 51,
            "metadata": {},
            "outputs": [
                {
                    "data": {
                        "text/plain": [
                            "array([0.13744246, 0.22582637, 0.96835804, ..., 0.09846227, 0.58292506,\n",
                            "       0.28741057])"
                        ]
                    },
                    "execution_count": 51,
                    "metadata": {},
                    "output_type": "execute_result"
                }
            ],
            "source": [
                "sm[1]"
            ]
        },
        {
            "cell_type": "code",
            "execution_count": 23,
            "metadata": {},
            "outputs": [
                {
                    "name": "stdout",
                    "output_type": "stream",
                    "text": [
                        "137 ns ± 1.39 ns per loop (mean ± std. dev. of 7 runs, 10000000 loops each)\n"
                    ]
                }
            ],
            "source": [
                "%timeit a[1]"
            ]
        },
        {
            "cell_type": "code",
            "execution_count": 33,
            "metadata": {},
            "outputs": [],
            "source": []
        },
        {
            "cell_type": "code",
            "execution_count": 34,
            "metadata": {},
            "outputs": [
                {
                    "ename": "SyntaxError",
                    "evalue": "invalid syntax (<ipython-input-34-27a9bb9e7877>, line 1)",
                    "output_type": "error",
                    "traceback": [
                        "\u001b[0;36m  File \u001b[0;32m\"<ipython-input-34-27a9bb9e7877>\"\u001b[0;36m, line \u001b[0;32m1\u001b[0m\n\u001b[0;31m    outp(a,1:2)\u001b[0m\n\u001b[0m            ^\u001b[0m\n\u001b[0;31mSyntaxError\u001b[0m\u001b[0;31m:\u001b[0m invalid syntax\n"
                    ]
                }
            ],
            "source": [
                "outp(a,1:2)"
            ]
        },
        {
            "cell_type": "code",
            "execution_count": 52,
            "metadata": {},
            "outputs": [],
            "source": [
                "a = 1\n",
                "b = 2\n",
                "c = \"a\"\n",
                "d = \"b\""
            ]
        },
        {
            "cell_type": "code",
            "execution_count": 53,
            "metadata": {},
            "outputs": [
                {
                    "name": "stdout",
                    "output_type": "stream",
                    "text": [
                        "36.7 ns ± 0.468 ns per loop (mean ± std. dev. of 7 runs, 10000000 loops each)\n"
                    ]
                }
            ],
            "source": [
                "%timeit a==b"
            ]
        },
        {
            "cell_type": "code",
            "execution_count": 54,
            "metadata": {},
            "outputs": [
                {
                    "name": "stdout",
                    "output_type": "stream",
                    "text": [
                        "38.1 ns ± 0.985 ns per loop (mean ± std. dev. of 7 runs, 10000000 loops each)\n"
                    ]
                }
            ],
            "source": [
                "%timeit c==b"
            ]
        },
        {
            "cell_type": "code",
            "execution_count": 57,
            "metadata": {},
            "outputs": [],
            "source": [
                "class SMatrix:\n",
                "    def __init__(self):\n",
                "        self.sum = np.sum"
            ]
        },
        {
            "cell_type": "code",
            "execution_count": 58,
            "metadata": {},
            "outputs": [],
            "source": [
                "A = tester()"
            ]
        },
        {
            "cell_type": "code",
            "execution_count": 60,
            "metadata": {},
            "outputs": [],
            "source": [
                "a = np.array([[1, 1, 1, 1, 1], [2, 3, 1, 2, 1]])"
            ]
        },
        {
            "cell_type": "code",
            "execution_count": 61,
            "metadata": {},
            "outputs": [
                {
                    "data": {
                        "text/plain": [
                            "14"
                        ]
                    },
                    "execution_count": 61,
                    "metadata": {},
                    "output_type": "execute_result"
                }
            ],
            "source": [
                "np.sum(a)"
            ]
        },
        {
            "cell_type": "code",
            "execution_count": 62,
            "metadata": {},
            "outputs": [
                {
                    "data": {
                        "text/plain": [
                            "array([ 1,  2,  3,  4,  5,  7, 10, 11, 13, 14])"
                        ]
                    },
                    "execution_count": 62,
                    "metadata": {},
                    "output_type": "execute_result"
                }
            ],
            "source": [
                "np.cumsum(a)"
            ]
        },
        {
            "cell_type": "code",
            "execution_count": 63,
            "metadata": {},
            "outputs": [
                {
                    "data": {
                        "text/plain": [
                            "14"
                        ]
                    },
                    "execution_count": 63,
                    "metadata": {},
                    "output_type": "execute_result"
                }
            ],
            "source": [
                "A.sum(a)"
            ]
        },
        {
            "cell_type": "code",
            "execution_count": 64,
            "metadata": {},
            "outputs": [
                {
                    "name": "stdout",
                    "output_type": "stream",
                    "text": [
                        "4.26 µs ± 164 ns per loop (mean ± std. dev. of 7 runs, 100000 loops each)\n"
                    ]
                }
            ],
            "source": [
                "%timeit np.sum(a)"
            ]
        },
        {
            "cell_type": "code",
            "execution_count": 65,
            "metadata": {},
            "outputs": [
                {
                    "name": "stdout",
                    "output_type": "stream",
                    "text": [
                        "4.28 µs ± 130 ns per loop (mean ± std. dev. of 7 runs, 100000 loops each)\n"
                    ]
                }
            ],
            "source": [
                "%timeit A.sum(a)"
            ]
        },
        {
            "cell_type": "code",
            "execution_count": 66,
            "metadata": {},
            "outputs": [
                {
                    "ename": "AttributeError",
                    "evalue": "type object 'tester' has no attribute 'gh'",
                    "output_type": "error",
                    "traceback": [
                        "\u001b[0;31m---------------------------------------------------------------------------\u001b[0m",
                        "\u001b[0;31mAttributeError\u001b[0m                            Traceback (most recent call last)",
                        "\u001b[0;32m<ipython-input-66-a4dedd5c6e06>\u001b[0m in \u001b[0;36m<module>\u001b[0;34m\u001b[0m\n\u001b[0;32m----> 1\u001b[0;31m \u001b[0mtester\u001b[0m\u001b[0;34m.\u001b[0m\u001b[0mgh\u001b[0m\u001b[0;34m\u001b[0m\u001b[0;34m\u001b[0m\u001b[0m\n\u001b[0m",
                        "\u001b[0;31mAttributeError\u001b[0m: type object 'tester' has no attribute 'gh'"
                    ]
                }
            ],
            "source": [
                "tester.gh"
            ]
        },
        {
            "cell_type": "code",
            "execution_count": 68,
            "metadata": {},
            "outputs": [],
            "source": [
                "class Dispatcher(object):\n",
                "    def __init__(self, caller, name):\n",
                "        print(f\"name={name}, caller={caller}\")\n",
                "        self.name = name\n",
                "        self.caller = caller\n",
                "\n",
                "    def __call__(self, *a, **ka):\n",
                "        print(\n",
                "            \"Call on Dispatcher registered!\",\n",
                "            \"Will create method on\",\n",
                "            self.caller.__class__.__name__,\n",
                "            \"now.\",\n",
                "        )\n",
                "        setattr(self.caller, self.name, self.mock)\n",
                "        return getattr(self.caller, self.name)(*a, **ka)\n",
                "\n",
                "    @classmethod\n",
                "    def mock(cls, *a, **ka):\n",
                "        return \"Some default value for newly created methods.\"\n",
                "\n",
                "\n",
                "class MyClass(object):\n",
                "    def __getattr__(self, attr):\n",
                "        return Dispatcher(self, attr)"
            ]
        },
        {
            "cell_type": "code",
            "execution_count": 69,
            "metadata": {},
            "outputs": [],
            "source": [
                "instance = MyClass()"
            ]
        },
        {
            "cell_type": "code",
            "execution_count": 70,
            "metadata": {},
            "outputs": [
                {
                    "name": "stdout",
                    "output_type": "stream",
                    "text": [
                        "name=new_method, caller=<__main__.MyClass object at 0x7fc313326b20>\n",
                        "<__main__.Dispatcher object at 0x7fc3133265e0>\n"
                    ]
                }
            ],
            "source": [
                "print(instance.new_method)"
            ]
        },
        {
            "cell_type": "code",
            "execution_count": 245,
            "metadata": {},
            "outputs": [],
            "source": [
                "import warnings\n",
                "import sys\n",
                "from scipy import sparse\n",
                "\n",
                "# import sm.numpy\n",
                "# import sm.sparse\n",
                "# import sm.bit\n",
                "\n",
                "\n",
                "class SMatrix:\n",
                "    def __new__(cls, matrix, stype=\"numpy\"):\n",
                "        if stype == \"numpy\":\n",
                "            return np.asarray(matrix)\n",
                "        elif stype == \"sparse\":\n",
                "            return sparse.csr_matrix(matrix)\n",
                "        elif stype == \"bit\":\n",
                "            return bit.array(matrix)\n",
                "        else:\n",
                "            raise TypeError(\"Unknown stype\")\n",
                "\n",
                "    def get_methods(stype=\"numpy\"):\n",
                "        module_name = f\"sm.{stype}\"\n",
                "        try:\n",
                "            module = sys.modules[module_name]\n",
                "        except KeyError:\n",
                "            # TODO: If not loaded -> load via __import__\n",
                "            # Next line for testing only\n",
                "            return sys.modules[\"numpy\"]\n",
                "            raise KeyError(f\"Module {module_name} not loaded.\")\n",
                "        return module\n",
                "\n",
                "\n",
                "# BaseOperator, AdjointMixin, MultiplyMixin\n",
                "class Simple:\n",
                "    def __init__(self, n):\n",
                "        self.n = n\n",
                "\n",
                "\n",
                "# PaulisBase\n",
                "class SymBase(Simple):\n",
                "    def __init__(self, matrix, stype=\"numpy\"):\n",
                "        self.matrix = SMatrix(matrix, stype=stype)\n",
                "        self.sm = SMatrix.get_methods(stype=stype)\n",
                "        super().__init__(matrix.shape[0])\n",
                "\n",
                "\n",
                "# Pauli\n",
                "class Sym(SymBase):\n",
                "    def __init__(self, vector):\n",
                "        super().__init__(vector)\n",
                "\n",
                "    def __getitem__(self, slc):\n",
                "        return self.matrix[slc]\n",
                "\n",
                "    def __repr__(self):\n",
                "        return np.array2string(self.matrix)\n",
                "\n",
                "\n",
                "# PauliList\n",
                "class SymList(SymBase):\n",
                "    def __init__(self, matrix):\n",
                "        super().__init__(matrix)\n",
                "        self.paulis = self.init_paulis()\n",
                "\n",
                "    def init_paulis(self):\n",
                "        paulis = [Sym(self.matrix[slc]) for slc in range(self.matrix.shape[0])]\n",
                "        # return np.asarray(paulis)\n",
                "        return paulis\n",
                "\n",
                "    def __getitem__(self, slc):\n",
                "        return self.paulis[slc]\n",
                "\n",
                "    def __repr__(self):\n",
                "        return np.array2string(self.matrix)"
            ]
        },
        {
            "cell_type": "code",
            "execution_count": 243,
            "metadata": {},
            "outputs": [],
            "source": [
                "a = np.array([[1, 2, 3, 4], [5, 6, 7, 8]])\n",
                "b = np.array([[1, 2, 3, 0], [0, 6, 0, 8]])"
            ]
        },
        {
            "cell_type": "code",
            "execution_count": 253,
            "metadata": {},
            "outputs": [
                {
                    "name": "stdout",
                    "output_type": "stream",
                    "text": [
                        "3.25 µs ± 113 ns per loop (mean ± std. dev. of 7 runs, 100000 loops each)\n"
                    ]
                }
            ],
            "source": [
                "%timeit np.sum(a)"
            ]
        },
        {
            "cell_type": "code",
            "execution_count": 246,
            "metadata": {},
            "outputs": [],
            "source": [
                "v = SymList(a)"
            ]
        },
        {
            "cell_type": "code",
            "execution_count": 252,
            "metadata": {},
            "outputs": [
                {
                    "name": "stdout",
                    "output_type": "stream",
                    "text": [
                        "3.29 µs ± 82.3 ns per loop (mean ± std. dev. of 7 runs, 100000 loops each)\n"
                    ]
                }
            ],
            "source": [
                "%timeit v.sm.sum(a)"
            ]
        },
        {
            "cell_type": "code",
            "execution_count": 181,
            "metadata": {},
            "outputs": [
                {
                    "ename": "AttributeError",
                    "evalue": "type object 'SMatrixMethods_numpy' has no attribute 'sum'",
                    "output_type": "error",
                    "traceback": [
                        "\u001b[0;31m---------------------------------------------------------------------------\u001b[0m",
                        "\u001b[0;31mAttributeError\u001b[0m                            Traceback (most recent call last)",
                        "\u001b[0;32m<ipython-input-181-acede3b68173>\u001b[0m in \u001b[0;36m<module>\u001b[0;34m\u001b[0m\n\u001b[1;32m      1\u001b[0m \u001b[0msm\u001b[0m\u001b[0;34m=\u001b[0m\u001b[0mSMatrixMethods_numpy\u001b[0m\u001b[0;34m\u001b[0m\u001b[0;34m\u001b[0m\u001b[0m\n\u001b[0;32m----> 2\u001b[0;31m \u001b[0msm\u001b[0m\u001b[0;34m.\u001b[0m\u001b[0msum\u001b[0m\u001b[0;34m(\u001b[0m\u001b[0ma\u001b[0m\u001b[0;34m)\u001b[0m\u001b[0;34m\u001b[0m\u001b[0;34m\u001b[0m\u001b[0m\n\u001b[0m",
                        "\u001b[0;31mAttributeError\u001b[0m: type object 'SMatrixMethods_numpy' has no attribute 'sum'"
                    ]
                }
            ],
            "source": [
                "sm = SMatrixMethods_numpy\n",
                "sm.sum(a)"
            ]
        },
        {
            "cell_type": "code",
            "execution_count": 78,
            "metadata": {},
            "outputs": [
                {
                    "data": {
                        "text/plain": [
                            "array([[1, 5],\n",
                            "       [2, 6],\n",
                            "       [3, 7],\n",
                            "       [4, 8]])"
                        ]
                    },
                    "execution_count": 78,
                    "metadata": {},
                    "output_type": "execute_result"
                }
            ],
            "source": [
                "smatrix.T"
            ]
        },
        {
            "cell_type": "code",
            "execution_count": 106,
            "metadata": {},
            "outputs": [
                {
                    "data": {
                        "text/plain": [
                            "array([[1, 2, 3, 4],\n",
                            "       [5, 6, 7, 8]])"
                        ]
                    },
                    "execution_count": 106,
                    "metadata": {},
                    "output_type": "execute_result"
                }
            ],
            "source": [
                "a"
            ]
        },
        {
            "cell_type": "code",
            "execution_count": 107,
            "metadata": {},
            "outputs": [],
            "source": [
                "h = sparse.csr_matrix(a)"
            ]
        },
        {
            "cell_type": "code",
            "execution_count": 108,
            "metadata": {},
            "outputs": [
                {
                    "data": {
                        "text/plain": [
                            "(2, 4)"
                        ]
                    },
                    "execution_count": 108,
                    "metadata": {},
                    "output_type": "execute_result"
                }
            ],
            "source": [
                "h.shape"
            ]
        },
        {
            "cell_type": "code",
            "execution_count": 100,
            "metadata": {},
            "outputs": [
                {
                    "data": {
                        "text/plain": [
                            "['__class__',\n",
                            " '__delattr__',\n",
                            " '__dict__',\n",
                            " '__dir__',\n",
                            " '__doc__',\n",
                            " '__eq__',\n",
                            " '__format__',\n",
                            " '__ge__',\n",
                            " '__getattribute__',\n",
                            " '__gt__',\n",
                            " '__hash__',\n",
                            " '__init__',\n",
                            " '__init_subclass__',\n",
                            " '__le__',\n",
                            " '__lt__',\n",
                            " '__module__',\n",
                            " '__ne__',\n",
                            " '__new__',\n",
                            " '__reduce__',\n",
                            " '__reduce_ex__',\n",
                            " '__repr__',\n",
                            " '__setattr__',\n",
                            " '__sizeof__',\n",
                            " '__str__',\n",
                            " '__subclasshook__',\n",
                            " '__weakref__',\n",
                            " 'bar']"
                        ]
                    },
                    "execution_count": 100,
                    "metadata": {},
                    "output_type": "execute_result"
                }
            ],
            "source": [
                "dir(Foo)"
            ]
        },
        {
            "cell_type": "code",
            "execution_count": 101,
            "metadata": {},
            "outputs": [
                {
                    "data": {
                        "text/plain": [
                            "array([[1, 2, 3, 4],\n",
                            "       [5, 6, 7, 8]])"
                        ]
                    },
                    "execution_count": 101,
                    "metadata": {},
                    "output_type": "execute_result"
                }
            ],
            "source": [
                "a"
            ]
        },
        {
            "cell_type": "code",
            "execution_count": 105,
            "metadata": {},
            "outputs": [
                {
                    "data": {
                        "text/plain": [
                            "array([[ True,  True,  True,  True],\n",
                            "       [ True,  True,  True,  True]])"
                        ]
                    },
                    "execution_count": 105,
                    "metadata": {},
                    "output_type": "execute_result"
                }
            ],
            "source": [
                "np.logical_and(a, b)"
            ]
        },
        {
            "cell_type": "code",
            "execution_count": 103,
            "metadata": {},
            "outputs": [
                {
                    "data": {
                        "text/plain": [
                            "36"
                        ]
                    },
                    "execution_count": 103,
                    "metadata": {},
                    "output_type": "execute_result"
                }
            ],
            "source": [
                "np.sum(a)"
            ]
        },
        {
            "cell_type": "code",
            "execution_count": 109,
            "metadata": {},
            "outputs": [],
            "source": [
                "import sys"
            ]
        },
        {
            "cell_type": "code",
            "execution_count": 110,
            "metadata": {},
            "outputs": [
                {
                    "data": {
                        "text/plain": [
                            "<module '__main__'>"
                        ]
                    },
                    "execution_count": 110,
                    "metadata": {},
                    "output_type": "execute_result"
                }
            ],
            "source": [
                "sys.modules[__name__]"
            ]
        },
        {
            "cell_type": "code",
            "execution_count": 124,
            "metadata": {},
            "outputs": [],
            "source": [
                "class myclass:\n",
                "    def __init__(self):\n",
                "        name = \"test\"\n",
                "        getattr(myclass, name)()\n",
                "\n",
                "    def test():\n",
                "        print(\"Done\")"
            ]
        },
        {
            "cell_type": "code",
            "execution_count": 125,
            "metadata": {},
            "outputs": [
                {
                    "name": "stdout",
                    "output_type": "stream",
                    "text": [
                        "Done\n"
                    ]
                }
            ],
            "source": [
                "d = myclass()"
            ]
        },
        {
            "cell_type": "code",
            "execution_count": 147,
            "metadata": {},
            "outputs": [
                {
                    "name": "stdout",
                    "output_type": "stream",
                    "text": [
                        "Done\n"
                    ]
                }
            ],
            "source": [
                "name = \"myclass\"\n",
                "g = getattr(sys.modules[__name__], name)()"
            ]
        },
        {
            "cell_type": "code",
            "execution_count": 191,
            "metadata": {},
            "outputs": [],
            "source": [
                "class tet:\n",
                "    def __new__(self, index=None):\n",
                "        if index is None:\n",
                "            return \"1\"\n",
                "        else:\n",
                "            return index\n",
                "\n",
                "    @staticmethod\n",
                "    def methods(stype=\"numpy\"):\n",
                "        return \"a\""
            ]
        },
        {
            "cell_type": "code",
            "execution_count": 192,
            "metadata": {},
            "outputs": [],
            "source": [
                "y = tet.methods(1)"
            ]
        },
        {
            "cell_type": "code",
            "execution_count": 193,
            "metadata": {},
            "outputs": [
                {
                    "data": {
                        "text/plain": [
                            "'a'"
                        ]
                    },
                    "execution_count": 193,
                    "metadata": {},
                    "output_type": "execute_result"
                }
            ],
            "source": [
                "name = \"np\""
            ]
        },
        {
            "cell_type": "code",
            "execution_count": 194,
            "metadata": {},
            "outputs": [
                {
                    "ename": "AttributeError",
                    "evalue": "'str' object has no attribute 'array'",
                    "output_type": "error",
                    "traceback": [
                        "\u001b[0;31m---------------------------------------------------------------------------\u001b[0m",
                        "\u001b[0;31mAttributeError\u001b[0m                            Traceback (most recent call last)",
                        "\u001b[0;32m<ipython-input-194-b25a187e23fd>\u001b[0m in \u001b[0;36m<module>\u001b[0;34m\u001b[0m\n\u001b[0;32m----> 1\u001b[0;31m \u001b[0mname\u001b[0m\u001b[0;34m.\u001b[0m\u001b[0marray\u001b[0m\u001b[0;34m(\u001b[0m\u001b[0;34m[\u001b[0m\u001b[0;36m1\u001b[0m\u001b[0;34m,\u001b[0m\u001b[0;36m2\u001b[0m\u001b[0;34m]\u001b[0m\u001b[0;34m)\u001b[0m\u001b[0;34m\u001b[0m\u001b[0;34m\u001b[0m\u001b[0m\n\u001b[0m",
                        "\u001b[0;31mAttributeError\u001b[0m: 'str' object has no attribute 'array'"
                    ]
                }
            ],
            "source": [
                "name.array([1, 2])"
            ]
        },
        {
            "cell_type": "code",
            "execution_count": 216,
            "metadata": {},
            "outputs": [
                {
                    "data": {
                        "text/plain": [
                            "<module 'numpy' from '/Users/dsvandet/opt/anaconda3/envs/qiskit-latest/lib/python3.8/site-packages/numpy/__init__.py'>"
                        ]
                    },
                    "execution_count": 216,
                    "metadata": {},
                    "output_type": "execute_result"
                }
            ],
            "source": [
                "sys.modules[\"numpy\"]"
            ]
        },
        {
            "cell_type": "code",
            "execution_count": 217,
            "metadata": {},
            "outputs": [
                {
                    "data": {
                        "text/plain": [
                            "'numpy'"
                        ]
                    },
                    "execution_count": 217,
                    "metadata": {},
                    "output_type": "execute_result"
                }
            ],
            "source": [
                "np.__name__"
            ]
        },
        {
            "cell_type": "code",
            "execution_count": 209,
            "metadata": {},
            "outputs": [
                {
                    "data": {
                        "text/plain": [
                            "'numpy'"
                        ]
                    },
                    "execution_count": 209,
                    "metadata": {},
                    "output_type": "execute_result"
                }
            ],
            "source": [
                "np.__name__"
            ]
        },
        {
            "cell_type": "code",
            "execution_count": 223,
            "metadata": {},
            "outputs": [
                {
                    "data": {
                        "text/plain": [
                            "'numpy'"
                        ]
                    },
                    "execution_count": 223,
                    "metadata": {},
                    "output_type": "execute_result"
                }
            ],
            "source": [
                "globals()[\"np\"].__name__"
            ]
        },
        {
            "cell_type": "code",
            "execution_count": 219,
            "metadata": {},
            "outputs": [],
            "source": [
                "import time as gyte"
            ]
        },
        {
            "cell_type": "code",
            "execution_count": 222,
            "metadata": {},
            "outputs": [
                {
                    "data": {
                        "text/plain": [
                            "'time'"
                        ]
                    },
                    "execution_count": 222,
                    "metadata": {},
                    "output_type": "execute_result"
                }
            ],
            "source": [
                "globals()[\"gyte\"].__name__"
            ]
        },
        {
            "cell_type": "code",
            "execution_count": 230,
            "metadata": {},
            "outputs": [
                {
                    "data": {
                        "text/plain": [
                            "array([[1, 2, 3, 4],\n",
                            "       [5, 6, 7, 8]])"
                        ]
                    },
                    "execution_count": 230,
                    "metadata": {},
                    "output_type": "execute_result"
                }
            ],
            "source": [
                "a"
            ]
        },
        {
            "cell_type": "code",
            "execution_count": 231,
            "metadata": {},
            "outputs": [
                {
                    "data": {
                        "text/plain": [
                            "36"
                        ]
                    },
                    "execution_count": 231,
                    "metadata": {},
                    "output_type": "execute_result"
                }
            ],
            "source": [
                "a.sum()"
            ]
        },
        {
            "cell_type": "code",
            "execution_count": 233,
            "metadata": {},
            "outputs": [
                {
                    "data": {
                        "text/plain": [
                            "36"
                        ]
                    },
                    "execution_count": 233,
                    "metadata": {},
                    "output_type": "execute_result"
                }
            ],
            "source": [
                "np.sum(a)"
            ]
        },
        {
            "cell_type": "code",
            "execution_count": 234,
            "metadata": {},
            "outputs": [],
            "source": [
                "g = np"
            ]
        },
        {
            "cell_type": "code",
            "execution_count": 235,
            "metadata": {},
            "outputs": [
                {
                    "data": {
                        "text/plain": [
                            "36"
                        ]
                    },
                    "execution_count": 235,
                    "metadata": {},
                    "output_type": "execute_result"
                }
            ],
            "source": [
                "g.sum(a)"
            ]
        },
        {
            "cell_type": "code",
            "execution_count": 236,
            "metadata": {},
            "outputs": [
                {
                    "data": {
                        "text/plain": [
                            "module"
                        ]
                    },
                    "execution_count": 236,
                    "metadata": {},
                    "output_type": "execute_result"
                }
            ],
            "source": [
                "type(np)"
            ]
        },
        {
            "cell_type": "code",
            "execution_count": 241,
            "metadata": {},
            "outputs": [
                {
                    "ename": "KeyError",
                    "evalue": "'nsfdf'",
                    "output_type": "error",
                    "traceback": [
                        "\u001b[0;31m---------------------------------------------------------------------------\u001b[0m",
                        "\u001b[0;31mKeyError\u001b[0m                                  Traceback (most recent call last)",
                        "\u001b[0;32m<ipython-input-241-6645f389c063>\u001b[0m in \u001b[0;36m<module>\u001b[0;34m\u001b[0m\n\u001b[0;32m----> 1\u001b[0;31m \u001b[0mg\u001b[0m \u001b[0;34m=\u001b[0m \u001b[0msys\u001b[0m\u001b[0;34m.\u001b[0m\u001b[0mmodules\u001b[0m\u001b[0;34m[\u001b[0m\u001b[0;34m'nsfdf'\u001b[0m\u001b[0;34m]\u001b[0m\u001b[0;34m\u001b[0m\u001b[0;34m\u001b[0m\u001b[0m\n\u001b[0m",
                        "\u001b[0;31mKeyError\u001b[0m: 'nsfdf'"
                    ]
                }
            ],
            "source": [
                "g = sys.modules[\"nsfdf\"]"
            ]
        },
        {
            "cell_type": "code",
            "execution_count": 240,
            "metadata": {},
            "outputs": [
                {
                    "data": {
                        "text/plain": [
                            "36"
                        ]
                    },
                    "execution_count": 240,
                    "metadata": {},
                    "output_type": "execute_result"
                }
            ],
            "source": [
                "g.sum(a)"
            ]
        },
        {
            "cell_type": "code",
            "execution_count": 254,
            "metadata": {},
            "outputs": [],
            "source": [
                "import scipy.sparse"
            ]
        },
        {
            "cell_type": "code",
            "execution_count": 259,
            "metadata": {},
            "outputs": [
                {
                    "data": {
                        "text/plain": [
                            "array([[1, 2, 3, 4],\n",
                            "       [5, 6, 7, 8]])"
                        ]
                    },
                    "execution_count": 259,
                    "metadata": {},
                    "output_type": "execute_result"
                }
            ],
            "source": [
                "a"
            ]
        },
        {
            "cell_type": "code",
            "execution_count": 260,
            "metadata": {},
            "outputs": [],
            "source": [
                "b = scipy.sparse.csr_matrix(a)"
            ]
        },
        {
            "cell_type": "code",
            "execution_count": 261,
            "metadata": {},
            "outputs": [
                {
                    "data": {
                        "text/plain": [
                            "<2x4 sparse matrix of type '<class 'numpy.int64'>'\n",
                            "\twith 8 stored elements in Compressed Sparse Row format>"
                        ]
                    },
                    "execution_count": 261,
                    "metadata": {},
                    "output_type": "execute_result"
                }
            ],
            "source": [
                "b"
            ]
        },
        {
            "cell_type": "code",
            "execution_count": 262,
            "metadata": {},
            "outputs": [
                {
                    "ename": "SyntaxError",
                    "evalue": "invalid syntax (<ipython-input-262-79331cfe0306>, line 1)",
                    "output_type": "error",
                    "traceback": [
                        "\u001b[0;36m  File \u001b[0;32m\"<ipython-input-262-79331cfe0306>\"\u001b[0;36m, line \u001b[0;32m1\u001b[0m\n\u001b[0;31m    import numpy as my.test\u001b[0m\n\u001b[0m                      ^\u001b[0m\n\u001b[0;31mSyntaxError\u001b[0m\u001b[0;31m:\u001b[0m invalid syntax\n"
                    ]
                }
            ],
            "source": [
                "import numpy as my.test"
            ]
        },
        {
            "cell_type": "code",
            "execution_count": 263,
            "metadata": {},
            "outputs": [
                {
                    "ename": "ImportError",
                    "evalue": "cannot import name 'sparse' from 'scipy.sparse' (/Users/dsvandet/opt/anaconda3/envs/qiskit-latest/lib/python3.8/site-packages/scipy/sparse/__init__.py)",
                    "output_type": "error",
                    "traceback": [
                        "\u001b[0;31m---------------------------------------------------------------------------\u001b[0m",
                        "\u001b[0;31mImportError\u001b[0m                               Traceback (most recent call last)",
                        "\u001b[0;32m<ipython-input-263-abefeed73ff9>\u001b[0m in \u001b[0;36m<module>\u001b[0;34m\u001b[0m\n\u001b[0;32m----> 1\u001b[0;31m \u001b[0;32mfrom\u001b[0m \u001b[0mscipy\u001b[0m\u001b[0;34m.\u001b[0m\u001b[0msparse\u001b[0m \u001b[0;32mimport\u001b[0m \u001b[0msparse\u001b[0m\u001b[0;34m\u001b[0m\u001b[0;34m\u001b[0m\u001b[0m\n\u001b[0m",
                        "\u001b[0;31mImportError\u001b[0m: cannot import name 'sparse' from 'scipy.sparse' (/Users/dsvandet/opt/anaconda3/envs/qiskit-latest/lib/python3.8/site-packages/scipy/sparse/__init__.py)"
                    ]
                }
            ],
            "source": [
                "from scipy.sparse import sparse"
            ]
        },
        {
            "cell_type": "code",
            "execution_count": 2,
            "metadata": {},
            "outputs": [],
            "source": [
                "import numpy as np\n",
                "\n",
                "\n",
                "class SMatrix:\n",
                "    def __new__(cls, matrix, stype=\"numpy\"):\n",
                "        \"\"\"Return a matrix of a specific type depending on the value of stype\n",
                "\n",
                "        Args:\n",
                "            matrix ([type]): input matrix to be converted to an stype matrix\n",
                "            stype (str, optional): type of matrix to return. Defaults to 'numpy'.\n",
                "\n",
                "        Raises:\n",
                "            TypeError: An error is raised if an unknown stype is provided.\n",
                "\n",
                "        Returns:\n",
                "            stype matrix: a matrix of type stype initialized by the input matrix\n",
                "        \"\"\"\n",
                "        if stype == \"numpy\":\n",
                "            return np.asarray(matrix)\n",
                "        elif stype == \"sparse\":\n",
                "            return sparse.csr_matrix(matrix)\n",
                "        else:\n",
                "            raise TypeError(\"Unknown stype\")\n",
                "\n",
                "    def get_methods(stype=\"numpy\"):\n",
                "        \"\"\"Return the module that contains the api methods for a given stype matrix\n",
                "\n",
                "        Args:\n",
                "            stype (str, optional): type of matrix module api to retrun. Defaults to 'numpy'.\n",
                "\n",
                "        Raises:\n",
                "            KeyError: A KeyError will be raised if a needed module that cannot be loaded\n",
                "            is not loaded.\n",
                "\n",
                "        Returns:\n",
                "            module : A module that includes the api for the stype matrices\n",
                "        \"\"\"\n",
                "        # Assumes that the needed modules are of a specific name sm.stype\n",
                "        #\n",
                "        # numpy -> sm_numpy\n",
                "        # sparse -> sm_sparse\n",
                "        #\n",
                "        # This needs to be done better\n",
                "        module_name = f\"sm_{stype}\"\n",
                "        try:\n",
                "            module = sys.modules[module_name]\n",
                "        except KeyError:\n",
                "            # TODO: If not loaded -> load via __import__\n",
                "            raise KeyError(f\"Module {module_name} not loaded.\")\n",
                "        return module"
            ]
        },
        {
            "cell_type": "code",
            "execution_count": 4,
            "metadata": {},
            "outputs": [],
            "source": [
                "a = np.array([[1, 2, 3, 4], [5, 6, 7, 8]])"
            ]
        },
        {
            "cell_type": "code",
            "execution_count": 5,
            "metadata": {},
            "outputs": [
                {
                    "data": {
                        "text/plain": [
                            "array([[1, 2, 3, 4],\n",
                            "       [5, 6, 7, 8]])"
                        ]
                    },
                    "execution_count": 5,
                    "metadata": {},
                    "output_type": "execute_result"
                }
            ],
            "source": [
                "a"
            ]
        },
        {
            "cell_type": "code",
            "execution_count": 6,
            "metadata": {},
            "outputs": [],
            "source": [
                "w = SMatrix(a)"
            ]
        },
        {
            "cell_type": "code",
            "execution_count": 7,
            "metadata": {},
            "outputs": [
                {
                    "data": {
                        "text/plain": [
                            "array([[1, 2, 3, 4],\n",
                            "       [5, 6, 7, 8]])"
                        ]
                    },
                    "execution_count": 7,
                    "metadata": {},
                    "output_type": "execute_result"
                }
            ],
            "source": [
                "w"
            ]
        },
        {
            "cell_type": "code",
            "execution_count": 8,
            "metadata": {},
            "outputs": [
                {
                    "data": {
                        "text/plain": [
                            "array([[1, 2, 3, 4],\n",
                            "       [5, 6, 7, 8]])"
                        ]
                    },
                    "execution_count": 8,
                    "metadata": {},
                    "output_type": "execute_result"
                }
            ],
            "source": [
                "a"
            ]
        },
        {
            "cell_type": "code",
            "execution_count": 13,
            "metadata": {},
            "outputs": [],
            "source": [
                "c = np.array([1, 1])"
            ]
        },
        {
            "cell_type": "code",
            "execution_count": 14,
            "metadata": {},
            "outputs": [
                {
                    "data": {
                        "text/plain": [
                            "array([[5, 6, 7, 8],\n",
                            "       [5, 6, 7, 8]])"
                        ]
                    },
                    "execution_count": 14,
                    "metadata": {},
                    "output_type": "execute_result"
                }
            ],
            "source": [
                "a[c]"
            ]
        },
        {
            "cell_type": "code",
            "execution_count": 15,
            "metadata": {},
            "outputs": [
                {
                    "data": {
                        "text/plain": [
                            "array([[1, 2, 3, 4],\n",
                            "       [5, 6, 7, 8]])"
                        ]
                    },
                    "execution_count": 15,
                    "metadata": {},
                    "output_type": "execute_result"
                }
            ],
            "source": [
                "a"
            ]
        },
        {
            "cell_type": "code",
            "execution_count": 16,
            "metadata": {},
            "outputs": [
                {
                    "data": {
                        "text/plain": [
                            "array([[5, 6, 7, 8],\n",
                            "       [5, 6, 7, 8]])"
                        ]
                    },
                    "execution_count": 16,
                    "metadata": {},
                    "output_type": "execute_result"
                }
            ],
            "source": [
                "a[[1, 1]]"
            ]
        },
        {
            "cell_type": "code",
            "execution_count": 17,
            "metadata": {},
            "outputs": [
                {
                    "data": {
                        "text/plain": [
                            "6"
                        ]
                    },
                    "execution_count": 17,
                    "metadata": {},
                    "output_type": "execute_result"
                }
            ],
            "source": [
                "a[1, 1]"
            ]
        },
        {
            "cell_type": "code",
            "execution_count": 19,
            "metadata": {},
            "outputs": [],
            "source": [
                "c = a[[0, 0, 1]]"
            ]
        },
        {
            "cell_type": "code",
            "execution_count": 20,
            "metadata": {},
            "outputs": [
                {
                    "data": {
                        "text/plain": [
                            "array([[1, 2, 3, 4],\n",
                            "       [1, 2, 3, 4],\n",
                            "       [5, 6, 7, 8]])"
                        ]
                    },
                    "execution_count": 20,
                    "metadata": {},
                    "output_type": "execute_result"
                }
            ],
            "source": [
                "c"
            ]
        },
        {
            "cell_type": "code",
            "execution_count": 21,
            "metadata": {},
            "outputs": [],
            "source": [
                "a[1][1] = 10"
            ]
        },
        {
            "cell_type": "code",
            "execution_count": 22,
            "metadata": {},
            "outputs": [
                {
                    "data": {
                        "text/plain": [
                            "array([[1, 2, 3, 4],\n",
                            "       [1, 2, 3, 4],\n",
                            "       [5, 6, 7, 8]])"
                        ]
                    },
                    "execution_count": 22,
                    "metadata": {},
                    "output_type": "execute_result"
                }
            ],
            "source": [
                "c"
            ]
        },
        {
            "cell_type": "code",
            "execution_count": 23,
            "metadata": {},
            "outputs": [
                {
                    "data": {
                        "text/plain": [
                            "array([[ 1,  2,  3,  4],\n",
                            "       [ 5, 10,  7,  8]])"
                        ]
                    },
                    "execution_count": 23,
                    "metadata": {},
                    "output_type": "execute_result"
                }
            ],
            "source": [
                "a"
            ]
        },
        {
            "cell_type": "code",
            "execution_count": 24,
            "metadata": {},
            "outputs": [
                {
                    "data": {
                        "text/plain": [
                            "array([ 5, 10,  7,  8])"
                        ]
                    },
                    "execution_count": 24,
                    "metadata": {},
                    "output_type": "execute_result"
                }
            ],
            "source": [
                "a[1]"
            ]
        },
        {
            "cell_type": "code",
            "execution_count": 25,
            "metadata": {},
            "outputs": [
                {
                    "data": {
                        "text/plain": [
                            "array([[ 5, 10,  7,  8]])"
                        ]
                    },
                    "execution_count": 25,
                    "metadata": {},
                    "output_type": "execute_result"
                }
            ],
            "source": [
                "np.atleast_2d(a[1])"
            ]
        },
        {
            "cell_type": "code",
            "execution_count": 26,
            "metadata": {},
            "outputs": [],
            "source": [
                "from qiskit.quantum_info.operators.symplectic.pauli import Pauli\n",
                "from qiskit.quantum_info.operators.symplectic.pauli_list import PauliList"
            ]
        },
        {
            "cell_type": "code",
            "execution_count": 27,
            "metadata": {},
            "outputs": [],
            "source": [
                "k = PauliList([\"XXI\", \"IYX\", \"YYY\"])"
            ]
        },
        {
            "cell_type": "code",
            "execution_count": 28,
            "metadata": {},
            "outputs": [
                {
                    "data": {
                        "text/plain": [
                            "PauliList(['XXI', 'IYX', 'YYY'])"
                        ]
                    },
                    "execution_count": 28,
                    "metadata": {},
                    "output_type": "execute_result"
                }
            ],
            "source": [
                "k"
            ]
        },
        {
            "cell_type": "code",
            "execution_count": 32,
            "metadata": {},
            "outputs": [
                {
                    "data": {
                        "text/plain": [
                            "array([[False,  True,  True],\n",
                            "       [ True,  True, False],\n",
                            "       [ True,  True,  True]])"
                        ]
                    },
                    "execution_count": 32,
                    "metadata": {},
                    "output_type": "execute_result"
                }
            ],
            "source": [
                "k._x"
            ]
        },
        {
            "cell_type": "code",
            "execution_count": 33,
            "metadata": {},
            "outputs": [
                {
                    "data": {
                        "text/plain": [
                            "Pauli('IYX')"
                        ]
                    },
                    "execution_count": 33,
                    "metadata": {},
                    "output_type": "execute_result"
                }
            ],
            "source": [
                "k[1]"
            ]
        },
        {
            "cell_type": "code",
            "execution_count": 38,
            "metadata": {},
            "outputs": [
                {
                    "data": {
                        "text/plain": [
                            "PauliList(['IYX'])"
                        ]
                    },
                    "execution_count": 38,
                    "metadata": {},
                    "output_type": "execute_result"
                }
            ],
            "source": [
                "k[1:2]"
            ]
        },
        {
            "cell_type": "code",
            "execution_count": 35,
            "metadata": {},
            "outputs": [
                {
                    "data": {
                        "text/plain": [
                            "Pauli('IYX')"
                        ]
                    },
                    "execution_count": 35,
                    "metadata": {},
                    "output_type": "execute_result"
                }
            ],
            "source": [
                "k[(1,)]"
            ]
        },
        {
            "cell_type": "code",
            "execution_count": 37,
            "metadata": {},
            "outputs": [
                {
                    "data": {
                        "text/plain": [
                            "[array([[0.+0.j, 0.+0.j, 0.+0.j, 0.+0.j, 0.+0.j, 0.+0.j, 1.+0.j, 0.+0.j],\n",
                            "        [0.+0.j, 0.+0.j, 0.+0.j, 0.+0.j, 0.+0.j, 0.+0.j, 0.+0.j, 1.+0.j],\n",
                            "        [0.+0.j, 0.+0.j, 0.+0.j, 0.+0.j, 1.+0.j, 0.+0.j, 0.+0.j, 0.+0.j],\n",
                            "        [0.+0.j, 0.+0.j, 0.+0.j, 0.+0.j, 0.+0.j, 1.+0.j, 0.+0.j, 0.+0.j],\n",
                            "        [0.+0.j, 0.+0.j, 1.+0.j, 0.+0.j, 0.+0.j, 0.+0.j, 0.+0.j, 0.+0.j],\n",
                            "        [0.+0.j, 0.+0.j, 0.+0.j, 1.+0.j, 0.+0.j, 0.+0.j, 0.+0.j, 0.+0.j],\n",
                            "        [1.+0.j, 0.+0.j, 0.+0.j, 0.+0.j, 0.+0.j, 0.+0.j, 0.+0.j, 0.+0.j],\n",
                            "        [0.+0.j, 1.+0.j, 0.+0.j, 0.+0.j, 0.+0.j, 0.+0.j, 0.+0.j, 0.+0.j]]),\n",
                            " array([[0.+0.j, 0.+0.j, 0.+0.j, 0.-1.j, 0.+0.j, 0.+0.j, 0.+0.j, 0.+0.j],\n",
                            "        [0.+0.j, 0.+0.j, 0.-1.j, 0.+0.j, 0.+0.j, 0.+0.j, 0.+0.j, 0.+0.j],\n",
                            "        [0.+0.j, 0.+1.j, 0.+0.j, 0.+0.j, 0.+0.j, 0.+0.j, 0.+0.j, 0.+0.j],\n",
                            "        [0.+1.j, 0.+0.j, 0.+0.j, 0.+0.j, 0.+0.j, 0.+0.j, 0.+0.j, 0.+0.j],\n",
                            "        [0.+0.j, 0.+0.j, 0.+0.j, 0.+0.j, 0.+0.j, 0.+0.j, 0.+0.j, 0.-1.j],\n",
                            "        [0.+0.j, 0.+0.j, 0.+0.j, 0.+0.j, 0.+0.j, 0.+0.j, 0.-1.j, 0.+0.j],\n",
                            "        [0.+0.j, 0.+0.j, 0.+0.j, 0.+0.j, 0.+0.j, 0.+1.j, 0.+0.j, 0.+0.j],\n",
                            "        [0.+0.j, 0.+0.j, 0.+0.j, 0.+0.j, 0.+1.j, 0.+0.j, 0.+0.j, 0.+0.j]]),\n",
                            " array([[ 0.+0.j,  0.+0.j,  0.+0.j,  0.+0.j,  0.+0.j,  0.+0.j,  0.+0.j,\n",
                            "          0.+1.j],\n",
                            "        [ 0.+0.j,  0.+0.j,  0.+0.j,  0.+0.j,  0.+0.j,  0.+0.j, -0.-1.j,\n",
                            "          0.+0.j],\n",
                            "        [ 0.+0.j,  0.+0.j,  0.+0.j,  0.+0.j,  0.+0.j, -0.-1.j,  0.+0.j,\n",
                            "          0.+0.j],\n",
                            "        [ 0.+0.j,  0.+0.j,  0.+0.j,  0.+0.j,  0.+1.j,  0.+0.j,  0.+0.j,\n",
                            "          0.+0.j],\n",
                            "        [ 0.+0.j,  0.+0.j,  0.+0.j, -0.-1.j,  0.+0.j,  0.+0.j,  0.+0.j,\n",
                            "          0.+0.j],\n",
                            "        [ 0.+0.j,  0.+0.j,  0.+1.j,  0.+0.j,  0.+0.j,  0.+0.j,  0.+0.j,\n",
                            "          0.+0.j],\n",
                            "        [ 0.+0.j,  0.+1.j,  0.+0.j,  0.+0.j,  0.+0.j,  0.+0.j,  0.+0.j,\n",
                            "          0.+0.j],\n",
                            "        [-0.-1.j,  0.+0.j,  0.+0.j,  0.+0.j,  0.+0.j,  0.+0.j,  0.+0.j,\n",
                            "          0.+0.j]])]"
                        ]
                    },
                    "execution_count": 37,
                    "metadata": {},
                    "output_type": "execute_result"
                }
            ],
            "source": [
                "k.to_matrix()"
            ]
        },
        {
            "cell_type": "code",
            "execution_count": 1,
            "metadata": {},
            "outputs": [
                {
                    "ename": "SyntaxError",
                    "evalue": "unmatched ')' (paulis_base.py, line 506)",
                    "output_type": "error",
                    "traceback": [
                        "Traceback \u001b[0;36m(most recent call last)\u001b[0m:\n",
                        "  File \u001b[1;32m\"/Users/dsvandet/opt/anaconda3/envs/qiskit-latest/lib/python3.8/site-packages/IPython/core/interactiveshell.py\"\u001b[0m, line \u001b[1;32m3418\u001b[0m, in \u001b[1;35mrun_code\u001b[0m\n    exec(code_obj, self.user_global_ns, self.user_ns)\n",
                        "  File \u001b[1;32m\"<ipython-input-1-157a820b30a3>\"\u001b[0m, line \u001b[1;32m1\u001b[0m, in \u001b[1;35m<module>\u001b[0m\n    from qiskit_qec.operators.pauli_list import PauliList\n",
                        "\u001b[0;36m  File \u001b[0;32m\"/Users/dsvandet/Software/Private/qec/qiskit-qec/qiskit_qec/operators/pauli_list.py\"\u001b[0;36m, line \u001b[0;32m52\u001b[0;36m, in \u001b[0;35m<module>\u001b[0;36m\u001b[0m\n\u001b[0;31m    from qiskit_qec.operators.paulis_base import PaulisBase\u001b[0m\n",
                        "\u001b[0;36m  File \u001b[0;32m\"/Users/dsvandet/Software/Private/qec/qiskit-qec/qiskit_qec/operators/paulis_base.py\"\u001b[0;36m, line \u001b[0;32m506\u001b[0m\n\u001b[0;31m    new_phase_exp = np.mod(self._phase_exponent + 2 * (self.num_y % 2), 4))\u001b[0m\n\u001b[0m                                                                          ^\u001b[0m\n\u001b[0;31mSyntaxError\u001b[0m\u001b[0;31m:\u001b[0m unmatched ')'\n"
                    ]
                }
            ],
            "source": [
                "from qiskit_qec.operators.pauli_list import PauliList"
            ]
        },
        {
            "cell_type": "code",
            "execution_count": 2,
            "metadata": {},
            "outputs": [
                {
                    "ename": "NameError",
                    "evalue": "name 'a' is not defined",
                    "output_type": "error",
                    "traceback": [
                        "\u001b[0;31m---------------------------------------------------------------------------\u001b[0m",
                        "\u001b[0;31mNameError\u001b[0m                                 Traceback (most recent call last)",
                        "\u001b[0;32m<ipython-input-2-3f786850e387>\u001b[0m in \u001b[0;36m<module>\u001b[0;34m\u001b[0m\n\u001b[0;32m----> 1\u001b[0;31m \u001b[0ma\u001b[0m\u001b[0;34m\u001b[0m\u001b[0;34m\u001b[0m\u001b[0m\n\u001b[0m",
                        "\u001b[0;31mNameError\u001b[0m: name 'a' is not defined"
                    ]
                }
            ],
            "source": [
                "a"
            ]
        },
        {
            "cell_type": "code",
            "execution_count": 4,
            "metadata": {},
            "outputs": [],
            "source": [
                "import numpy as np\n",
                "\n",
                "a = np.array([[1, 2, 2], [3, 4, 5]])"
            ]
        },
        {
            "cell_type": "code",
            "execution_count": 5,
            "metadata": {},
            "outputs": [
                {
                    "name": "stdout",
                    "output_type": "stream",
                    "text": [
                        "140 ns ± 4.23 ns per loop (mean ± std. dev. of 7 runs, 1000000 loops each)\n"
                    ]
                }
            ],
            "source": [
                "%timeit a[1]"
            ]
        },
        {
            "cell_type": "code",
            "execution_count": null,
            "metadata": {},
            "outputs": [],
            "source": []
        }
    ],
    "metadata": {
        "kernelspec": {
            "display_name": "Python 3",
            "language": "python",
            "name": "python3"
        },
        "language_info": {
            "codemirror_mode": {
                "name": "ipython",
                "version": 3
            },
            "file_extension": ".py",
            "mimetype": "text/x-python",
            "name": "python",
            "nbconvert_exporter": "python",
            "pygments_lexer": "ipython3",
            "version": "3.8.5"
        }
    },
    "nbformat": 4,
    "nbformat_minor": 4
}