{
 "cells": [
  {
   "cell_type": "code",
   "execution_count": 1,
   "id": "31498711-b49e-4e8e-88cc-7ba8d07580a2",
   "metadata": {},
   "outputs": [],
   "source": [
    "import numpy as np\n",
    "\n",
    "from qiskit_qec.geometry.model.qubit_count import QubitCount\n",
    "from qiskit_qec.geometry.model.qubit_data import QubitData\n",
    "\n",
    "from qiskit_qec.geometry.tiles.RSSC import RSSC\n",
    "from qiskit_qec.geometry.shape import Shape\n",
    "from qiskit_qec.geometry.plane import Plane\n",
    "from qiskit_qec.geometry.lattice import Lattice\n",
    "from qiskit_qec.geometry.model.tiling import Tiling"
   ]
  },
  {
   "cell_type": "code",
   "execution_count": 3,
   "id": "e129f5ce-d7fb-4959-8c07-a60268c94c85",
   "metadata": {},
   "outputs": [],
   "source": [
    "# Set parameters for RSSC code on the plane\n",
    "d=3\n",
    "manifold = Plane()\n",
    "\n",
    "# Create the bounding or cutter shape\n",
    "P = Shape.square(origin=(0,-1), direction=(1,1), length=d-1, manifold=manifold, dtype=int)\n",
    "\n",
    "# Set up the qubit counter and aux data structures\n",
    "qubit_count = QubitCount()\n",
    "qubit_data = QubitData()\n",
    "\n",
    "t = TileGenerator(tile=RSSC, lattice=P, qubit_count=qubit_count, qubit_data=qubit_data)\n",
    "M = t.generate_tile()\n",
    "\n",
    "def create_tiling(tile, cutter, qubit_count, qubit_data):\n",
    "                  \n",
    "    # Create an extended bounding box AABB\n",
    "    Be = P.bounds.copy()\n",
    "    amount = np.array([2,2])/2\n",
    "    Be.expand(amount)\n",
    "\n",
    "    # Basis for Tiling or get from Tile directly\n",
    "    u = np.array([2,0])\n",
    "    v = np.array([0,2])\n",
    "\n",
    "    # Create Tiling lattice\n",
    "    L = Lattice(u,v)\n",
    "\n",
    "    # Calculate shear/transform\n",
    "    l = L.find_shear_length(Be.size)\n",
    "\n",
    "    # Create standard l x l lattice to be transformed \n",
    "    S_l = Lattice(size=(l,l))\n",
    "\n",
    "    # Shear/transform the standard lattice into a sublattice of L\n",
    "    L_l = S_l.apply_transform_from(L)\n",
    "\n",
    "    # Mask the lattice with the expanded AABB\n",
    "    L_l = L_l.restrict(Be)\n",
    "\n",
    "    # Tile the restriced lattice L_l with RSSC tiles\n",
    "    t = TileGenerator(tile=RSSC, lattice=L_l, qubit_count=qubit_count, qubit_data=qubit_data)\n",
    "    M = t.generate_tile()\n",
    "    \n",
    "    return M"
   ]
  },
  {
   "cell_type": "code",
   "execution_count": 4,
   "id": "da9c52f9-a4ed-4350-8104-d700d904e4fe",
   "metadata": {},
   "outputs": [],
   "source": [
    "# Determine the intersection of faces/operators with defined region P\n",
    "operator_intersect = dict()\n",
    "for face in M.faces:\n",
    "    count = 0\n",
    "    for vertex in face.vertices:\n",
    "        if P.contains(vertex.pos):\n",
    "            count += 1\n",
    "    operator_intersect[face.id] = count\n",
    "\n",
    "# Split faces/operators into intersection level categories\n",
    "part = [[],[],[],[]]\n",
    "for id in operator_intersect.keys():\n",
    "    part[operator_intersect[id]].append(id)"
   ]
  },
  {
   "cell_type": "code",
   "execution_count": 5,
   "id": "70b3c776-e63a-49c2-b125-7e4f285a85a5",
   "metadata": {},
   "outputs": [
    {
     "data": {
      "text/plain": [
       "[[24, 32, 49, 65, 74, 82, 107, 123], [8, 16, 90, 98], [41, 57, 115, 131], []]"
      ]
     },
     "execution_count": 5,
     "metadata": {},
     "output_type": "execute_result"
    }
   ],
   "source": [
    " part"
   ]
  },
  {
   "cell_type": "code",
   "execution_count": 2,
   "id": "c4f70876-44f2-4c5e-a09e-70ab7a941e1f",
   "metadata": {},
   "outputs": [],
   "source": [
    "   \n",
    "# Cull faces.operators with k<2 qubits inside P\n",
    "\n",
    "k=2\n",
    "for i in range(k):\n",
    "    # Update the auxillary data\n",
    "    for face in M.faces:\n",
    "        if face.id in part[i]:\n",
    "            for vertex in face.vertices:\n",
    "                qubit_id = qubit_data.qubit[vertex.id]\n",
    "                qubit_count.decrement_qubit(qubit_id)\n",
    "      \n",
    "    # Delete faces and components from shell\n",
    "    M.delete_subtree(part[i])\n",
    "    \n",
    "\n"
   ]
  },
  {
   "cell_type": "code",
   "execution_count": 1,
   "id": "6fdbd095-504d-4603-afdf-700241e42326",
   "metadata": {},
   "outputs": [],
   "source": [
    "import numpy as np\n",
    "from qiskit_qec.geometry.model.vertex import Vertex\n",
    "from qiskit_qec.geometry.model.edge import Edge\n",
    "from qiskit_qec.geometry.model.wireframe import WireFrame\n",
    "from qiskit_qec.geometry.model.face import Face\n",
    "from qiskit_qec.geometry.model.shell import Shell"
   ]
  },
  {
   "cell_type": "code",
   "execution_count": 2,
   "id": "f1d48f63-704d-4639-8986-fee3de111caa",
   "metadata": {},
   "outputs": [],
   "source": [
    " def make_test():\n",
    "    a = Vertex(np.array([1,1]))\n",
    "    b = Vertex(np.array([2,2]))\n",
    "    c = Vertex(np.array([3,3]))\n",
    "\n",
    "    e1 = Edge([a,b])\n",
    "    e2 = Edge([b,c])\n",
    "\n",
    "    wf = WireFrame([e1,e2])\n",
    "    f = Face(wf)\n",
    "\n",
    "    s = Shell([f])\n",
    "    \n",
    "    \n",
    "    return s"
   ]
  },
  {
   "cell_type": "code",
   "execution_count": 3,
   "id": "bc946145-d674-46af-b491-f04fe958a59f",
   "metadata": {},
   "outputs": [],
   "source": [
    "s = make_test()"
   ]
  },
  {
   "cell_type": "code",
   "execution_count": 4,
   "id": "1a3c9837-0688-4976-9016-61fb7c4f0d0f",
   "metadata": {},
   "outputs": [],
   "source": [
    "def del_test(s):\n",
    "    tf = s.faces\n",
    "    s = None\n",
    "    for face in tf:\n",
    "        twf = face.wireframe\n",
    "        face = None\n",
    "        for wireframe in [twf]:\n",
    "            tedges = wireframe.edges\n",
    "            wireframe = None\n",
    "            for edge in tedges:\n",
    "                tvertices = edge.vertices\n",
    "                edge = None\n",
    "                for vertex in tvertices:\n",
    "                    vertex = None\n"
   ]
  },
  {
   "cell_type": "code",
   "execution_count": 6,
   "id": "5ab3cb34-6d8a-4eac-b4ff-f390b1b2d001",
   "metadata": {},
   "outputs": [],
   "source": [
    "del_test(s)"
   ]
  }
 ],
 "metadata": {
  "kernelspec": {
   "display_name": "Python 3 (ipykernel)",
   "language": "python",
   "name": "python3"
  },
  "language_info": {
   "codemirror_mode": {
    "name": "ipython",
    "version": 3
   },
   "file_extension": ".py",
   "mimetype": "text/x-python",
   "name": "python",
   "nbconvert_exporter": "python",
   "pygments_lexer": "ipython3",
   "version": "3.9.7"
  }
 },
 "nbformat": 4,
 "nbformat_minor": 5
}
