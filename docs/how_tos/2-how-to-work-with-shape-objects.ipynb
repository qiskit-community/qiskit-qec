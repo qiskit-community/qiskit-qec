{
 "cells": [
  {
   "cell_type": "markdown",
   "id": "936adb0d",
   "metadata": {},
   "source": [
    "# How-to: work with geometry objects\n",
    "\n",
    "The QEC Framework has some primitive geometric classes used to store geometric structures. At present these structures only consist of vertices, edges, wireframes, faces and shells. \n",
    "\n",
    "- A `Vertex` is a point in space\n",
    "- An `Edge` is a list of `Vertex`s (so hyperedges are allowed and so are self loops).\n",
    "- A `Wireframe` is a list of `Edge`s\n",
    "- A `Face` is a list of `Wireframe`s\n",
    "- A `Shell` is a list of `Faces`\n",
    "\n",
    "Vertices may have qubits associated with them. Currently this is not possible with edges etc. but this will be added in the future. An operator (Pauli operator) is associated with the `Face` and a set of Pauli operators is assocoiated with a `Shell`.\n",
    "\n",
    "The geometry system currently being used is a intermediate step until a solid geometry C++ library is created and implemented. Thus the current geometry work is not necessarily fast or fully featured.\n"
   ]
  },
  {
   "cell_type": "code",
   "execution_count": 1,
   "id": "952eb784",
   "metadata": {},
   "outputs": [],
   "source": [
    "import numpy as np\n",
    "\n",
    "from qiskit_qec.operators.pauli import Pauli\n",
    "\n",
    "from qiskit_qec.geometry.model.qubit_count import QubitCount\n",
    "from qiskit_qec.geometry.model.qubit_data import QubitData\n",
    "from qiskit_qec.geometry.model.vertex import Vertex\n",
    "from qiskit_qec.geometry.model.edge import Edge\n",
    "from qiskit_qec.geometry.model.wireframe import WireFrame\n",
    "from qiskit_qec.geometry.model.face import Face\n",
    "from qiskit_qec.geometry.model.shell import Shell\n",
    "\n",
    "\n",
    "# Create a square faces that represent an XXXX operator and a ZZZZ operator that\n",
    "# share a common edge.\n",
    "\n",
    "X_OPERATOR = Pauli(\"X\")\n",
    "Z_OPERATOR = Pauli(\"Z\")\n",
    "Y_OPERATOR = Pauli(\"Y\")\n",
    "\n",
    "qubit_count = QubitCount()\n",
    "qubit_data = QubitData()\n",
    "\n",
    "v1 = Vertex(np.array([0, 1]))\n",
    "qubit_data.qubit[v1.id] = qubit_count.new_qubit()\n",
    "qubit_count.increment_qubit(qubit_data.qubit[v1.id])\n",
    "qubit_data.operator[v1.id] = X_OPERATOR\n",
    "\n",
    "v2 = Vertex(np.array([1, 0]))\n",
    "qubit_data.qubit[v2.id] = qubit_count.new_qubit()\n",
    "qubit_count.increment_qubit(qubit_data.qubit[v2.id])\n",
    "qubit_data.operator[v2.id] = X_OPERATOR\n",
    "\n",
    "v3 = Vertex(np.array([1, 1]))\n",
    "qubit_data.qubit[v3.id] = qubit_count.new_qubit()\n",
    "qubit_count.increment_qubit(qubit_data.qubit[v3.id])\n",
    "qubit_data.operator[v3.id] = X_OPERATOR\n",
    "\n",
    "v4 = Vertex(np.array([0, 0]))\n",
    "qubit_data.qubit[v4.id] = qubit_count.new_qubit()\n",
    "qubit_count.increment_qubit(qubit_data.qubit[v4.id])\n",
    "qubit_data.operator[v4.id] = X_OPERATOR\n",
    "\n",
    "\n",
    "e1 = Edge([v4, v2])\n",
    "e2 = Edge([v2, v3])\n",
    "e3 = Edge([v3, v1])\n",
    "e4 = Edge([v1, v4])\n",
    "\n",
    "wf1 = WireFrame([e1, e2, e3, e4])\n",
    "f1 = Face([wf1])\n",
    "\n",
    "v5 = Vertex(np.array([1, 0]))\n",
    "qubit_data.qubit[v5.id] = qubit_data.qubit[v1.id]\n",
    "qubit_count.increment_qubit(qubit_data.qubit[v1.id])\n",
    "qubit_data.operator[v5.id] = Z_OPERATOR\n",
    "\n",
    "v6 = Vertex(np.array([1, 1]))\n",
    "qubit_data.qubit[v6.id] = qubit_data.qubit[v3.id]\n",
    "qubit_count.increment_qubit(qubit_data.qubit[v3.id])\n",
    "qubit_data.operator[v6.id] = Z_OPERATOR\n",
    "\n",
    "v7 = Vertex(np.array([2, 0]))\n",
    "qubit_data.qubit[v7.id] = qubit_count.new_qubit()\n",
    "qubit_count.increment_qubit(qubit_data.qubit[v7.id])\n",
    "qubit_data.operator[v7.id] = Z_OPERATOR\n",
    "\n",
    "v8 = Vertex(np.array([2, 1]))\n",
    "qubit_data.qubit[v8.id] = qubit_count.new_qubit()\n",
    "qubit_count.increment_qubit(qubit_data.qubit[v8.id])\n",
    "qubit_data.operator[v8.id] = Z_OPERATOR\n",
    "\n",
    "\n",
    "e5 = Edge([v5, v6])\n",
    "e6 = Edge([v6, v8])\n",
    "e7 = Edge([v8, v7])\n",
    "e8 = Edge([v7, v5])\n",
    "\n",
    "wf2 = WireFrame([e5, e5, e6, e7])\n",
    "f2 = Face([wf2])\n",
    "\n",
    "s = Shell([f1, f2])"
   ]
  },
  {
   "cell_type": "code",
   "execution_count": 14,
   "id": "4cc2c85f",
   "metadata": {},
   "outputs": [
    {
     "data": {
      "image/png": "[encoded data removed]",
      "text/plain": [
       "<Figure size 720x720 with 1 Axes>"
      ]
     },
     "metadata": {
      "needs_background": "light"
     },
     "output_type": "display_data"
    }
   ],
   "source": [
    "# Draw the shell\n",
    "s.draw(qubit_data=qubit_data, xcolor='green', zcolor='yellow', show_face_ids=True)"
   ]
  },
  {
   "cell_type": "code",
   "execution_count": null,
   "id": "87d63d47",
   "metadata": {},
   "outputs": [],
   "source": []
  }
 ],
 "metadata": {
  "kernelspec": {
   "display_name": "Python 3 (ipykernel)",
   "language": "python",
   "name": "python3"
  },
  "language_info": {
   "codemirror_mode": {
    "name": "ipython",
    "version": 3
   },
   "file_extension": ".py",
   "mimetype": "text/x-python",
   "name": "python",
   "nbconvert_exporter": "python",
   "pygments_lexer": "ipython3",
   "version": "3.9.12"
  }
 },
 "nbformat": 4,
 "nbformat_minor": 5
}
