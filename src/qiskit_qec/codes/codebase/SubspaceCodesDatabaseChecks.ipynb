{
 "cells": [
  {
   "cell_type": "code",
   "execution_count": 1,
   "id": "2c7b4007-9837-4ac4-a731-faa6a294fc0c",
   "metadata": {},
   "outputs": [],
   "source": [
    "import numpy as np\n",
    "\n",
    "np.set_printoptions(threshold=np.inf, linewidth=np.inf)\n",
    "\n",
    "from matplotlib import pyplot as plt\n",
    "\n",
    "from qiskit_qec.info.properties import Properties\n",
    "import qiskit_qec.codes.codebase as cb"
   ]
  },
  {
   "cell_type": "code",
   "execution_count": 2,
   "id": "1178a2bc-cd04-44cd-85b6-9bd5939ff0ec",
   "metadata": {},
   "outputs": [],
   "source": [
    "from IPython.display import display, Math\n",
    "\n",
    "# Pretty print matrix: Thanks to Krzysztof Mizgała\n",
    "def lprint(array):\n",
    "    matrix = \"\"\n",
    "    for row in array:\n",
    "        try:\n",
    "            for number in row:\n",
    "                matrix += f\"{number}&\"\n",
    "        except TypeError:\n",
    "            matrix += f\"{row}&\"\n",
    "        matrix = matrix[:-1] + r\"\\\\\"\n",
    "    display(Math(r\"\\begin{bmatrix}\" + matrix + r\"\\end{bmatrix}\"))"
   ]
  },
  {
   "cell_type": "markdown",
   "id": "f327c7dc-3b85-4432-b820-0420c02be7e1",
   "metadata": {},
   "source": [
    "# Count all codes in base database"
   ]
  },
  {
   "cell_type": "code",
   "execution_count": 3,
   "id": "3e291254-45df-44a0-8d94-98e27129d5b9",
   "metadata": {},
   "outputs": [
    {
     "name": "stdout",
     "output_type": "stream",
     "text": [
      "Total number of codes: n = 0 : 0\n",
      "[[1,0]]: 1\n",
      "Total number of codes: n = 1 : 1\n",
      "[[2,0]]: 2\n",
      "[[2,1]]: 2\n",
      "Total number of codes: n = 2 : 4\n",
      "[[3,0]]: 3\n",
      "[[3,1]]: 5\n",
      "[[3,2]]: 3\n",
      "Total number of codes: n = 3 : 11\n",
      "[[4,0]]: 6\n",
      "[[4,1]]: 13\n",
      "[[4,2]]: 11\n",
      "[[4,3]]: 4\n",
      "Total number of codes: n = 4 : 34\n",
      "[[5,0]]: 11\n",
      "[[5,1]]: 36\n",
      "[[5,2]]: 40\n",
      "[[5,3]]: 19\n",
      "[[5,4]]: 5\n",
      "Total number of codes: n = 5 : 111\n",
      "[[6,0]]: 26\n",
      "[[6,1]]: 115\n",
      "[[6,2]]: 185\n",
      "[[6,3]]: 109\n",
      "[[6,4]]: 32\n",
      "[[6,5]]: 6\n",
      "Total number of codes: n = 6 : 473\n",
      "[[7,0]]: 59\n",
      "[[7,1]]: 448\n",
      "[[7,2]]: 1075\n",
      "[[7,3]]: 852\n",
      "[[7,4]]: 267\n",
      "[[7,5]]: 48\n",
      "[[7,6]]: 7\n",
      "Total number of codes: n = 7 : 2756\n",
      "[[8,0]]: 182\n",
      "[[8,1]]: 2371\n",
      "[[8,2]]: 10010\n",
      "[[8,3]]: 11422\n",
      "[[8,4]]: 3963\n",
      "[[8,5]]: 614\n",
      "[[8,6]]: 71\n",
      "[[8,7]]: 8\n",
      "Total number of codes: n = 8 : 28641\n",
      "[[9,0]]: 675\n",
      "[[9,1]]: 20128\n",
      "[[9,2]]: 181039\n",
      "[[9,3]]: 353569\n",
      "[[9,4]]: 146658\n",
      "[[9,5]]: 18445\n",
      "[[9,6]]: 1344\n",
      "[[9,7]]: 99\n",
      "[[9,8]]: 9\n",
      "Total number of codes: n = 9 : 721966\n"
     ]
    }
   ],
   "source": [
    "for n in range(10):\n",
    "    total = 0\n",
    "    num = 0\n",
    "    for k in range(n):\n",
    "        codes = cb.all_small_codes(n, k, info_only=True, list_only=True)\n",
    "        try:\n",
    "            num = len(codes)\n",
    "            print(f\"[[{n},{k}]]: {num}\")\n",
    "        except TypeError:\n",
    "            pass\n",
    "        total = total + num\n",
    "    print(f\"Total number of codes: n = {n} : {total}\")"
   ]
  },
  {
   "cell_type": "markdown",
   "id": "9fa33eb8-e204-44aa-bcee-ba4b1ff2027c",
   "metadata": {},
   "source": [
    "## Count all codes that are not decomposbale"
   ]
  },
  {
   "cell_type": "code",
   "execution_count": 4,
   "id": "a4826299-d4d5-483f-bf3a-c037e6a6d7f9",
   "metadata": {},
   "outputs": [
    {
     "name": "stdout",
     "output_type": "stream",
     "text": [
      "Total number of codes: n = 0 : 0\n",
      "[[1,0]]: 1\n",
      "Total number of codes: n = 1 : 1\n",
      "[[2,0]]: 1\n",
      "[[2,1]]: 1\n",
      "Total number of codes: n = 2 : 2\n",
      "[[3,0]]: 1\n",
      "[[3,1]]: 2\n",
      "[[3,2]]: 1\n",
      "Total number of codes: n = 3 : 4\n",
      "[[4,0]]: 2\n",
      "[[4,1]]: 6\n",
      "[[4,2]]: 4\n",
      "[[4,3]]: 1\n",
      "Total number of codes: n = 4 : 13\n",
      "[[5,0]]: 4\n",
      "[[5,1]]: 17\n",
      "[[5,2]]: 18\n",
      "[[5,3]]: 6\n",
      "[[5,4]]: 1\n",
      "Total number of codes: n = 5 : 46\n",
      "[[6,0]]: 11\n",
      "[[6,1]]: 63\n",
      "[[6,2]]: 107\n",
      "[[6,3]]: 53\n",
      "[[6,4]]: 10\n",
      "[[6,5]]: 1\n",
      "Total number of codes: n = 6 : 245\n",
      "[[7,0]]: 26\n",
      "[[7,1]]: 284\n",
      "[[7,2]]: 754\n",
      "[[7,3]]: 556\n",
      "[[7,4]]: 131\n",
      "[[7,5]]: 13\n",
      "[[7,6]]: 1\n",
      "Total number of codes: n = 7 : 1765\n",
      "[[8,0]]: 101\n",
      "[[8,1]]: 1767\n",
      "[[8,2]]: 8328\n",
      "[[8,3]]: 9417\n",
      "[[8,4]]: 2834\n",
      "[[8,5]]: 306\n",
      "[[8,6]]: 19\n",
      "[[8,7]]: 1\n",
      "Total number of codes: n = 8 : 22773\n",
      "[[9,0]]: 440\n",
      "[[9,1]]: 17143\n",
      "[[9,2]]: 167595\n",
      "[[9,3]]: 331296\n",
      "[[9,4]]: 131035\n",
      "[[9,5]]: 13852\n",
      "[[9,6]]: 668\n",
      "[[9,7]]: 24\n",
      "[[9,8]]: 1\n",
      "Total number of codes: n = 9 : 662054\n"
     ]
    }
   ],
   "source": [
    "for n in range(10):\n",
    "    total = 0\n",
    "    num = 0\n",
    "    for k in range(n):\n",
    "        codes = cb.all_small_codes(n, k, is_decomposable=False, info_only=True, list_only=True)\n",
    "        try:\n",
    "            num = len(codes)\n",
    "            print(f\"[[{n},{k}]]: {num}\")\n",
    "        except TypeError:\n",
    "            pass\n",
    "        total = total + num\n",
    "    print(f\"Total number of codes: n = {n} : {total}\")"
   ]
  },
  {
   "cell_type": "markdown",
   "id": "a54282b0-7026-4287-b714-b63a5ac47f5f",
   "metadata": {},
   "source": [
    "## Count all codes that are decomposbale"
   ]
  },
  {
   "cell_type": "code",
   "execution_count": 300,
   "id": "e8b9eabf-8e4e-4b22-a3d9-da4c9770218d",
   "metadata": {},
   "outputs": [
    {
     "name": "stdout",
     "output_type": "stream",
     "text": [
      "Total number of codes: n = 0 : 0\n",
      "[[1,0]]: 0\n",
      "Total number of codes: n = 1 : 0\n",
      "[[2,0]]: 1\n",
      "[[2,1]]: 1\n",
      "Total number of codes: n = 2 : 2\n",
      "[[3,0]]: 2\n",
      "[[3,1]]: 3\n",
      "[[3,2]]: 2\n",
      "Total number of codes: n = 3 : 7\n",
      "[[4,0]]: 4\n",
      "[[4,1]]: 7\n",
      "[[4,2]]: 7\n",
      "[[4,3]]: 3\n",
      "Total number of codes: n = 4 : 21\n",
      "[[5,0]]: 7\n",
      "[[5,1]]: 19\n",
      "[[5,2]]: 22\n",
      "[[5,3]]: 13\n",
      "[[5,4]]: 4\n",
      "Total number of codes: n = 5 : 65\n",
      "[[6,0]]: 15\n",
      "[[6,1]]: 52\n",
      "[[6,2]]: 78\n",
      "[[6,3]]: 56\n",
      "[[6,4]]: 22\n",
      "[[6,5]]: 5\n",
      "Total number of codes: n = 6 : 228\n",
      "[[7,0]]: 33\n",
      "[[7,1]]: 164\n",
      "[[7,2]]: 321\n",
      "[[7,3]]: 296\n",
      "[[7,4]]: 136\n",
      "[[7,5]]: 35\n",
      "[[7,6]]: 6\n",
      "Total number of codes: n = 7 : 991\n",
      "[[8,0]]: 81\n",
      "[[8,1]]: 604\n",
      "[[8,2]]: 1682\n",
      "[[8,3]]: 2005\n",
      "[[8,4]]: 1129\n",
      "[[8,5]]: 308\n",
      "[[8,6]]: 52\n",
      "[[8,7]]: 7\n",
      "Total number of codes: n = 8 : 5868\n",
      "[[9,0]]: 235\n",
      "[[9,1]]: 2985\n",
      "[[9,2]]: 13444\n",
      "[[9,3]]: 22273\n",
      "[[9,4]]: 15623\n",
      "[[9,5]]: 4593\n",
      "[[9,6]]: 676\n",
      "[[9,7]]: 75\n",
      "[[9,8]]: 8\n",
      "Total number of codes: n = 9 : 59912\n"
     ]
    }
   ],
   "source": [
    "for n in range(10):\n",
    "    total = 0\n",
    "    num = 0\n",
    "    for k in range(n):\n",
    "        codes = cb.all_small_codes(n, k, is_decomposable=True, info_only=True, list_only=True)\n",
    "        try:\n",
    "            num = len(codes)\n",
    "            print(f\"[[{n},{k}]]: {num}\")\n",
    "        except TypeError:\n",
    "            pass\n",
    "        total = total + num\n",
    "    print(f\"Total number of codes: n = {n} : {total}\")"
   ]
  },
  {
   "cell_type": "markdown",
   "id": "ddb13dff-7cc7-4e77-9ee2-b5a717a3d9a1",
   "metadata": {},
   "source": [
    "# Indecomposable codes : maximum distance"
   ]
  },
  {
   "cell_type": "code",
   "execution_count": 315,
   "id": "389e0db4-f46e-4a3c-b854-ea48b51051d2",
   "metadata": {},
   "outputs": [
    {
     "name": "stdout",
     "output_type": "stream",
     "text": [
      "[[2,1]] : 1\n",
      "[[3,1]] : 1\n",
      "[[3,2]] : 1\n",
      "[[4,1]] : 2\n",
      "[[4,2]] : 2\n",
      "[[4,3]] : 1\n",
      "[[5,1]] : 3\n",
      "[[5,2]] : 2\n",
      "[[5,3]] : 1\n",
      "[[5,4]] : 1\n",
      "[[6,1]] : 3\n",
      "[[6,2]] : 2\n",
      "[[6,3]] : 2\n",
      "[[6,4]] : 2\n",
      "[[6,5]] : 1\n",
      "[[7,1]] : 3\n",
      "[[7,2]] : 2\n",
      "[[7,3]] : 2\n",
      "[[7,4]] : 2\n",
      "[[7,5]] : 1\n",
      "[[7,6]] : 1\n",
      "[[8,1]] : 3\n",
      "[[8,2]] : 3\n",
      "[[8,3]] : 3\n",
      "[[8,4]] : 2\n",
      "[[8,5]] : 2\n",
      "[[8,6]] : 2\n",
      "[[8,7]] : 1\n",
      "[[9,1]] : 3\n",
      "[[9,2]] : 3\n",
      "[[9,3]] : 3\n",
      "[[9,4]] : 2\n",
      "[[9,5]] : 2\n",
      "[[9,6]] : 2\n",
      "[[9,7]] : 1\n",
      "[[9,8]] : 1\n"
     ]
    }
   ],
   "source": [
    "mat = np.zeros((9, 9), dtype=int)\n",
    "n_set = []\n",
    "k_set = []\n",
    "d_set = []\n",
    "for n in range(10):\n",
    "    for k in range(1, 10):\n",
    "        codes = cb.all_small_codes(n, k, is_decomposable=False, info_only=True, list_only=True)\n",
    "        if len(codes) > 0:\n",
    "            d_max = -1\n",
    "            code_index = -1\n",
    "            for code in codes:\n",
    "                if code[\"d\"] > d_max:\n",
    "                    d_max = code[\"d\"]\n",
    "                    code_index = code[\"index\"]\n",
    "            n_set += [n]\n",
    "            k_set += [k]\n",
    "            d_set += [d_max]\n",
    "            mat[n - 1, k - 1] = d_max\n",
    "            print(f\"[[{n},{k}]] : {d_max}\")"
   ]
  },
  {
   "cell_type": "code",
   "execution_count": 321,
   "id": "67380352-b3a7-4fd7-aa70-57f9fefcac96",
   "metadata": {},
   "outputs": [
    {
     "data": {
      "text/latex": [
       "$\\displaystyle \\begin{bmatrix}0&0&0&0&0&0&0&0&0\\\\1&0&0&0&0&0&0&0&0\\\\1&1&0&0&0&0&0&0&0\\\\2&2&1&0&0&0&0&0&0\\\\3&2&1&1&0&0&0&0&0\\\\3&2&2&2&1&0&0&0&0\\\\3&2&2&2&1&1&0&0&0\\\\3&3&3&2&2&2&1&0&0\\\\3&3&3&2&2&2&1&1&0\\\\\\end{bmatrix}$"
      ],
      "text/plain": [
       "<IPython.core.display.Math object>"
      ]
     },
     "metadata": {},
     "output_type": "display_data"
    }
   ],
   "source": [
    "lprint(mat)"
   ]
  },
  {
   "cell_type": "code",
   "execution_count": 314,
   "id": "5b6964bf-789d-4ee1-9eaf-dea9017a06ab",
   "metadata": {},
   "outputs": [
    {
     "data": {
      "image/png": "[encoded data removed]",
      "text/plain": [
       "<Figure size 640x480 with 1 Axes>"
      ]
     },
     "metadata": {},
     "output_type": "display_data"
    }
   ],
   "source": [
    "# Create a figure and axis\n",
    "fig = plt.figure()\n",
    "ax = fig.add_subplot(111, projection=\"3d\")\n",
    "# Plot 3D surface\n",
    "ax.plot_trisurf(n_set, k_set, d_set, cmap=\"viridis\", edgecolor=\"none\")\n",
    "ax.view_init(elev=10.0, azim=50)  # Set the view angle. Top rotate change the azim value\n",
    "# Set labels and title\n",
    "ax.set_xlabel(\"n\")\n",
    "ax.set_ylabel(\"k\")\n",
    "ax.set_zlabel(\"d\")\n",
    "ax.set_title(\"Indecomposable codes : maximum distance\")\n",
    "\n",
    "# Show plot\n",
    "plt.show()"
   ]
  },
  {
   "cell_type": "markdown",
   "id": "bb6faf25-63e9-4de1-a6a4-ebfd96124fd1",
   "metadata": {},
   "source": [
    "## Number of indecomposable codes of distance 1"
   ]
  },
  {
   "cell_type": "code",
   "execution_count": 324,
   "id": "9c622b55-be76-4404-ae64-c69b4b823913",
   "metadata": {},
   "outputs": [
    {
     "name": "stdout",
     "output_type": "stream",
     "text": [
      "[[2,1,2]]: 1\n",
      "[[3,1,2]]: 2\n",
      "[[3,2,2]]: 1\n",
      "[[4,1,2]]: 4\n",
      "[[4,2,2]]: 3\n",
      "[[4,3,2]]: 1\n",
      "[[5,1,2]]: 12\n",
      "[[5,2,2]]: 16\n",
      "[[5,3,2]]: 6\n",
      "[[5,4,2]]: 1\n",
      "[[6,1,2]]: 35\n",
      "[[6,2,2]]: 82\n",
      "[[6,3,2]]: 48\n",
      "[[6,4,2]]: 9\n",
      "[[6,5,2]]: 1\n",
      "[[7,1,2]]: 140\n",
      "[[7,2,2]]: 545\n",
      "[[7,3,2]]: 494\n",
      "[[7,4,2]]: 125\n",
      "[[7,5,2]]: 13\n",
      "[[7,6,2]]: 1\n",
      "[[8,1,2]]: 646\n",
      "[[8,2,2]]: 4858\n",
      "[[8,3,2]]: 7373\n",
      "[[8,4,2]]: 2579\n",
      "[[8,5,2]]: 295\n",
      "[[8,6,2]]: 18\n",
      "[[8,7,2]]: 1\n",
      "[[9,1,2]]: 4337\n",
      "[[9,2,2]]: 69122\n",
      "[[9,3,2]]: 202670\n",
      "[[9,4,2]]: 107191\n",
      "[[9,5,2]]: 13095\n",
      "[[9,6,2]]: 656\n",
      "[[9,7,2]]: 24\n",
      "[[9,8,2]]: 1\n"
     ]
    }
   ],
   "source": [
    "for n in range(10):\n",
    "    num = 0\n",
    "    for k in range(1, n):\n",
    "        codes = cb.all_small_codes(n, k, d=1, is_decomposable=False, info_only=True, list_only=True)\n",
    "        try:\n",
    "            num = len(codes)\n",
    "            print(f\"[[{n},{k},{2}]]: {num}\")\n",
    "        except TypeError:\n",
    "            pass"
   ]
  },
  {
   "cell_type": "code",
   "execution_count": 325,
   "id": "380ff526-62c9-4a7d-be88-5452e4d81c3b",
   "metadata": {},
   "outputs": [
    {
     "data": {
      "text/latex": [
       "$\\displaystyle \\begin{bmatrix}0&0&0&0&0&0&0&0&0\\\\1&0&0&0&0&0&0&0&0\\\\2&1&0&0&0&0&0&0&0\\\\4&3&1&0&0&0&0&0&0\\\\12&16&6&1&0&0&0&0&0\\\\35&82&48&9&1&0&0&0&0\\\\140&545&494&125&13&1&0&0&0\\\\646&4858&7373&2579&295&18&1&0&0\\\\4337&69122&202670&107191&13095&656&24&1&0\\\\\\end{bmatrix}$"
      ],
      "text/plain": [
       "<IPython.core.display.Math object>"
      ]
     },
     "metadata": {},
     "output_type": "display_data"
    }
   ],
   "source": [
    "results = np.zeros((9, 9), dtype=int)\n",
    "\n",
    "for n in range(10):\n",
    "    num = 0\n",
    "    for k in range(1, n):\n",
    "        codes = cb.all_small_codes(n, k, d=1, is_decomposable=False, info_only=True, list_only=True)\n",
    "        try:\n",
    "            num = len(codes)\n",
    "            results[n - 1][k - 1] = num\n",
    "        except TypeError:\n",
    "            pass\n",
    "lprint(results)"
   ]
  },
  {
   "cell_type": "markdown",
   "id": "73955dd8-71e7-49d9-a460-cafc0106105b",
   "metadata": {},
   "source": [
    "## Number of indecomposable codes of distance 2"
   ]
  },
  {
   "cell_type": "code",
   "execution_count": 96,
   "id": "80802720-a539-4030-b178-328581f69815",
   "metadata": {},
   "outputs": [
    {
     "name": "stdout",
     "output_type": "stream",
     "text": [
      "[[2,1,2]]: 0\n",
      "[[3,1,2]]: 0\n",
      "[[3,2,2]]: 0\n",
      "[[4,1,2]]: 2\n",
      "[[4,2,2]]: 1\n",
      "[[4,3,2]]: 0\n",
      "[[5,1,2]]: 4\n",
      "[[5,2,2]]: 2\n",
      "[[5,3,2]]: 0\n",
      "[[5,4,2]]: 0\n",
      "[[6,1,2]]: 27\n",
      "[[6,2,2]]: 25\n",
      "[[6,3,2]]: 5\n",
      "[[6,4,2]]: 1\n",
      "[[6,5,2]]: 0\n",
      "[[7,1,2]]: 128\n",
      "[[7,2,2]]: 209\n",
      "[[7,3,2]]: 62\n",
      "[[7,4,2]]: 6\n",
      "[[7,5,2]]: 0\n",
      "[[7,6,2]]: 0\n",
      "[[8,1,2]]: 964\n",
      "[[8,2,2]]: 3450\n",
      "[[8,3,2]]: 2043\n",
      "[[8,4,2]]: 255\n",
      "[[8,5,2]]: 11\n",
      "[[8,6,2]]: 1\n",
      "[[8,7,2]]: 0\n",
      "[[9,1,2]]: 9395\n",
      "[[9,2,2]]: 94048\n",
      "[[9,3,2]]: 128405\n",
      "[[9,4,2]]: 23844\n",
      "[[9,5,2]]: 757\n",
      "[[9,6,2]]: 12\n",
      "[[9,7,2]]: 0\n",
      "[[9,8,2]]: 0\n"
     ]
    }
   ],
   "source": [
    "for n in range(10):\n",
    "    num = 0\n",
    "    for k in range(1, n):\n",
    "        codes = cb.all_small_codes(n, k, d=2, is_decomposable=False, info_only=True, list_only=True)\n",
    "        try:\n",
    "            num = len(codes)\n",
    "            print(f\"[[{n},{k},{2}]]: {num}\")\n",
    "        except TypeError:\n",
    "            pass"
   ]
  },
  {
   "cell_type": "code",
   "execution_count": 322,
   "id": "a16cad82-184a-4933-8f7d-70d50c6059db",
   "metadata": {},
   "outputs": [
    {
     "data": {
      "text/latex": [
       "$\\displaystyle \\begin{bmatrix}0&0&0&0&0&0&0&0&0\\\\0&0&0&0&0&0&0&0&0\\\\0&0&0&0&0&0&0&0&0\\\\2&1&0&0&0&0&0&0&0\\\\4&2&0&0&0&0&0&0&0\\\\27&25&5&1&0&0&0&0&0\\\\128&209&62&6&0&0&0&0&0\\\\964&3450&2043&255&11&1&0&0&0\\\\9395&94048&128405&23844&757&12&0&0&0\\\\\\end{bmatrix}$"
      ],
      "text/plain": [
       "<IPython.core.display.Math object>"
      ]
     },
     "metadata": {},
     "output_type": "display_data"
    }
   ],
   "source": [
    "results = np.zeros((9, 9), dtype=int)\n",
    "\n",
    "for n in range(10):\n",
    "    num = 0\n",
    "    for k in range(1, n):\n",
    "        codes = cb.all_small_codes(n, k, d=2, is_decomposable=False, info_only=True, list_only=True)\n",
    "        try:\n",
    "            num = len(codes)\n",
    "            results[n - 1][k - 1] = num\n",
    "        except TypeError:\n",
    "            pass\n",
    "lprint(results)"
   ]
  },
  {
   "cell_type": "markdown",
   "id": "bb28459e-c603-4971-9d49-ae0fdf161934",
   "metadata": {},
   "source": [
    "## Number of indecomposable codes of distance 3"
   ]
  },
  {
   "cell_type": "code",
   "execution_count": 323,
   "id": "99d7317b-294b-4df4-87d9-05e118b0db51",
   "metadata": {},
   "outputs": [
    {
     "data": {
      "text/latex": [
       "$\\displaystyle \\begin{bmatrix}0&0&0&0&0&0&0&0&0\\\\0&0&0&0&0&0&0&0&0\\\\0&0&0&0&0&0&0&0&0\\\\0&0&0&0&0&0&0&0&0\\\\1&0&0&0&0&0&0&0&0\\\\1&0&0&0&0&0&0&0&0\\\\16&0&0&0&0&0&0&0&0\\\\157&20&1&0&0&0&0&0&0\\\\3411&4425&221&0&0&0&0&0&0\\\\\\end{bmatrix}$"
      ],
      "text/plain": [
       "<IPython.core.display.Math object>"
      ]
     },
     "metadata": {},
     "output_type": "display_data"
    }
   ],
   "source": [
    "results = np.zeros((9, 9), dtype=int)\n",
    "\n",
    "for n in range(10):\n",
    "    num = 0\n",
    "    for k in range(1, n):\n",
    "        codes = cb.all_small_codes(n, k, d=3, is_decomposable=False, info_only=True, list_only=True)\n",
    "        try:\n",
    "            num = len(codes)\n",
    "            results[n - 1][k - 1] = num\n",
    "        except TypeError:\n",
    "            pass\n",
    "\n",
    "lprint(results)"
   ]
  },
  {
   "cell_type": "markdown",
   "id": "4dc01ac9-07d4-4c4e-8636-4ae265b3d575",
   "metadata": {},
   "source": [
    "## Number of indecomposable codes that are CSS"
   ]
  },
  {
   "cell_type": "code",
   "execution_count": 326,
   "id": "43ed8f31-00b6-4d09-8988-43ea3946c590",
   "metadata": {},
   "outputs": [
    {
     "data": {
      "text/latex": [
       "$\\displaystyle \\begin{bmatrix}0&0&0&0&0&0&0&0&0\\\\1&0&0&0&0&0&0&0&0\\\\2&1&0&0&0&0&0&0&0\\\\5&4&1&0&0&0&0&0&0\\\\13&13&5&1&0&0&0&0&0\\\\37&60&32&9&1&0&0&0&0\\\\116&245&198&65&10&1&0&0&0\\\\398&1197&1290&603&122&15&1&0&0\\\\1532&6163&9280&5701&1571&214&17&1&0\\\\\\end{bmatrix}$"
      ],
      "text/plain": [
       "<IPython.core.display.Math object>"
      ]
     },
     "metadata": {},
     "output_type": "display_data"
    }
   ],
   "source": [
    "results = np.zeros((9, 9), dtype=int)\n",
    "\n",
    "for n in range(10):\n",
    "    num = 0\n",
    "    for k in range(1, n):\n",
    "        codes = cb.all_small_codes(\n",
    "            n, k, is_decomposable=False, is_css=True, info_only=True, list_only=True\n",
    "        )\n",
    "        try:\n",
    "            num = len(codes)\n",
    "            results[n - 1][k - 1] = num\n",
    "        except TypeError:\n",
    "            pass\n",
    "\n",
    "lprint(results)"
   ]
  },
  {
   "cell_type": "markdown",
   "id": "235ed07b-6075-4827-a720-1d3432a9d8da",
   "metadata": {},
   "source": [
    "## Number of indecomposble codes that are CSS of distance 1"
   ]
  },
  {
   "cell_type": "code",
   "execution_count": 327,
   "id": "5d8f83f3-a436-4004-b997-48818ee964db",
   "metadata": {},
   "outputs": [
    {
     "data": {
      "text/latex": [
       "$\\displaystyle \\begin{bmatrix}0&0&0&0&0&0&0&0&0\\\\1&0&0&0&0&0&0&0&0\\\\2&1&0&0&0&0&0&0&0\\\\4&3&1&0&0&0&0&0&0\\\\10&12&5&1&0&0&0&0&0\\\\25&50&30&8&1&0&0&0&0\\\\74&208&185&63&10&1&0&0&0\\\\229&953&1176&572&119&14&1&0&0\\\\796&4688&8198&5396&1531&211&17&1&0\\\\\\end{bmatrix}$"
      ],
      "text/plain": [
       "<IPython.core.display.Math object>"
      ]
     },
     "metadata": {},
     "output_type": "display_data"
    }
   ],
   "source": [
    "results = np.zeros((9, 9), dtype=int)\n",
    "\n",
    "for n in range(10):\n",
    "    num = 0\n",
    "    for k in range(1, n):\n",
    "        codes = cb.all_small_codes(\n",
    "            n, k, d=1, is_decomposable=False, is_css=True, info_only=True, list_only=True\n",
    "        )\n",
    "        try:\n",
    "            num = len(codes)\n",
    "            results[n - 1][k - 1] = num\n",
    "        except TypeError:\n",
    "            pass\n",
    "\n",
    "lprint(results)"
   ]
  },
  {
   "cell_type": "markdown",
   "id": "f18afb26-d615-4d11-ac67-18211b856452",
   "metadata": {},
   "source": [
    "## Number of indecomposble codes that are CSS of distance 2"
   ]
  },
  {
   "cell_type": "code",
   "execution_count": 328,
   "id": "e9ee2c9a-a630-47d6-90b5-90448f9f8026",
   "metadata": {},
   "outputs": [
    {
     "data": {
      "text/latex": [
       "$\\displaystyle \\begin{bmatrix}0&0&0&0&0&0&0&0&0\\\\0&0&0&0&0&0&0&0&0\\\\0&0&0&0&0&0&0&0&0\\\\1&1&0&0&0&0&0&0&0\\\\3&1&0&0&0&0&0&0&0\\\\12&10&2&1&0&0&0&0&0\\\\41&37&13&2&0&0&0&0&0\\\\168&244&114&31&3&1&0&0&0\\\\717&1475&1082&305&40&3&0&0&0\\\\\\end{bmatrix}$"
      ],
      "text/plain": [
       "<IPython.core.display.Math object>"
      ]
     },
     "metadata": {},
     "output_type": "display_data"
    }
   ],
   "source": [
    "results = np.zeros((9, 9), dtype=int)\n",
    "\n",
    "for n in range(10):\n",
    "    num = 0\n",
    "    for k in range(1, n):\n",
    "        codes = cb.all_small_codes(\n",
    "            n, k, d=2, is_decomposable=False, is_css=True, info_only=True, list_only=True\n",
    "        )\n",
    "        try:\n",
    "            num = len(codes)\n",
    "            results[n - 1][k - 1] = num\n",
    "        except TypeError:\n",
    "            pass\n",
    "\n",
    "lprint(results)"
   ]
  },
  {
   "cell_type": "markdown",
   "id": "05d20d8a-6f46-4e79-bdc0-d9eeaf653e34",
   "metadata": {},
   "source": [
    "## Number of indecomposble codes that are CSS of distance 3"
   ]
  },
  {
   "cell_type": "code",
   "execution_count": 331,
   "id": "ec5eac5b-710a-4137-8ca3-b030569db3ad",
   "metadata": {},
   "outputs": [
    {
     "data": {
      "text/latex": [
       "$\\displaystyle \\begin{bmatrix}0&0&0&0&0&0&0&0&0\\\\0&0&0&0&0&0&0&0&0\\\\0&0&0&0&0&0&0&0&0\\\\0&0&0&0&0&0&0&0&0\\\\0&0&0&0&0&0&0&0&0\\\\0&0&0&0&0&0&0&0&0\\\\1&0&0&0&0&0&0&0&0\\\\1&0&0&0&0&0&0&0&0\\\\19&0&0&0&0&0&0&0&0\\\\\\end{bmatrix}$"
      ],
      "text/plain": [
       "<IPython.core.display.Math object>"
      ]
     },
     "metadata": {},
     "output_type": "display_data"
    }
   ],
   "source": [
    "results = np.zeros((9, 9), dtype=int)\n",
    "\n",
    "for n in range(10):\n",
    "    num = 0\n",
    "    for k in range(1, n):\n",
    "        codes = cb.all_small_codes(\n",
    "            n, k, d=3, is_decomposable=False, is_css=True, info_only=True, list_only=True\n",
    "        )\n",
    "        try:\n",
    "            num = len(codes)\n",
    "            results[n - 1][k - 1] = num\n",
    "        except TypeError:\n",
    "            pass\n",
    "\n",
    "lprint(results)"
   ]
  },
  {
   "cell_type": "markdown",
   "id": "00c9c272-a44c-4197-a15d-d2b8cddd6d7e",
   "metadata": {},
   "source": [
    "# Number of codes that are GF(2) linear"
   ]
  },
  {
   "cell_type": "code",
   "execution_count": 333,
   "id": "a4cce46f-1913-418e-a629-8a028a78ec42",
   "metadata": {},
   "outputs": [
    {
     "data": {
      "text/latex": [
       "$\\displaystyle \\begin{bmatrix}0&0&0&0&0&0&0&0&0\\\\0&0&0&0&0&0&0&0&0\\\\1&0&0&0&0&0&0&0&0\\\\0&2&0&0&0&0&0&0&0\\\\2&0&2&0&0&0&0&0&0\\\\0&4&0&3&0&0&0&0&0\\\\4&0&5&0&3&0&0&0&0\\\\0&10&0&9&0&4&0&0&0\\\\7&0&16&0&11&0&4&0&0\\\\\\end{bmatrix}$"
      ],
      "text/plain": [
       "<IPython.core.display.Math object>"
      ]
     },
     "metadata": {},
     "output_type": "display_data"
    }
   ],
   "source": [
    "results = np.zeros((9, 9), dtype=int)\n",
    "\n",
    "for n in range(10):\n",
    "    num = 0\n",
    "    for k in range(1, n):\n",
    "        codes = cb.all_small_codes(n, k, is_gf4linear=True, info_only=True, list_only=True)\n",
    "        try:\n",
    "            num = len(codes)\n",
    "            results[n - 1][k - 1] = num\n",
    "        except TypeError:\n",
    "            pass\n",
    "\n",
    "lprint(results)"
   ]
  },
  {
   "cell_type": "markdown",
   "id": "c363aa1d-e3b0-48e5-9a75-9c936c683997",
   "metadata": {},
   "source": [
    "## Number of codes that are GF(2) linear and indecomposable"
   ]
  },
  {
   "cell_type": "code",
   "execution_count": 335,
   "id": "32614267-058f-4f38-bf06-60a9f6dc6af0",
   "metadata": {},
   "outputs": [
    {
     "data": {
      "text/latex": [
       "$\\displaystyle \\begin{bmatrix}0&0&0&0&0&0&0&0&0\\\\0&0&0&0&0&0&0&0&0\\\\0&0&0&0&0&0&0&0&0\\\\0&1&0&0&0&0&0&0&0\\\\1&0&0&0&0&0&0&0&0\\\\0&1&0&1&0&0&0&0&0\\\\1&0&1&0&0&0&0&0&0\\\\0&4&0&2&0&1&0&0&0\\\\2&0&4&0&2&0&0&0&0\\\\\\end{bmatrix}$"
      ],
      "text/plain": [
       "<IPython.core.display.Math object>"
      ]
     },
     "metadata": {},
     "output_type": "display_data"
    }
   ],
   "source": [
    "results = np.zeros((9, 9), dtype=int)\n",
    "\n",
    "for n in range(10):\n",
    "    num = 0\n",
    "    for k in range(1, n):\n",
    "        codes = cb.all_small_codes(\n",
    "            n, k, is_decomposable=False, is_gf4linear=True, info_only=True, list_only=True\n",
    "        )\n",
    "        try:\n",
    "            num = len(codes)\n",
    "            results[n - 1][k - 1] = num\n",
    "        except TypeError:\n",
    "            pass\n",
    "\n",
    "lprint(results)"
   ]
  },
  {
   "cell_type": "markdown",
   "id": "f91d712a-c919-4391-85d0-b1324f791ac2",
   "metadata": {},
   "source": [
    "## Number of codes that are GF(2) linear, indecomposable by maximum distance"
   ]
  },
  {
   "cell_type": "code",
   "execution_count": 336,
   "id": "dfe7fb50-8408-46de-b929-4a3b7c32d552",
   "metadata": {},
   "outputs": [
    {
     "name": "stdout",
     "output_type": "stream",
     "text": [
      "[[4,2]] : 2\n",
      "[[5,1]] : 3\n",
      "[[6,2]] : 2\n",
      "[[6,4]] : 2\n",
      "[[7,1]] : 3\n",
      "[[7,3]] : 2\n",
      "[[8,2]] : 3\n",
      "[[8,4]] : 2\n",
      "[[8,6]] : 2\n",
      "[[9,1]] : 3\n",
      "[[9,3]] : 3\n",
      "[[9,5]] : 2\n"
     ]
    }
   ],
   "source": [
    "mat = np.zeros((9, 9), dtype=int)\n",
    "n_set = []\n",
    "k_set = []\n",
    "d_set = []\n",
    "for n in range(10):\n",
    "    for k in range(1, 10):\n",
    "        codes = cb.all_small_codes(\n",
    "            n, k, is_decomposable=False, is_gf4linear=True, info_only=True, list_only=True\n",
    "        )\n",
    "        if len(codes) > 0:\n",
    "            d_max = -1\n",
    "            code_index = -1\n",
    "            for code in codes:\n",
    "                if code[\"d\"] > d_max:\n",
    "                    d_max = code[\"d\"]\n",
    "                    code_index = code[\"index\"]\n",
    "            n_set += [n]\n",
    "            k_set += [k]\n",
    "            d_set += [d_max]\n",
    "            mat[n - 1, k - 1] = d_max\n",
    "            print(f\"[[{n},{k}]] : {d_max}\")"
   ]
  },
  {
   "cell_type": "markdown",
   "id": "9fac289d-204e-4da5-b03b-90e997111184",
   "metadata": {},
   "source": [
    "## Distance counts on codes that are GF(2) linear, indecomposable"
   ]
  },
  {
   "cell_type": "code",
   "execution_count": 338,
   "id": "51aeaa6e-bd46-4c70-bc48-5a196c34967e",
   "metadata": {},
   "outputs": [
    {
     "name": "stdout",
     "output_type": "stream",
     "text": [
      "d=0\n"
     ]
    },
    {
     "data": {
      "text/latex": [
       "$\\displaystyle \\begin{bmatrix}0&0&0&0&0&0&0&0&0\\\\0&0&0&0&0&0&0&0&0\\\\0&0&0&0&0&0&0&0&0\\\\0&0&0&0&0&0&0&0&0\\\\0&0&0&0&0&0&0&0&0\\\\0&0&0&0&0&0&0&0&0\\\\0&0&0&0&0&0&0&0&0\\\\0&0&0&0&0&0&0&0&0\\\\0&0&0&0&0&0&0&0&0\\\\\\end{bmatrix}$"
      ],
      "text/plain": [
       "<IPython.core.display.Math object>"
      ]
     },
     "metadata": {},
     "output_type": "display_data"
    },
    {
     "name": "stdout",
     "output_type": "stream",
     "text": [
      "d=1\n"
     ]
    },
    {
     "data": {
      "text/latex": [
       "$\\displaystyle \\begin{bmatrix}0&0&0&0&0&0&0&0&0\\\\0&0&0&0&0&0&0&0&0\\\\0&0&0&0&0&0&0&0&0\\\\0&0&0&0&0&0&0&0&0\\\\0&0&0&0&0&0&0&0&0\\\\0&0&0&0&0&0&0&0&0\\\\0&0&0&0&0&0&0&0&0\\\\0&0&0&0&0&0&0&0&0\\\\0&0&0&0&0&0&0&0&0\\\\\\end{bmatrix}$"
      ],
      "text/plain": [
       "<IPython.core.display.Math object>"
      ]
     },
     "metadata": {},
     "output_type": "display_data"
    },
    {
     "name": "stdout",
     "output_type": "stream",
     "text": [
      "d=2\n"
     ]
    },
    {
     "data": {
      "text/latex": [
       "$\\displaystyle \\begin{bmatrix}0&0&0&0&0&0&0&0&0\\\\0&0&0&0&0&0&0&0&0\\\\0&0&0&0&0&0&0&0&0\\\\0&1&0&0&0&0&0&0&0\\\\0&0&0&0&0&0&0&0&0\\\\0&1&0&1&0&0&0&0&0\\\\0&0&1&0&0&0&0&0&0\\\\0&3&0&2&0&1&0&0&0\\\\0&0&3&0&2&0&0&0&0\\\\\\end{bmatrix}$"
      ],
      "text/plain": [
       "<IPython.core.display.Math object>"
      ]
     },
     "metadata": {},
     "output_type": "display_data"
    },
    {
     "name": "stdout",
     "output_type": "stream",
     "text": [
      "d=3\n"
     ]
    },
    {
     "data": {
      "text/latex": [
       "$\\displaystyle \\begin{bmatrix}0&0&0&0&0&0&0&0&0\\\\0&0&0&0&0&0&0&0&0\\\\0&0&0&0&0&0&0&0&0\\\\0&0&0&0&0&0&0&0&0\\\\1&0&0&0&0&0&0&0&0\\\\0&0&0&0&0&0&0&0&0\\\\1&0&0&0&0&0&0&0&0\\\\0&1&0&0&0&0&0&0&0\\\\2&0&1&0&0&0&0&0&0\\\\\\end{bmatrix}$"
      ],
      "text/plain": [
       "<IPython.core.display.Math object>"
      ]
     },
     "metadata": {},
     "output_type": "display_data"
    },
    {
     "name": "stdout",
     "output_type": "stream",
     "text": [
      "d=4\n"
     ]
    },
    {
     "data": {
      "text/latex": [
       "$\\displaystyle \\begin{bmatrix}0&0&0&0&0&0&0&0&0\\\\0&0&0&0&0&0&0&0&0\\\\0&0&0&0&0&0&0&0&0\\\\0&0&0&0&0&0&0&0&0\\\\0&0&0&0&0&0&0&0&0\\\\0&0&0&0&0&0&0&0&0\\\\0&0&0&0&0&0&0&0&0\\\\0&0&0&0&0&0&0&0&0\\\\0&0&0&0&0&0&0&0&0\\\\\\end{bmatrix}$"
      ],
      "text/plain": [
       "<IPython.core.display.Math object>"
      ]
     },
     "metadata": {},
     "output_type": "display_data"
    }
   ],
   "source": [
    "for d in range(5):\n",
    "    results = np.zeros((9, 9), dtype=int)\n",
    "    for n in range(10):\n",
    "        num = 0\n",
    "        for k in range(1, n):\n",
    "            codes = cb.all_small_codes(\n",
    "                n, k, d=d, is_decomposable=False, is_gf4linear=True, info_only=True, list_only=True\n",
    "            )\n",
    "            try:\n",
    "                num = len(codes)\n",
    "                results[n - 1][k - 1] = num\n",
    "            except TypeError:\n",
    "                pass\n",
    "    print(f\"d={d}\")\n",
    "    lprint(results)"
   ]
  },
  {
   "cell_type": "markdown",
   "id": "33e8ab82-a509-4d02-999c-fa25cb9545eb",
   "metadata": {},
   "source": [
    "## Distance counts on codes that are GF(2) linear and decomposable"
   ]
  },
  {
   "cell_type": "code",
   "execution_count": 339,
   "id": "93c5721e-b263-4874-9a48-7c761b088a7b",
   "metadata": {},
   "outputs": [
    {
     "name": "stdout",
     "output_type": "stream",
     "text": [
      "d=0\n"
     ]
    },
    {
     "data": {
      "text/latex": [
       "$\\displaystyle \\begin{bmatrix}0&0&0&0&0&0&0&0&0\\\\0&0&0&0&0&0&0&0&0\\\\0&0&0&0&0&0&0&0&0\\\\0&0&0&0&0&0&0&0&0\\\\0&0&0&0&0&0&0&0&0\\\\0&0&0&0&0&0&0&0&0\\\\0&0&0&0&0&0&0&0&0\\\\0&0&0&0&0&0&0&0&0\\\\0&0&0&0&0&0&0&0&0\\\\\\end{bmatrix}$"
      ],
      "text/plain": [
       "<IPython.core.display.Math object>"
      ]
     },
     "metadata": {},
     "output_type": "display_data"
    },
    {
     "name": "stdout",
     "output_type": "stream",
     "text": [
      "d=1\n"
     ]
    },
    {
     "data": {
      "text/latex": [
       "$\\displaystyle \\begin{bmatrix}0&0&0&0&0&0&0&0&0\\\\0&0&0&0&0&0&0&0&0\\\\1&0&0&0&0&0&0&0&0\\\\0&1&0&0&0&0&0&0&0\\\\1&0&2&0&0&0&0&0&0\\\\0&2&0&2&0&0&0&0&0\\\\2&0&4&0&3&0&0&0&0\\\\0&4&0&5&0&3&0&0&0\\\\3&0&10&0&9&0&4&0&0\\\\\\end{bmatrix}$"
      ],
      "text/plain": [
       "<IPython.core.display.Math object>"
      ]
     },
     "metadata": {},
     "output_type": "display_data"
    },
    {
     "name": "stdout",
     "output_type": "stream",
     "text": [
      "d=2\n"
     ]
    },
    {
     "data": {
      "text/latex": [
       "$\\displaystyle \\begin{bmatrix}0&0&0&0&0&0&0&0&0\\\\0&0&0&0&0&0&0&0&0\\\\0&0&0&0&0&0&0&0&0\\\\0&0&0&0&0&0&0&0&0\\\\0&0&0&0&0&0&0&0&0\\\\0&1&0&0&0&0&0&0&0\\\\0&0&0&0&0&0&0&0&0\\\\0&2&0&2&0&0&0&0&0\\\\0&0&2&0&0&0&0&0&0\\\\\\end{bmatrix}$"
      ],
      "text/plain": [
       "<IPython.core.display.Math object>"
      ]
     },
     "metadata": {},
     "output_type": "display_data"
    },
    {
     "name": "stdout",
     "output_type": "stream",
     "text": [
      "d=3\n"
     ]
    },
    {
     "data": {
      "text/latex": [
       "$\\displaystyle \\begin{bmatrix}0&0&0&0&0&0&0&0&0\\\\0&0&0&0&0&0&0&0&0\\\\0&0&0&0&0&0&0&0&0\\\\0&0&0&0&0&0&0&0&0\\\\0&0&0&0&0&0&0&0&0\\\\0&0&0&0&0&0&0&0&0\\\\1&0&0&0&0&0&0&0&0\\\\0&0&0&0&0&0&0&0&0\\\\2&0&0&0&0&0&0&0&0\\\\\\end{bmatrix}$"
      ],
      "text/plain": [
       "<IPython.core.display.Math object>"
      ]
     },
     "metadata": {},
     "output_type": "display_data"
    },
    {
     "name": "stdout",
     "output_type": "stream",
     "text": [
      "d=4\n"
     ]
    },
    {
     "data": {
      "text/latex": [
       "$\\displaystyle \\begin{bmatrix}0&0&0&0&0&0&0&0&0\\\\0&0&0&0&0&0&0&0&0\\\\0&0&0&0&0&0&0&0&0\\\\0&0&0&0&0&0&0&0&0\\\\0&0&0&0&0&0&0&0&0\\\\0&0&0&0&0&0&0&0&0\\\\0&0&0&0&0&0&0&0&0\\\\0&0&0&0&0&0&0&0&0\\\\0&0&0&0&0&0&0&0&0\\\\\\end{bmatrix}$"
      ],
      "text/plain": [
       "<IPython.core.display.Math object>"
      ]
     },
     "metadata": {},
     "output_type": "display_data"
    }
   ],
   "source": [
    "for d in range(5):\n",
    "    results = np.zeros((9, 9), dtype=int)\n",
    "    for n in range(10):\n",
    "        num = 0\n",
    "        for k in range(1, n):\n",
    "            codes = cb.all_small_codes(\n",
    "                n, k, d=d, is_decomposable=True, is_gf4linear=True, info_only=True, list_only=True\n",
    "            )\n",
    "            try:\n",
    "                num = len(codes)\n",
    "                results[n - 1][k - 1] = num\n",
    "            except TypeError:\n",
    "                pass\n",
    "    print(f\"d={d}\")\n",
    "    lprint(results)"
   ]
  },
  {
   "cell_type": "markdown",
   "id": "c8a07b30-12cc-417f-ac73-cb1adadb8c6c",
   "metadata": {},
   "source": [
    "# Class of indecomposable stabilizer codes with n<= 4, k>=1 and d>=2"
   ]
  },
  {
   "cell_type": "code",
   "execution_count": 204,
   "id": "8219dd1d-497f-41c4-b425-cebf71ba8aff",
   "metadata": {},
   "outputs": [
    {
     "name": "stdout",
     "output_type": "stream",
     "text": [
      "[[4,1]]\n",
      "[[4,2]]\n"
     ]
    }
   ],
   "source": [
    "all_codes = []\n",
    "for n in range(5):\n",
    "    for k in range(1, n):\n",
    "        codes = cb.all_small_codes(n, k, d=2, is_decomposable=False, info_only=True, list_only=True)\n",
    "        num = 0\n",
    "        try:\n",
    "            num = len(codes)\n",
    "            if num > 0:\n",
    "                print(f\"[[{n},{k}]]\")\n",
    "                all_codes = all_codes + codes\n",
    "        except TypeError:\n",
    "            pass"
   ]
  },
  {
   "cell_type": "code",
   "execution_count": 205,
   "id": "6e90dcad-f148-4f88-b18c-390d92b06566",
   "metadata": {},
   "outputs": [
    {
     "data": {
      "text/plain": [
       "[{aut_group_generators : ['V2V3', '(2,3)', 'V0V1', '(0,1)', '(0,2)(1,3)'],\n",
       " aut_group_size       : 32,\n",
       " code_type            : StabSubSystemCode,\n",
       " d                    : 2,\n",
       " index                : 6,\n",
       " is_css               : 1,\n",
       " is_decomposable      : 0,\n",
       " is_degenerate        : 0,\n",
       " is_gf4linear         : 0,\n",
       " is_subsystem         : 1,\n",
       " isotropic_generators : ['X0X1', 'X2X3', 'Z0Z1Z2Z3'],\n",
       " k                    : 1,\n",
       " logical_ops          : ['X1X3', 'Z2Z3'],\n",
       " n                    : 4,\n",
       " uuid                 : c49160c8-795e-4558-9978-08b491cdd091,\n",
       " weight_enumerator    : [1, 0, 2, 0, 5],\n",
       " },\n",
       " {aut_group_generators : ['V0H1S2H3^(1,3)', 'H0S1S2V3^(1,2)', '(0,1)(2,3)'],\n",
       " aut_group_size       : 24,\n",
       " code_type            : StabSubSystemCode,\n",
       " d                    : 2,\n",
       " index                : 8,\n",
       " is_css               : 0,\n",
       " is_decomposable      : 0,\n",
       " is_degenerate        : 0,\n",
       " is_gf4linear         : 0,\n",
       " is_subsystem         : 1,\n",
       " isotropic_generators : ['Z0X2Z3', 'Y0X1Y2', 'Z1Z2X3'],\n",
       " k                    : 1,\n",
       " logical_ops          : ['X1Z3', 'Z0Z1'],\n",
       " n                    : 4,\n",
       " uuid                 : 51fc14fb-8309-4ff6-a51e-8801d0066f87,\n",
       " weight_enumerator    : [1, 0, 0, 4, 3],\n",
       " },\n",
       " {aut_group_generators : ['(2,3)', '(1,2)', 'S0S1S2S3', '(0,1)', 'H0H1H2H3'],\n",
       " aut_group_size       : 144,\n",
       " code_type            : StabSubSystemCode,\n",
       " d                    : 2,\n",
       " index                : 9,\n",
       " is_css               : 1,\n",
       " is_decomposable      : 0,\n",
       " is_degenerate        : 0,\n",
       " is_gf4linear         : 1,\n",
       " is_subsystem         : 1,\n",
       " isotropic_generators : ['Z0Z1Z2Z3', 'X0X1X2X3'],\n",
       " k                    : 2,\n",
       " logical_ops          : ['X1X2', 'X1X3', 'Z0Z2', 'Z0Z3'],\n",
       " n                    : 4,\n",
       " uuid                 : 373b856e-a5af-4e9f-8524-997f1ccfe77e,\n",
       " weight_enumerator    : [1, 0, 0, 0, 3],\n",
       " }]"
      ]
     },
     "execution_count": 205,
     "metadata": {},
     "output_type": "execute_result"
    }
   ],
   "source": [
    "all_codes"
   ]
  },
  {
   "cell_type": "markdown",
   "id": "5077f3a1-b808-42e1-9e34-0a9cd409a5cb",
   "metadata": {},
   "source": [
    "# [[9,2,3]] Codes"
   ]
  },
  {
   "cell_type": "code",
   "execution_count": 345,
   "id": "856fb89f-c8ea-4f63-96fe-4e4166432587",
   "metadata": {},
   "outputs": [
    {
     "data": {
      "text/plain": [
       "4445"
      ]
     },
     "execution_count": 345,
     "metadata": {},
     "output_type": "execute_result"
    }
   ],
   "source": [
    "codes = cb.all_small_codes(9, 2, d=3, info_only=True, list_only=True)\n",
    "len(codes)"
   ]
  },
  {
   "cell_type": "code",
   "execution_count": 346,
   "id": "efecfa50-6325-48f7-81f7-be361efd800c",
   "metadata": {},
   "outputs": [
    {
     "data": {
      "text/plain": [
       "4425"
      ]
     },
     "execution_count": 346,
     "metadata": {},
     "output_type": "execute_result"
    }
   ],
   "source": [
    "codes = cb.all_small_codes(9, 2, d=3, is_decomposable=False, info_only=True, list_only=True)\n",
    "len(codes)"
   ]
  },
  {
   "cell_type": "code",
   "execution_count": 347,
   "id": "7fcab31a-6c08-44b0-9dfe-15ca107ae220",
   "metadata": {},
   "outputs": [
    {
     "data": {
      "text/plain": [
       "0"
      ]
     },
     "execution_count": 347,
     "metadata": {},
     "output_type": "execute_result"
    }
   ],
   "source": [
    "codes = cb.all_small_codes(9, 2, d=3, is_gf2linear=True, info_only=True, list_only=True)\n",
    "len(codes)"
   ]
  },
  {
   "cell_type": "code",
   "execution_count": 348,
   "id": "f7380bb6-d6be-4dcc-88aa-8b36d49e5786",
   "metadata": {},
   "outputs": [
    {
     "data": {
      "text/plain": [
       "750"
      ]
     },
     "execution_count": 348,
     "metadata": {},
     "output_type": "execute_result"
    }
   ],
   "source": [
    "codes = cb.all_small_codes(9, 2, d=3, is_degenerate=True, info_only=True, list_only=True)\n",
    "len(codes)"
   ]
  },
  {
   "cell_type": "code",
   "execution_count": 357,
   "id": "dcdb8481-b1b2-4c11-bf9c-63707b5a431b",
   "metadata": {},
   "outputs": [
    {
     "data": {
      "text/plain": [
       "{1: 3178,\n",
       " 2: 356,\n",
       " 3: 4,\n",
       " 4: 654,\n",
       " 6: 13,\n",
       " 8: 82,\n",
       " 12: 10,\n",
       " 16: 65,\n",
       " 18: 1,\n",
       " 24: 2,\n",
       " 32: 25,\n",
       " 36: 3,\n",
       " 48: 3,\n",
       " 64: 13,\n",
       " 96: 4,\n",
       " 128: 4,\n",
       " 144: 1,\n",
       " 192: 1,\n",
       " 288: 1,\n",
       " 384: 1,\n",
       " 512: 1,\n",
       " 768: 1,\n",
       " 1152: 2}"
      ]
     },
     "execution_count": 357,
     "metadata": {},
     "output_type": "execute_result"
    }
   ],
   "source": [
    "codes = cb.all_small_codes(9, 2, d=3, is_decomposable=False, info_only=True, list_only=True)\n",
    "\n",
    "aut_sizes = {}\n",
    "for code in codes:\n",
    "    size = code[\"aut_group_size\"]\n",
    "    try:\n",
    "        aut_sizes[size] += 1\n",
    "    except:\n",
    "        aut_sizes[size] = 1\n",
    "\n",
    "sorted_aut_sizes = {k: aut_sizes[k] for k in sorted(aut_sizes)}\n",
    "sorted_aut_sizes"
   ]
  },
  {
   "cell_type": "code",
   "execution_count": 358,
   "id": "d7129203-204b-439e-84dc-a9a7dac9f35c",
   "metadata": {},
   "outputs": [
    {
     "name": "stdout",
     "output_type": "stream",
     "text": [
      "aut_group_generators : ['V2S7', 'H2H7^(2,7)', 'V1S7', '(1,2)', 'V0S8', 'H0H8^(0,8)', 'R3r5R6^(4,6,5)', '(3,4)(5,6)']\n",
      "aut_group_size       : 1152\n",
      "code_type            : StabSubSystemCode\n",
      "d                    : 3\n",
      "index                : 15551\n",
      "is_css               : 0\n",
      "is_decomposable      : 0\n",
      "is_degenerate        : 1\n",
      "is_gf4linear         : 0\n",
      "is_subsystem         : 1\n",
      "isotropic_generators : ['X0Z8', 'X1Z7', 'X2Z7', 'X3X4Z5Z6', 'Z3Z4Y5Y6', 'Z0Z4X5Z6X8', 'Z1Z2Y3Y5Z6X7Z8']\n",
      "k                    : 2\n",
      "logical_ops          : ['Z1Z2X7', 'Z0Z3Z4X8', 'Z3Z4Z7', 'Z3Z4Z5Z6Z8']\n",
      "n                    : 9\n",
      "uuid                 : 3f463c93-83a8-462b-9e90-1cf4cdea9df7\n",
      "weight_enumerator    : [1, 0, 4, 0, 6, 8, 12, 56, 41, 0]\n",
      "\n",
      "aut_group_generators : ['V2H3S6H7S8^(3,7)', 'V0H1V2H3S4H5S6H7^(1,5)(3,7)', 'R2r6R7^(3,7,6)', '(2,3)(6,7)', 'H0H1V2H3V4V5S6H7^(3,7)(4,5)', '(0,1)(4,5)', '(0,2)(1,3)(4,6)(5,7)']\n",
      "aut_group_size       : 1152\n",
      "code_type            : StabSubSystemCode\n",
      "d                    : 3\n",
      "index                : 80585\n",
      "is_css               : 0\n",
      "is_decomposable      : 0\n",
      "is_degenerate        : 0\n",
      "is_gf4linear         : 0\n",
      "is_subsystem         : 1\n",
      "isotropic_generators : ['X0X1Z4Z5', 'X2X3Z6Z7', 'Y0Y4Z5Z8', 'X0Z1X5Z8', 'Y2Y6Z7Z8', 'X2Z3X7Z8', 'Y0Z1Y2Z3Z4Z6X8']\n",
      "k                    : 2\n",
      "logical_ops          : ['Z3Z6X7', 'Z0Z1Z2Z3X8', 'Z0Z1Z2Z3Z4Z5Z6Z7', 'Z0Z1Z4Z5Z8']\n",
      "n                    : 9\n",
      "uuid                 : b5eea235-55bc-4185-bf91-7cd7476d0d1e\n",
      "weight_enumerator    : [1, 0, 0, 0, 14, 0, 16, 64, 33, 0]\n",
      "\n"
     ]
    }
   ],
   "source": [
    "for code in codes:\n",
    "    if code[\"aut_group_size\"] == 1152:\n",
    "        print(code)"
   ]
  }
 ],
 "metadata": {
  "kernelspec": {
   "display_name": "Python 3 (ipykernel)",
   "language": "python",
   "name": "python3"
  },
  "language_info": {
   "codemirror_mode": {
    "name": "ipython",
    "version": 3
   },
   "file_extension": ".py",
   "mimetype": "text/x-python",
   "name": "python",
   "nbconvert_exporter": "python",
   "pygments_lexer": "ipython3",
   "version": "3.9.6"
  }
 },
 "nbformat": 4,
 "nbformat_minor": 5
}
