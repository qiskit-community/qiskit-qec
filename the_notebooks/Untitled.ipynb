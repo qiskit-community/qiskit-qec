{
 "cells": [
  {
   "cell_type": "code",
   "execution_count": null,
   "id": "b6aec22c",
   "metadata": {},
   "outputs": [],
   "source": [
    "import qiskit_qec as qq\n",
    "from qiskit_qec.diagramscene_mainwindow import MainWindow\n",
    "from PySide6.QtWidgets import QApplication\n",
    "import sys"
   ]
  },
  {
   "cell_type": "code",
   "execution_count": null,
   "id": "1d0d28dd",
   "metadata": {},
   "outputs": [],
   "source": [
    "app = QApplication(sys.argv)\n",
    "from IPython import get_ipython\n",
    "ipython = get_ipython()\n",
    "ipython.magic('gui qt5')\n",
    "\n",
    "main_window = MainWindow()\n",
    "main_window.setGeometry(100, 100, 800, 500)\n",
    "main_window.show()\n",
    "sys.exit(app.exec())"
   ]
  },
  {
   "cell_type": "code",
   "execution_count": null,
   "id": "949abd2d",
   "metadata": {},
   "outputs": [],
   "source": [
    "main_window.scene.selectedItems()"
   ]
  }
 ],
 "metadata": {
  "kernelspec": {
   "display_name": "rachel-qec",
   "language": "python",
   "name": "rachel-qec"
  },
  "language_info": {
   "codemirror_mode": {
    "name": "ipython",
    "version": 3
   },
   "file_extension": ".py",
   "mimetype": "text/x-python",
   "name": "python",
   "nbconvert_exporter": "python",
   "pygments_lexer": "ipython3",
   "version": "3.9.5"
  }
 },
 "nbformat": 4,
 "nbformat_minor": 5
}
