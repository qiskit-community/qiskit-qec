{
 "cells": [
  {
   "cell_type": "markdown",
   "id": "5766349e",
   "metadata": {},
   "source": [
    "# Tutorial: example"
   ]
  },
  {
   "cell_type": "markdown",
   "id": "6326eb7b",
   "metadata": {},
   "source": [
    "$H_\\text{drift} = \\frac{\\omega}{2} Z$"
   ]
  },
  {
   "cell_type": "code",
   "execution_count": 5,
   "id": "41df06c1",
   "metadata": {},
   "outputs": [
    {
     "name": "stdout",
     "output_type": "stream",
     "text": [
      "0\n"
     ]
    }
   ],
   "source": [
    "import numpy as np\n",
    "\n",
    "print(np.random.randint(10))"
   ]
  },
  {
   "cell_type": "code",
   "execution_count": null,
   "id": "7b8bf5f1",
   "metadata": {},
   "outputs": [],
   "source": []
  }
 ],
 "metadata": {
  "kernelspec": {
   "display_name": "Python 3 (ipykernel)",
   "language": "python",
   "name": "python3"
  },
  "language_info": {
   "codemirror_mode": {
    "name": "ipython",
    "version": 3
   },
   "file_extension": ".py",
   "mimetype": "text/x-python",
   "name": "python",
   "nbconvert_exporter": "python",
   "pygments_lexer": "ipython3",
   "version": "3.9.7"
  }
 },
 "nbformat": 4,
 "nbformat_minor": 5
}
