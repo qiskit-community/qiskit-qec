{
 "cells": [
  {
   "cell_type": "code",
   "execution_count": 1,
   "id": "31498711-b49e-4e8e-88cc-7ba8d07580a2",
   "metadata": {},
   "outputs": [],
   "source": [
    "import numpy as np\n",
    "\n",
    "from ctypes import c_long\n",
    "\n",
    "from qiskit_qec.geometry.model.qubit_count import QubitCount\n",
    "from qiskit_qec.geometry.model.qubit_data import QubitData\n",
    "\n",
    "from qiskit_qec.geometry.tiles.RSSC import RSSC\n",
    "from qiskit_qec.geometry.shape import Shape\n",
    "from qiskit_qec.geometry.plane import Plane\n",
    "from qiskit_qec.geometry.lattice import Lattice\n",
    "from qiskit_qec.geometry.tiles.tiling import Tiling\n",
    "from qiskit_qec.geometry.model.shell import Shell\n",
    "from qiskit_qec.geometry.model.face import Face\n",
    "from qiskit_qec.geometry.model.wireframe import WireFrame\n",
    "from qiskit_qec.geometry.model.edge import Edge"
   ]
  },
  {
   "cell_type": "code",
   "execution_count": 2,
   "id": "e129f5ce-d7fb-4959-8c07-a60268c94c85",
   "metadata": {},
   "outputs": [
    {
     "name": "stdout",
     "output_type": "stream",
     "text": [
      "Cutter points are: [array([ 0, -1]), array([2, 1]), array([0, 3]), array([-2,  1])]\n",
      "Cutter lines are: [[0, 1], [1, 2], [2, 3], [3, 0]]\n",
      "lattice = Lattice(u_vec=[2, 0], v_vec=[0, 2])\n",
      "lattice = Lattive[[-2,  0], [-2,  2], [0, 0], [0, 2], [2, 0], [2, 2]]\n"
     ]
    }
   ],
   "source": [
    "def make_code(d, manifold):\n",
    "    # Set parameters for RSSC code on the plane\n",
    "\n",
    "    # Create the bounding or cutter shape\n",
    "    cutter = Shape.square(origin=(0,-1), direction=(1,1), scale=d-1, manifold=manifold, dtype=int)\n",
    "    print(f\"Cutter points are: {cutter.points}\")\n",
    "    print(f\"Cutter lines are: {cutter.lines}\")\n",
    "\n",
    "    # Set up the qubit counter and aux data structures\n",
    "    qubit_count = QubitCount()\n",
    "    qubit_data = QubitData()\n",
    "\n",
    "    # Choose a tile\n",
    "\n",
    "    tile = RSSC\n",
    "\n",
    "    # Basis for Tiling or get from Tile directly\n",
    "    u = np.array([2,0])\n",
    "    v = np.array([0,2])\n",
    "\n",
    "    # Create Tiling lattice\n",
    "    lattice = Lattice(u,v)\n",
    "    print(f\"lattice = {lattice}\")\n",
    "    \n",
    "\n",
    "    lattice = lattice.restrict_for_tiling(cutter, tile=tile, expand_value=np.array([0.5,0.5]))\n",
    "    print(f\"lattice = {lattice}\")\n",
    "\n",
    "\n",
    "    # Tile the restriced lattice L_l with RSSC tiles\n",
    "    tiling = Tiling(tile_type=tile, lattice=lattice, qubit_count=qubit_count, qubit_data=qubit_data)\n",
    "\n",
    "    intersection = cutter.intersection(tiling, levels=[2,3])\n",
    "\n",
    "    face_list = []\n",
    "    for face in intersection.attr.keys():\n",
    "        vertices = intersection.attr[face].inside\n",
    "        start = vertices[0]\n",
    "        p_vert = start\n",
    "        edges = []\n",
    "        for n_vert in vertices[1:]:\n",
    "            edges.append(Edge([p_vert, n_vert]))\n",
    "            p_vert = n_vert\n",
    "        edges.append(Edge([p_vert, start]))\n",
    "        wf = WireFrame(edges)\n",
    "        new_face = Face(wf)\n",
    "        face_list.append(new_face)\n",
    "\n",
    "    new_shell = Shell(face_list)\n",
    "    \n",
    "    return new_shell\n",
    "output = make_code(d=3, manifold = Plane())"
   ]
  },
  {
   "cell_type": "code",
   "execution_count": 18,
   "id": "4128a551",
   "metadata": {},
   "outputs": [
    {
     "data": {
      "text/plain": [
       "11"
      ]
     },
     "execution_count": 18,
     "metadata": {},
     "output_type": "execute_result"
    }
   ],
   "source": []
  },
  {
   "cell_type": "code",
   "execution_count": 3,
   "id": "da9c52f9-a4ed-4350-8104-d700d904e4fe",
   "metadata": {},
   "outputs": [
    {
     "data": {
      "text/plain": [
       "[[24, 41, 164, 181], [8, 32, 49, 57, 148, 156, 173, 197]]"
      ]
     },
     "execution_count": 3,
     "metadata": {},
     "output_type": "execute_result"
    }
   ],
   "source": [
    "tiling = Shell()\n",
    "for face in tiling.faces:\n",
    "    if face.id in parts[3]:\n",
    "        tiling.capture_face(face)\n",
    "    elif face.id in parts[2]:\n",
    "        del_vertices = \n",
    "        face.edit\n",
    "        tiling.capture_face(face)\n",
    "        "
   ]
  },
  {
   "cell_type": "code",
   "execution_count": 12,
   "id": "12c6fd56-3cac-4e7f-809d-b7c0cf2f6e96",
   "metadata": {},
   "outputs": [],
   "source": [
    "a = [len(part) for part in intersection.parts]"
   ]
  },
  {
   "cell_type": "code",
   "execution_count": 15,
   "id": "b0f16522-8413-4ab2-b7f0-10d08364ed5b",
   "metadata": {},
   "outputs": [
    {
     "data": {
      "text/plain": [
       "True"
      ]
     },
     "execution_count": 15,
     "metadata": {},
     "output_type": "execute_result"
    }
   ],
   "source": [
    "[len(part) for part in intersection.parts] == [4, 8, 4, 8]"
   ]
  },
  {
   "cell_type": "code",
   "execution_count": 8,
   "id": "12bf27c5-7377-4349-81ee-f68e5d72fcbf",
   "metadata": {},
   "outputs": [],
   "source": [
    "a = np.array([1,2])"
   ]
  },
  {
   "cell_type": "code",
   "execution_count": 5,
   "id": "c4f70876-44f2-4c5e-a09e-70ab7a941e1f",
   "metadata": {},
   "outputs": [],
   "source": [
    "   \n",
    "# Cull faces.operators with k<2 qubits inside P\n",
    "\n",
    "k=2\n",
    "for i in range(k):\n",
    "    # Update the auxillary data\n",
    "    for face in M.faces:\n",
    "        if face.id in part[i]:\n",
    "            for vertex in face.vertices:\n",
    "                qubit_id = qubit_data.qubit[vertex.id]\n",
    "                qubit_count.decrement_qubit(qubit_id)\n",
    "      \n",
    "    # Delete faces and components from shell\n",
    "    M.delete_subtree(part[i])\n",
    "    \n",
    "\n"
   ]
  },
  {
   "cell_type": "code",
   "execution_count": 6,
   "id": "6fdbd095-504d-4603-afdf-700241e42326",
   "metadata": {},
   "outputs": [],
   "source": [
    "import numpy as np\n",
    "from qiskit_qec.geometry.model.vertex import Vertex\n",
    "from qiskit_qec.geometry.model.edge import Edge\n",
    "from qiskit_qec.geometry.model.wireframe import WireFrame\n",
    "from qiskit_qec.geometry.model.face import Face\n",
    "from qiskit_qec.geometry.model.shell import Shell"
   ]
  },
  {
   "cell_type": "code",
   "execution_count": 7,
   "id": "f1d48f63-704d-4639-8986-fee3de111caa",
   "metadata": {},
   "outputs": [],
   "source": [
    " def make_test():\n",
    "    a = Vertex(np.array([1,1]))\n",
    "    b = Vertex(np.array([2,2]))\n",
    "    c = Vertex(np.array([3,3]))\n",
    "\n",
    "    e1 = Edge([a,b])\n",
    "    e2 = Edge([b,c])\n",
    "\n",
    "    wf = WireFrame([e1,e2])\n",
    "    f = Face(wf)\n",
    "\n",
    "    s = Shell([f])\n",
    "    \n",
    "    \n",
    "    return s"
   ]
  },
  {
   "cell_type": "code",
   "execution_count": 8,
   "id": "bc946145-d674-46af-b491-f04fe958a59f",
   "metadata": {},
   "outputs": [],
   "source": [
    "s = make_test()"
   ]
  },
  {
   "cell_type": "code",
   "execution_count": 9,
   "id": "1a3c9837-0688-4976-9016-61fb7c4f0d0f",
   "metadata": {},
   "outputs": [],
   "source": [
    "def del_test(s):\n",
    "    tf = s.faces\n",
    "    s = None\n",
    "    for face in tf:\n",
    "        twf = face.wireframe\n",
    "        face = None\n",
    "        for wireframe in [twf]:\n",
    "            tedges = wireframe.edges\n",
    "            wireframe = None\n",
    "            for edge in tedges:\n",
    "                tvertices = edge.vertices\n",
    "                edge = None\n",
    "                for vertex in tvertices:\n",
    "                    vertex = None\n"
   ]
  },
  {
   "cell_type": "code",
   "execution_count": 5,
   "id": "5ab3cb34-6d8a-4eac-b4ff-f390b1b2d001",
   "metadata": {},
   "outputs": [],
   "source": [
    "levels = 4\n",
    "partx = [[] for i in range(levels)]"
   ]
  },
  {
   "cell_type": "code",
   "execution_count": 7,
   "id": "ac7db4e4-dfa3-4be3-b851-11d9f54e0246",
   "metadata": {},
   "outputs": [],
   "source": [
    "partx[1].append(2)"
   ]
  },
  {
   "cell_type": "code",
   "execution_count": 11,
   "id": "728ab71e-93f3-4788-b175-a2ca00ccfa0f",
   "metadata": {},
   "outputs": [],
   "source": [
    "class tes:\n",
    "    class bb:\n",
    "        def __init__(self,a):\n",
    "            self.a = a\n",
    "\n",
    "    def __init__(self):\n",
    "        self.faces = {}\n",
    "\n",
    "    def add_face(self, face):\n",
    "        self.faces[face] = tes.bb(0)\n",
    "\n",
    "\n"
   ]
  },
  {
   "cell_type": "code",
   "execution_count": 12,
   "id": "2273b707-de53-4033-ba1b-75e265b28e25",
   "metadata": {},
   "outputs": [],
   "source": [
    "g = tes()"
   ]
  },
  {
   "cell_type": "code",
   "execution_count": 13,
   "id": "39ae8552",
   "metadata": {},
   "outputs": [],
   "source": [
    "g.add_face(3)"
   ]
  },
  {
   "cell_type": "code",
   "execution_count": 16,
   "id": "f9a4e6bc",
   "metadata": {},
   "outputs": [],
   "source": [
    "g.faces[3].a = [1,2,3,4,5]"
   ]
  },
  {
   "cell_type": "code",
   "execution_count": 15,
   "id": "0be0ce00",
   "metadata": {},
   "outputs": [],
   "source": [
    "a=[1,2,3,4,5]\n",
    "b=[5,4,3,2,1]"
   ]
  },
  {
   "cell_type": "code",
   "execution_count": 16,
   "id": "099a65da",
   "metadata": {},
   "outputs": [
    {
     "name": "stdout",
     "output_type": "stream",
     "text": [
      "1 5\n",
      "2 4\n",
      "3 3\n",
      "4 2\n",
      "5 1\n"
     ]
    }
   ],
   "source": [
    "for x,y in zip(a,b):\n",
    "    print(x,y)"
   ]
  },
  {
   "cell_type": "code",
   "execution_count": 4,
   "id": "4a34e919",
   "metadata": {},
   "outputs": [
    {
     "data": {
      "text/plain": [
       "<qiskit_qec.geometry.shape.Shape at 0x12a7e6ca0>"
      ]
     },
     "execution_count": 4,
     "metadata": {},
     "output_type": "execute_result"
    }
   ],
   "source": [
    "cutter"
   ]
  },
  {
   "cell_type": "code",
   "execution_count": 5,
   "id": "ab8fb1ea",
   "metadata": {},
   "outputs": [
    {
     "data": {
      "text/plain": [
       "[array([ 0, -1]), array([2, 1]), array([0, 3]), array([-2,  1])]"
      ]
     },
     "execution_count": 5,
     "metadata": {},
     "output_type": "execute_result"
    }
   ],
   "source": [
    "cutter.points"
   ]
  },
  {
   "cell_type": "code",
   "execution_count": 1,
   "id": "fa695458",
   "metadata": {},
   "outputs": [],
   "source": [
    "import warnings\n",
    "import numpy as np\n",
    "from typing import Optional, Dict, Any, Tuple, List\n",
    "\n",
    "from ctypes import c_long\n",
    "\n",
    "from qiskit_qec.geometry.model.qubit_count import QubitCount\n",
    "from qiskit_qec.geometry.model.qubit_data import QubitData\n",
    "\n",
    "from qiskit_qec.geometry.tiles.squarediamondtile import SquareDiamondTile\n",
    "from qiskit_qec.geometry.shape import Shape\n",
    "from qiskit_qec.geometry.plane import Plane\n",
    "from qiskit_qec.geometry.lattice import Lattice\n",
    "from qiskit_qec.geometry.tiles.tiling import Tiling\n",
    "from qiskit_qec.geometry.model.shell import Shell\n",
    "from qiskit_qec.geometry.model.face import Face\n",
    "from qiskit_qec.geometry.model.wireframe import WireFrame\n",
    "from qiskit_qec.geometry.model.edge import Edge\n",
    "from qiskit_qec.geometry.model.shape_object import ShapeObject\n",
    "from qiskit.exceptions import QiskitError\n",
    "from qiskit_qec.operators.pauli_list import PauliList"
   ]
  },
  {
   "cell_type": "code",
   "execution_count": 2,
   "id": "fa9f66fc",
   "metadata": {},
   "outputs": [],
   "source": [
    "# def RSSCFactory(d,manifold=Plane(), boundary=False, epsilon = 0.1, delta=0.25):\n",
    "d = 3\n",
    "manifold=Plane()\n",
    "boundary=False\n",
    "epsilon=0.2\n",
    "delta=0.1\n",
    "# Set parameters for RSSC code on the plane\n",
    "# Create the bounding or cutter shape\n",
    "cutter = Shape.square(origin=(0,-1-delta), direction=(1,1), scale=d-1+delta, manifold=manifold, dtype=float)\n",
    "#cutter = Shape.rect(origin=np.array((0,-1-delta)), direction=np.array((1,1)), scale1 =d-1+delta, scale2=d+8-1+delta, manifold=manifold, dtype=float )\n"
   ]
  },
  {
   "cell_type": "code",
   "execution_count": 3,
   "id": "c079549a",
   "metadata": {},
   "outputs": [
    {
     "data": {
      "text/plain": [
       "False"
      ]
     },
     "execution_count": 3,
     "metadata": {},
     "output_type": "execute_result"
    }
   ],
   "source": [
    "\n",
    "cutter.contains([-9,7], epsilon=0.1)"
   ]
  },
  {
   "cell_type": "code",
   "execution_count": 4,
   "id": "6070d6b5",
   "metadata": {},
   "outputs": [
    {
     "data": {
      "text/plain": [
       "False"
      ]
     },
     "execution_count": 4,
     "metadata": {},
     "output_type": "execute_result"
    }
   ],
   "source": [
    "Shape.is_between(7, -1.25, 7.0, epsilon=0.1)"
   ]
  },
  {
   "cell_type": "code",
   "execution_count": 3,
   "id": "afc5a7b9",
   "metadata": {},
   "outputs": [],
   "source": [
    "\n",
    "#print(f\"Cutter points are: {cutter.points}\")\n",
    "#print(f\"Cutter lines are: {cutter.lines}\")\n",
    "# Set up the qubit counter and aux data structures\n",
    "qubit_count = QubitCount()\n",
    "qubit_data = QubitData()\n",
    "# Choose a tile\n",
    "tile = SquareDiamondTile\n",
    "# Basis for Tiling or get from Tile directly\n",
    "u = np.array([2,0])\n",
    "v = np.array([0,2])\n",
    "# Create Tiling lattice\n",
    "lattice = Lattice(u,v)\n",
    "#print(f\"lattice = {lattice}\")\n",
    "# Resrict the lattice for tiling\n",
    "lattice = lattice.restrict_for_tiling(cutter, tile=tile, expand_value=np.array([1,1]))\n"
   ]
  },
  {
   "cell_type": "code",
   "execution_count": 4,
   "id": "5e88f9f4",
   "metadata": {},
   "outputs": [
    {
     "data": {
      "text/plain": [
       "306"
      ]
     },
     "execution_count": 4,
     "metadata": {},
     "output_type": "execute_result"
    }
   ],
   "source": [
    "len(lattice.points)"
   ]
  },
  {
   "cell_type": "code",
   "execution_count": 5,
   "id": "c10555a4",
   "metadata": {},
   "outputs": [
    {
     "name": "stderr",
     "output_type": "stream",
     "text": [
      "/var/folders/2x/91_052m95314vcwbpzmfttp80000gn/T/ipykernel_86795/190639074.py:86: UserWarning: No orientation data\n",
      "  warnings.warn(\"No orientation data\")\n"
     ]
    }
   ],
   "source": [
    "#lattice = lattice.restrict_for_tiling(cutter, tile=tile)\n",
    "#print(f\"lattice = {lattice}\")\n",
    "# Tile the restriced lattice L_l with RSSC tiles\n",
    "tiling = Tiling(tile_type=tile, lattice=lattice, qubit_count=qubit_count, qubit_data=qubit_data)\n",
    "#print(f\"Number of faces in tiling :{len(tiling.faces)}\")\n",
    "#print(\"qubit_count.qubits_count\")\n",
    "#print(qubit_count.qubits_count)\n",
    "#print(\"Vertex ids in Tiling\")\n",
    "#print([vertex.id for vertex in tiling.vertices])\n",
    "# Find the intersection of the Tiles with the cutter\n",
    "is_inside = cutter.inside(tiling, on_boundary=boundary)\n",
    "# Set up new data stores\n",
    "new_qubit_data = QubitData()\n",
    "# Extract the intersected shell\n",
    "levels = [2,3,4]\n",
    "combine_strategy = True\n",
    "face_list = []\n",
    "for face in tiling.faces:\n",
    "    edges = []\n",
    "    vertices = face.vertices\n",
    "    # Extract those vertices from the shell that are inside the desired\n",
    "    # region\n",
    "    in_vertices = [item for item in vertices if is_inside[item]]\n",
    "    # Move to next face if current face does not contain any vertices\n",
    "    # in the desired region\n",
    "    if not len(in_vertices):\n",
    "        continue\n",
    "    \n",
    "    vertex_paths = []\n",
    "    # Process all the vertices until done\n",
    "    while len(in_vertices) > 0:\n",
    "        s_vertex = in_vertices.pop()\n",
    "        start = s_vertex\n",
    "        flag = True\n",
    "        vertex_path = [start]\n",
    "        while flag:\n",
    "            # See if the vertex belongs to any edges, if so grab a paired vertex\n",
    "            try:    \n",
    "                n_vertex = s_vertex.parents[0]\n",
    "                if is_inside[n_vertex]:\n",
    "                    vertex_path.append(n_vertex)\n",
    "                    in_vertices.remove(n_vertex)\n",
    "                    s_vertex = n_vertex\n",
    "                else:\n",
    "                    flag = False\n",
    "            except KeyError:\n",
    "                # Isolated vertex.\n",
    "                flag = False\n",
    "        \n",
    "        vertex_paths.append(vertex_path)\n",
    "    # Process the set of vertex paths to create edges\n",
    "    if combine_strategy:\n",
    "        lengths = [len(item) for item in vertex_paths]\n",
    "        weight = len(lengths)\n",
    "        if weight in levels:\n",
    "            for path in vertex_paths:\n",
    "                # Create the new vertices\n",
    "                new_path = [vertex.shallowcopy() for vertex in path]\n",
    "                # Copy over the qubit data for the vertices\n",
    "                for new_vertex, old_vertex in zip(new_path, path):\n",
    "                    # Set the qubit for new vertex to the same qubit as old vertex\n",
    "                    new_qubit_data.qubit[new_vertex.id]=qubit_data.qubit[old_vertex.id]\n",
    "                    # Record the use of the qubit\n",
    "                    qubit_count.increment_qubit(new_qubit_data.qubit[new_vertex.id])\n",
    "                    # Set the vertex operator\n",
    "                    new_qubit_data.operator[new_vertex.id] = qubit_data.operator[old_vertex.id]\n",
    "                # Create the new edges\n",
    "                if len(path) == 1:\n",
    "                    edges.append(Edge([new_path[0]]))\n",
    "                else:\n",
    "                    for index, vertex in enumerate(new_path[:-1]):\n",
    "                        edges.append(Edge([vertex,new_path[index+1]]))\n",
    "                    edges.append(Edge([new_path[-1], new_path[0]]))\n",
    "    else:\n",
    "        raise QiskitError(f\"Unknown combine strategy {combine_strategy}\")\n",
    "    \n",
    "    # Create the wireframe and face\n",
    "    if len(edges) > 0:\n",
    "        new_wf = WireFrame(edges)\n",
    "        new_face = Face(new_wf)\n",
    "        face_list.append(new_face)\n",
    "        # Set face data (Keep orientation even if face is strict subface)\n",
    "        try:\n",
    "            new_qubit_data.orientation[new_face.id]=qubit_data.orientation[face.id]\n",
    "        except KeyError:\n",
    "            warnings.warn(\"No orientation data\")\n",
    "                \n",
    "# Create the new shell\n",
    "new_shell = Shell(face_list)\n",
    "# Update the qubit_counts\n",
    "for vertex in tiling.vertices:\n",
    "    qubit_count.decrement_qubit(qubit_data.qubit[vertex.id])\n"
   ]
  },
  {
   "cell_type": "code",
   "execution_count": 7,
   "id": "4bc7b612",
   "metadata": {},
   "outputs": [
    {
     "name": "stderr",
     "output_type": "stream",
     "text": [
      "/var/folders/2x/91_052m95314vcwbpzmfttp80000gn/T/ipykernel_3762/1004754209.py:126: UserWarning: No orientation data\n",
      "  warnings.warn(\"No orientation data\")\n"
     ]
    }
   ],
   "source": [
    "a,b,c = RSSCFactory(23,manifold=Plane(), boundary=False, epsilon = 0.1, delta=0.25)"
   ]
  },
  {
   "cell_type": "code",
   "execution_count": 5,
   "id": "7725e5f1",
   "metadata": {},
   "outputs": [
    {
     "data": {
      "text/plain": [
       "(-2.1999999999999997, 2.2, -2.3, 4.3)"
      ]
     },
     "execution_count": 5,
     "metadata": {},
     "output_type": "execute_result"
    },
    {
     "data": {
      "image/png": "[encoded data removed]",
      "text/plain": [
       "<Figure size 720x720 with 1 Axes>"
      ]
     },
     "metadata": {
      "needs_background": "light"
     },
     "output_type": "display_data"
    }
   ],
   "source": [
    "import numpy as np \n",
    "import matplotlib.pyplot as plt\n",
    "\n",
    "fig = plt.figure(figsize=(10, 10))\n",
    "ax = fig.add_subplot(1, 1, 1)\n",
    "\n",
    "\n",
    "data_in = [list(item) for item in lattice.points]\n",
    "in_x = [v[0] for v in data_in]\n",
    "in_y = [v[1] for v in data_in]\n",
    "\n",
    "plt.scatter(in_x, in_y, s=100, label=\"in\")\n",
    "plt.axis('equal')\n"
   ]
  },
  {
   "cell_type": "code",
   "execution_count": 13,
   "id": "56b8162d",
   "metadata": {},
   "outputs": [
    {
     "data": {
      "text/plain": [
       "(-3.3, 3.3, -3.4, 5.4)"
      ]
     },
     "execution_count": 13,
     "metadata": {},
     "output_type": "execute_result"
    },
    {
     "data": {
      "image/png": "[encoded data removed]",
      "text/plain": [
       "<Figure size 720x720 with 1 Axes>"
      ]
     },
     "metadata": {
      "needs_background": "light"
     },
     "output_type": "display_data"
    }
   ],
   "source": [
    "import numpy as np \n",
    "import matplotlib.pyplot as plt\n",
    "\n",
    "\n",
    "stab = []\n",
    "for face in tiling.faces:\n",
    "    verts = []\n",
    "    for vertex in face.vertices:\n",
    "        verts.append(list(vertex.pos))\n",
    "    pauli = qubit_data.operator[vertex.id].__str__()\n",
    "    if pauli == 'X':\n",
    "        stab.append([verts, 'red'])\n",
    "    elif pauli == 'Z':\n",
    "        stab.append([verts, 'green'])\n",
    "    else:\n",
    "        stab.append([verts, 'blue'])\n",
    "\n",
    "\n",
    "\n",
    "\n",
    "\n",
    "fig = plt.figure(figsize=(10, 10))\n",
    "ax = fig.add_subplot(1, 1, 1)\n",
    "\n",
    "color = 'red'\n",
    "for stabilizer in stab:\n",
    "    ax.add_patch(plt.Polygon(stabilizer[0], color=stabilizer[1]))\n",
    "data_in = [list(vertex.pos) for vertex in tiling.vertices if is_inside[vertex]]\n",
    "in_x = [v[0] for v in data_in]\n",
    "in_y = [v[1] for v in data_in]\n",
    "data_out = [list(vertex.pos) for vertex in tiling.vertices if not is_inside[vertex]]\n",
    "out_x = [v[0] for v in data_out]\n",
    "out_y = [v[1] for v in data_out]\n",
    "plt.scatter(in_x, in_y, s=100, label=\"in\")\n",
    "plt.scatter(out_x, out_y, s=100, label=\"out\")\n",
    "plt.axis('equal')\n",
    "\n"
   ]
  },
  {
   "cell_type": "code",
   "execution_count": 11,
   "id": "d667d2f8",
   "metadata": {},
   "outputs": [],
   "source": [
    "def view(shell, qubit_data: QubitData,\n",
    "             figsize:Optional[Tuple[float, float]]=None,\n",
    "             xcolor:str=\"red\",\n",
    "             zcolor:str=\"green\",\n",
    "             ycolor:str=\"blue\")->None:\n",
    "    \"\"\"_summary_\n",
    "    Only works at the moment for CSS codes\n",
    "    Args:\n",
    "        qubit_data (QubitData): _description_\n",
    "        figsize (Optional[Tuple[float, float]], optional): _description_. Defaults to None.\n",
    "        xcolor (str, optional): _description_. Defaults to \"red\".\n",
    "        zcolor (str, optional): _description_. Defaults to \"green\".\n",
    "        ycolor (str, optional): _description_. Defaults to \"blue\".\n",
    "    \"\"\"\n",
    "    if figsize is None:\n",
    "        figsize=(10,10)\n",
    "    stab = []\n",
    "    for face in shell.faces:\n",
    "        verts = []\n",
    "        for vertex in face.vertices:\n",
    "            verts.append(list(vertex.pos))\n",
    "        pauli = qubit_data.operator[face.vertices[0].id].__str__()\n",
    "        if pauli == 'X':\n",
    "            stab.append([verts, xcolor])\n",
    "        elif pauli == 'Z':\n",
    "            stab.append([verts, zcolor])\n",
    "        else:\n",
    "            stab.append([verts, ycolor])\n",
    "    import matplotlib.pyplot as plt\n",
    "    fig = plt.figure(figsize=figsize)\n",
    "    ax = fig.add_subplot(1, 1, 1)\n",
    "    for stabilizer in stab:\n",
    "        ax.add_patch(plt.Polygon(stabilizer[0], color=stabilizer[1]))\n",
    "    plt.axis('equal')\n"
   ]
  },
  {
   "cell_type": "code",
   "execution_count": 12,
   "id": "b6e0498c",
   "metadata": {},
   "outputs": [
    {
     "data": {
      "image/png": "[encoded data removed]",
      "text/plain": [
       "<Figure size 720x720 with 1 Axes>"
      ]
     },
     "metadata": {
      "needs_background": "light"
     },
     "output_type": "display_data"
    }
   ],
   "source": [
    "view(new_shell, new_qubit_data)\n",
    "\n"
   ]
  },
  {
   "cell_type": "code",
   "execution_count": null,
   "id": "747b5250",
   "metadata": {},
   "outputs": [],
   "source": [
    "\n",
    "\n",
    "stab = []\n",
    "for face in new_shell.faces:\n",
    "    verts = []\n",
    "    for vertex in face.vertices:\n",
    "        verts.append(list(vertex.pos))\n",
    "    pauli = new_qubit_data.operator[face.vertices[0].id].__str__()\n",
    "    if pauli == 'X':\n",
    "        stab.append([verts, 'red'])\n",
    "    elif pauli == 'Z':\n",
    "        stab.append([verts, 'green'])\n",
    "    else:\n",
    "        stab.append([verts, 'blue'])\n",
    "\n",
    "import numpy as np \n",
    "\n",
    "import matplotlib.pyplot as plt\n",
    "\n",
    "fig = plt.figure(figsize=(10, 10))\n",
    "ax = fig.add_subplot(1, 1, 1)\n",
    "\n",
    "color = 'red'\n",
    "for stabilizer in stab:\n",
    "    ax.add_patch(plt.Polygon(stabilizer[0], color=stabilizer[1]))\n",
    "\n",
    "\n",
    "plt.axis('equal')\n",
    "\n"
   ]
  },
  {
   "cell_type": "code",
   "execution_count": 13,
   "id": "896b805e",
   "metadata": {},
   "outputs": [],
   "source": [
    "def shell2symplectic(shell: Shell, qubit_count:QubitCount, qubit_data:QubitData, from_index:Optional[Dict[int,int]]):\n",
    "    if from_index is None:\n",
    "        from_index = [qubit_id for qubit_id, count in qubit_count.qubits_count.items() if count != 0]\n",
    "        from_index = {index:qubit_id for index, qubit_id in enumerate(from_index)}\n",
    "\n",
    "    print(from_index)\n",
    "    for face in shell.faces:\n",
    "        pauli_str = ''\n",
    "        for vertex in face.vertices:\n",
    "            pauli_str += qubit_data.operator[vertex.id] + str(qubit_data.qubit[vertex.id])\n",
    "        print(pauli_str)\n"
   ]
  },
  {
   "cell_type": "code",
   "execution_count": 14,
   "metadata": {},
   "outputs": [
    {
     "ename": "TypeError",
     "evalue": "shell2symplectic() missing 1 required positional argument: 'from_index'",
     "output_type": "error",
     "traceback": [
      "\u001b[0;31m---------------------------------------------------------------------------\u001b[0m",
      "\u001b[0;31mTypeError\u001b[0m                                 Traceback (most recent call last)",
      "\u001b[1;32m/Users/dsvandet/Software/Private/qiskit-qec/geometry_test.ipynb Cell 35'\u001b[0m in \u001b[0;36m<cell line: 1>\u001b[0;34m()\u001b[0m\n\u001b[0;32m----> <a href='vscode-notebook-cell:/Users/dsvandet/Software/Private/qiskit-qec/geometry_test.ipynb#ch0000037?line=0'>1</a>\u001b[0m shell2symplectic(new_shell, qubit_count, qubit_data)\n",
      "\u001b[0;31mTypeError\u001b[0m: shell2symplectic() missing 1 required positional argument: 'from_index'"
     ]
    }
   ],
   "source": [
    "shell2symplectic(new_shell, qubit_count, qubit_data)"
   ]
  },
  {
   "cell_type": "code",
   "execution_count": 12,
   "id": "6b8baa7d",
   "metadata": {},
   "outputs": [],
   "source": [
    "def shell2symplectic(shell: Shell,\n",
    "                     qubit_data:QubitData, \n",
    "                     qubit_count:QubitCount, \n",
    "                     from_index:Optional[Dict[int,int]]=None,\n",
    "                     from_qubit:Optional[Dict[int,int]]=None)->PauliList:\n",
    "    if from_index is None:\n",
    "        from_index = [qubit_id for qubit_id, count in qubit_count.qubits_count.items() if count != 0]\n",
    "        from_index = {index:qubit_id for index, qubit_id in enumerate(from_index)}\n",
    "    if from_qubit is None:\n",
    "        from_qubit = {qubit_id:index for index, qubit_id in from_index.items()}\n",
    "\n",
    "    pauli_str_list = []\n",
    "    for face in shell.faces:\n",
    "        pauli_str = ''\n",
    "        for vertex in face.vertices:\n",
    "            pauli_str += qubit_data.operator[vertex.id].__str__() + str(from_qubit[qubit_data.qubit[vertex.id]])\n",
    "        pauli_str_list.append(pauli_str)\n",
    "    return PauliList(pauli_str_list)"
   ]
  },
  {
   "cell_type": "code",
   "execution_count": 13,
   "id": "fd7d05bb",
   "metadata": {},
   "outputs": [],
   "source": [
    "p = shell2symplectic(new_shell, qubit_count, new_qubit_data)"
   ]
  },
  {
   "cell_type": "code",
   "execution_count": 14,
   "id": "ed7640e6",
   "metadata": {},
   "outputs": [
    {
     "data": {
      "text/plain": [
       "PauliList(['IIIIIIIIZZZ', 'IIIIIIIXIXX', 'IIIIIXIIXXI', 'IIIZZZIIIII',\n",
       "           'IIIIIIZIZII', 'IIIXIIXIIII', 'IIXIIIIXIII', 'IZZIIIIIIII',\n",
       "           'IIIIIZIZIZI', 'IXIIXXIIIII', 'XIIXXIIIIII', 'ZZIIZIIIIII'])"
      ]
     },
     "execution_count": 14,
     "metadata": {},
     "output_type": "execute_result"
    }
   ],
   "source": [
    "p"
   ]
  },
  {
   "cell_type": "code",
   "execution_count": 19,
   "id": "da5d4721",
   "metadata": {},
   "outputs": [
    {
     "data": {
      "text/plain": [
       "{}"
      ]
     },
     "execution_count": 19,
     "metadata": {},
     "output_type": "execute_result"
    }
   ],
   "source": [
    "qubit_data.orientation"
   ]
  },
  {
   "cell_type": "code",
   "execution_count": 5,
   "id": "87101388",
   "metadata": {},
   "outputs": [],
   "source": []
  },
  {
   "cell_type": "code",
   "execution_count": 4,
   "id": "a77ab64f",
   "metadata": {},
   "outputs": [
    {
     "ename": "NameError",
     "evalue": "name 'is_inside_polygon' is not defined",
     "output_type": "error",
     "traceback": [
      "\u001b[0;31m---------------------------------------------------------------------------\u001b[0m",
      "\u001b[0;31mNameError\u001b[0m                                 Traceback (most recent call last)",
      "\u001b[1;32m/Users/dsvandet/Software/Private/qiskit-qec/geometry_test.ipynb Cell 32'\u001b[0m in \u001b[0;36m<cell line: 4>\u001b[0;34m()\u001b[0m\n\u001b[1;32m      <a href='vscode-notebook-cell:/Users/dsvandet/Software/Private/qiskit-qec/geometry_test.ipynb#ch0000056?line=0'>1</a>\u001b[0m polygon1 \u001b[39m=\u001b[39m [ (\u001b[39m0\u001b[39m, \u001b[39m0\u001b[39m), (\u001b[39m10\u001b[39m, \u001b[39m0\u001b[39m), (\u001b[39m10\u001b[39m, \u001b[39m10\u001b[39m), (\u001b[39m0\u001b[39m, \u001b[39m10\u001b[39m) ]\n\u001b[1;32m      <a href='vscode-notebook-cell:/Users/dsvandet/Software/Private/qiskit-qec/geometry_test.ipynb#ch0000056?line=2'>3</a>\u001b[0m p \u001b[39m=\u001b[39m (\u001b[39m20\u001b[39m, \u001b[39m20\u001b[39m)\n\u001b[0;32m----> <a href='vscode-notebook-cell:/Users/dsvandet/Software/Private/qiskit-qec/geometry_test.ipynb#ch0000056?line=3'>4</a>\u001b[0m \u001b[39mif\u001b[39;00m (is_inside_polygon(points \u001b[39m=\u001b[39m polygon1, p \u001b[39m=\u001b[39m p)):\n\u001b[1;32m      <a href='vscode-notebook-cell:/Users/dsvandet/Software/Private/qiskit-qec/geometry_test.ipynb#ch0000056?line=4'>5</a>\u001b[0m   \u001b[39mprint\u001b[39m (\u001b[39m'\u001b[39m\u001b[39mYes\u001b[39m\u001b[39m'\u001b[39m)\n\u001b[1;32m      <a href='vscode-notebook-cell:/Users/dsvandet/Software/Private/qiskit-qec/geometry_test.ipynb#ch0000056?line=5'>6</a>\u001b[0m \u001b[39melse\u001b[39;00m:\n",
      "\u001b[0;31mNameError\u001b[0m: name 'is_inside_polygon' is not defined"
     ]
    }
   ],
   "source": [
    "\n"
   ]
  },
  {
   "cell_type": "code",
   "execution_count": 9,
   "id": "0ad321d5",
   "metadata": {},
   "outputs": [],
   "source": [
    "a = float('inf')"
   ]
  },
  {
   "cell_type": "code",
   "execution_count": 10,
   "id": "b0868ee9",
   "metadata": {},
   "outputs": [
    {
     "data": {
      "text/plain": [
       "True"
      ]
     },
     "execution_count": 10,
     "metadata": {},
     "output_type": "execute_result"
    }
   ],
   "source": [
    "a == float('inf')"
   ]
  },
  {
   "cell_type": "code",
   "execution_count": 11,
   "id": "2e1b6040",
   "metadata": {},
   "outputs": [
    {
     "ename": "ZeroDivisionError",
     "evalue": "division by zero",
     "output_type": "error",
     "traceback": [
      "\u001b[0;31m---------------------------------------------------------------------------\u001b[0m",
      "\u001b[0;31mZeroDivisionError\u001b[0m                         Traceback (most recent call last)",
      "\u001b[1;32m/Users/dsvandet/Software/Private/qiskit-qec/geometry_test.ipynb Cell 35'\u001b[0m in \u001b[0;36m<cell line: 1>\u001b[0;34m()\u001b[0m\n\u001b[0;32m----> <a href='vscode-notebook-cell:/Users/dsvandet/Software/Private/qiskit-qec/geometry_test.ipynb#ch0000059?line=0'>1</a>\u001b[0m \u001b[39m1\u001b[39;49m\u001b[39m/\u001b[39;49m\u001b[39m0\u001b[39;49m\n",
      "\u001b[0;31mZeroDivisionError\u001b[0m: division by zero"
     ]
    }
   ],
   "source": [
    "1/0"
   ]
  },
  {
   "cell_type": "code",
   "execution_count": 13,
   "id": "64897450",
   "metadata": {},
   "outputs": [
    {
     "data": {
      "text/plain": [
       "8"
      ]
     },
     "execution_count": 13,
     "metadata": {},
     "output_type": "execute_result"
    }
   ],
   "source": [
    "2**3"
   ]
  },
  {
   "cell_type": "code",
   "execution_count": null,
   "id": "89cafaf9",
   "metadata": {},
   "outputs": [],
   "source": []
  }
 ],
 "metadata": {
  "kernelspec": {
   "display_name": "Python 3 (ipykernel)",
   "language": "python",
   "name": "python3"
  },
  "language_info": {
   "codemirror_mode": {
    "name": "ipython",
    "version": 3
   },
   "file_extension": ".py",
   "mimetype": "text/x-python",
   "name": "python",
   "nbconvert_exporter": "python",
   "pygments_lexer": "ipython3",
   "version": "3.9.12"
  }
 },
 "nbformat": 4,
 "nbformat_minor": 5
}
