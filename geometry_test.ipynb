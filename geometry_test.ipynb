{
 "cells": [
  {
   "cell_type": "code",
   "execution_count": 1,
   "id": "31498711-b49e-4e8e-88cc-7ba8d07580a2",
   "metadata": {},
   "outputs": [],
   "source": [
    "import numpy as np\n",
    "\n",
    "from ctypes import c_long\n",
    "\n",
    "from qiskit_qec.geometry.model.qubit_count import QubitCount\n",
    "from qiskit_qec.geometry.model.qubit_data import QubitData\n",
    "\n",
    "from qiskit_qec.geometry.tiles.RSSC import RSSC\n",
    "from qiskit_qec.geometry.shape import Shape\n",
    "from qiskit_qec.geometry.plane import Plane\n",
    "from qiskit_qec.geometry.lattice import Lattice\n",
    "from qiskit_qec.geometry.tiles.tiling import Tiling\n",
    "from qiskit_qec.geometry.model.shell import Shell"
   ]
  },
  {
   "cell_type": "code",
   "execution_count": 2,
   "id": "e129f5ce-d7fb-4959-8c07-a60268c94c85",
   "metadata": {},
   "outputs": [],
   "source": [
    "def make_code(d, manifold):\n",
    "    # Set parameters for RSSC code on the plane\n",
    "\n",
    "    # Create the bounding or cutter shape\n",
    "    cutter = Shape.square(origin=(0,-1), direction=(1,1), length=d-1, manifold=manifold, dtype=int)\n",
    "\n",
    "    # Set up the qubit counter and aux data structures\n",
    "    qubit_count = QubitCount()\n",
    "    qubit_data = QubitData()\n",
    "\n",
    "    #Choose a tile\n",
    "\n",
    "    tile = RSSC\n",
    "\n",
    "    # Basis for Tiling or get from Tile directly\n",
    "    u = np.array([2,0])\n",
    "    v = np.array([0,2])\n",
    "\n",
    "    # Create Tiling lattice\n",
    "    lattice = Lattice(u,v)\n",
    "\n",
    "    lattice = lattice.restrict_for_tiling(cutter, tile=tile, expand_value=np.array([0.5,0.5]))\n",
    "\n",
    "    # Tile the restriced lattice L_l with RSSC tiles\n",
    "    tiling = Tiling(tile_type=tile, lattice=lattice, qubit_count=qubit_count, qubit_data=qubit_data)\n",
    "\n",
    "    intersection = cutter.intersection(tiling)\n",
    "    \n",
    "    #sh = Shell([tiling.faces[0],tiling.faces[1]])\n",
    "    \n",
    "    return intersection\n",
    "output = make_code(d=3, manifold = Plane())"
   ]
  },
  {
   "cell_type": "code",
   "execution_count": 3,
   "id": "4128a551",
   "metadata": {},
   "outputs": [
    {
     "name": "stdout",
     "output_type": "stream",
     "text": [
      "16\n",
      "65\n",
      "74\n",
      "82\n",
      "123\n",
      "131\n",
      "140\n",
      "189\n"
     ]
    }
   ],
   "source": [
    "for face in output.faces.keys():\n",
    "    if len(output.faces[face][Shape.INSIDE]) == 3:\n",
    "        print(face.id)"
   ]
  },
  {
   "cell_type": "code",
   "execution_count": 3,
   "id": "da9c52f9-a4ed-4350-8104-d700d904e4fe",
   "metadata": {},
   "outputs": [
    {
     "data": {
      "text/plain": [
       "[[24, 41, 164, 181], [8, 32, 49, 57, 148, 156, 173, 197]]"
      ]
     },
     "execution_count": 3,
     "metadata": {},
     "output_type": "execute_result"
    }
   ],
   "source": [
    "tiling = Shell()\n",
    "for face in tiling.faces:\n",
    "    if face.id in parts[3]:\n",
    "        tiling.capture_face(face)\n",
    "    elif face.id in parts[2]:\n",
    "        del_vertices = \n",
    "        face.edit\n",
    "        tiling.capture_face(face)\n",
    "        "
   ]
  },
  {
   "cell_type": "code",
   "execution_count": 12,
   "id": "12c6fd56-3cac-4e7f-809d-b7c0cf2f6e96",
   "metadata": {},
   "outputs": [],
   "source": [
    "a = [len(part) for part in intersection.parts]"
   ]
  },
  {
   "cell_type": "code",
   "execution_count": 15,
   "id": "b0f16522-8413-4ab2-b7f0-10d08364ed5b",
   "metadata": {},
   "outputs": [
    {
     "data": {
      "text/plain": [
       "True"
      ]
     },
     "execution_count": 15,
     "metadata": {},
     "output_type": "execute_result"
    }
   ],
   "source": [
    "[len(part) for part in intersection.parts] == [4, 8, 4, 8]"
   ]
  },
  {
   "cell_type": "code",
   "execution_count": 8,
   "id": "12bf27c5-7377-4349-81ee-f68e5d72fcbf",
   "metadata": {},
   "outputs": [],
   "source": [
    "a = np.array([1,2])"
   ]
  },
  {
   "cell_type": "code",
   "execution_count": 5,
   "id": "c4f70876-44f2-4c5e-a09e-70ab7a941e1f",
   "metadata": {},
   "outputs": [],
   "source": [
    "   \n",
    "# Cull faces.operators with k<2 qubits inside P\n",
    "\n",
    "k=2\n",
    "for i in range(k):\n",
    "    # Update the auxillary data\n",
    "    for face in M.faces:\n",
    "        if face.id in part[i]:\n",
    "            for vertex in face.vertices:\n",
    "                qubit_id = qubit_data.qubit[vertex.id]\n",
    "                qubit_count.decrement_qubit(qubit_id)\n",
    "      \n",
    "    # Delete faces and components from shell\n",
    "    M.delete_subtree(part[i])\n",
    "    \n",
    "\n"
   ]
  },
  {
   "cell_type": "code",
   "execution_count": 6,
   "id": "6fdbd095-504d-4603-afdf-700241e42326",
   "metadata": {},
   "outputs": [],
   "source": [
    "import numpy as np\n",
    "from qiskit_qec.geometry.model.vertex import Vertex\n",
    "from qiskit_qec.geometry.model.edge import Edge\n",
    "from qiskit_qec.geometry.model.wireframe import WireFrame\n",
    "from qiskit_qec.geometry.model.face import Face\n",
    "from qiskit_qec.geometry.model.shell import Shell"
   ]
  },
  {
   "cell_type": "code",
   "execution_count": 7,
   "id": "f1d48f63-704d-4639-8986-fee3de111caa",
   "metadata": {},
   "outputs": [],
   "source": [
    " def make_test():\n",
    "    a = Vertex(np.array([1,1]))\n",
    "    b = Vertex(np.array([2,2]))\n",
    "    c = Vertex(np.array([3,3]))\n",
    "\n",
    "    e1 = Edge([a,b])\n",
    "    e2 = Edge([b,c])\n",
    "\n",
    "    wf = WireFrame([e1,e2])\n",
    "    f = Face(wf)\n",
    "\n",
    "    s = Shell([f])\n",
    "    \n",
    "    \n",
    "    return s"
   ]
  },
  {
   "cell_type": "code",
   "execution_count": 8,
   "id": "bc946145-d674-46af-b491-f04fe958a59f",
   "metadata": {},
   "outputs": [],
   "source": [
    "s = make_test()"
   ]
  },
  {
   "cell_type": "code",
   "execution_count": 9,
   "id": "1a3c9837-0688-4976-9016-61fb7c4f0d0f",
   "metadata": {},
   "outputs": [],
   "source": [
    "def del_test(s):\n",
    "    tf = s.faces\n",
    "    s = None\n",
    "    for face in tf:\n",
    "        twf = face.wireframe\n",
    "        face = None\n",
    "        for wireframe in [twf]:\n",
    "            tedges = wireframe.edges\n",
    "            wireframe = None\n",
    "            for edge in tedges:\n",
    "                tvertices = edge.vertices\n",
    "                edge = None\n",
    "                for vertex in tvertices:\n",
    "                    vertex = None\n"
   ]
  },
  {
   "cell_type": "code",
   "execution_count": 5,
   "id": "5ab3cb34-6d8a-4eac-b4ff-f390b1b2d001",
   "metadata": {},
   "outputs": [],
   "source": [
    "levels = 4\n",
    "partx = [[] for i in range(levels)]"
   ]
  },
  {
   "cell_type": "code",
   "execution_count": 7,
   "id": "ac7db4e4-dfa3-4be3-b851-11d9f54e0246",
   "metadata": {},
   "outputs": [],
   "source": [
    "partx[1].append(2)"
   ]
  },
  {
   "cell_type": "code",
   "execution_count": 8,
   "id": "728ab71e-93f3-4788-b175-a2ca00ccfa0f",
   "metadata": {},
   "outputs": [
    {
     "data": {
      "text/plain": [
       "[[], [2], [], []]"
      ]
     },
     "execution_count": 8,
     "metadata": {},
     "output_type": "execute_result"
    }
   ],
   "source": [
    "partx"
   ]
  },
  {
   "cell_type": "code",
   "execution_count": null,
   "id": "2273b707-de53-4033-ba1b-75e265b28e25",
   "metadata": {},
   "outputs": [],
   "source": []
  }
 ],
 "metadata": {
  "kernelspec": {
   "display_name": "Python 3 (ipykernel)",
   "language": "python",
   "name": "python3"
  },
  "language_info": {
   "codemirror_mode": {
    "name": "ipython",
    "version": 3
   },
   "file_extension": ".py",
   "mimetype": "text/x-python",
   "name": "python",
   "nbconvert_exporter": "python",
   "pygments_lexer": "ipython3",
   "version": "3.9.9"
  }
 },
 "nbformat": 4,
 "nbformat_minor": 5
}
